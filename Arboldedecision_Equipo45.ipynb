{
  "cells": [
    {
      "cell_type": "markdown",
      "metadata": {
        "id": "view-in-github",
        "colab_type": "text"
      },
      "source": [
        "<a href=\"https://colab.research.google.com/github/Edgar-IAH/IA-Grupo-45/blob/main/Arboldedecision_Equipo45.ipynb\" target=\"_parent\"><img src=\"https://colab.research.google.com/assets/colab-badge.svg\" alt=\"Open In Colab\"/></a>"
      ]
    },
    {
      "cell_type": "markdown",
      "metadata": {
        "id": "VFj0sSM06dYa"
      },
      "source": [
        "# **Maestría en Inteligencia Artificial Aplicada**\n",
        "## **Curso: Inteligencia Artificial y Aprendizaje Automático**\n",
        "### Tecnológico de Monterrey\n",
        "### Prof Luis Eduardo Falcón Morales\n",
        "\n",
        "## **Actividad de la Semana 6**\n",
        "### **Árboles de decisión y bosque aleatorio.**\n"
      ]
    },
    {
      "cell_type": "markdown",
      "metadata": {
        "id": "Qgrvy0RGB9XI"
      },
      "source": [
        "**Nombres y matrículas de los integrantes del equipo:**\n",
        "\n",
        "* Eduardo Aldair Ahumada García Jurado - A01422929\n",
        "* Edgar Rodolfo Escobar Gomez - A01793900\n",
        "* Walter André Hauri Rosales - A01794237\n",
        "* Héctor Salvador Montañez Alvarez - A01332665\n",
        "* Jaime Andres Palacios Campaña - A01794023"
      ]
    },
    {
      "cell_type": "markdown",
      "metadata": {
        "id": "FrJ2ahMODVj1"
      },
      "source": [
        "En cada sección deberás incluir todas las líneas de código necesarias para responder a cada uno de los ejercicios."
      ]
    },
    {
      "cell_type": "code",
      "execution_count": 22,
      "metadata": {
        "id": "exXsscs-Dh-2"
      },
      "outputs": [],
      "source": [
        "# Incluye aquí todos módulos, librerías y paquetes que requieras.\n",
        "import pandas as pd\n",
        "import numpy as np\n",
        "import matplotlib.pyplot as plt\n",
        "import seaborn as sns\n",
        "from sklearn.model_selection import train_test_split, GridSearchCV\n",
        "\n",
        "from sklearn.pipeline import Pipeline\n",
        "from sklearn.compose import ColumnTransformer\n",
        "\n",
        "from sklearn.impute import SimpleImputer\n",
        "from sklearn.preprocessing import MinMaxScaler, OneHotEncoder, StandardScaler\n",
        "\n",
        "from sklearn.linear_model import LogisticRegression\n",
        "from sklearn.tree import DecisionTreeClassifier\n",
        "from sklearn.ensemble import RandomForestClassifier\n",
        "\n",
        "# from sklearn.model_selection import cross_val_score\n",
        "from sklearn.model_selection import  cross_validate, learning_curve, validation_curve\n",
        "from sklearn.model_selection import RepeatedStratifiedKFold\n",
        "\n",
        "from sklearn.metrics import confusion_matrix, make_scorer\n",
        "\n",
        "# Adicionales--\n",
        "from sklearn.preprocessing import power_transform\n",
        "from sklearn.preprocessing import FunctionTransformer\n",
        "\n",
        "# Usados para pruebas unitarias de código\n",
        "from sklearn.datasets import make_moons, make_circles\n"
      ]
    },
    {
      "cell_type": "markdown",
      "metadata": {
        "id": "X25brD-gQdZM"
      },
      "source": [
        "# **Ejercicio-1.** \n",
        "\n",
        "## Carga de datos"
      ]
    },
    {
      "cell_type": "code",
      "execution_count": 23,
      "metadata": {
        "colab": {
          "base_uri": "https://localhost:8080/",
          "height": 394
        },
        "id": "3nU2GuWYCy6C",
        "outputId": "473ed639-45c3-4a3e-93ae-090da66e7b27"
      },
      "outputs": [
        {
          "output_type": "execute_result",
          "data": {
            "text/plain": [
              "            status     duration  credit_history      purpose       amount  \\\n",
              "count  1000.000000  1000.000000      1000.00000  1000.000000   1000.00000   \n",
              "mean      2.577000    20.903000         2.54500     2.828000   3271.24800   \n",
              "std       1.257638    12.058814         1.08312     2.744439   2822.75176   \n",
              "min       1.000000     4.000000         0.00000     0.000000    250.00000   \n",
              "25%       1.000000    12.000000         2.00000     1.000000   1365.50000   \n",
              "50%       2.000000    18.000000         2.00000     2.000000   2319.50000   \n",
              "75%       4.000000    24.000000         4.00000     3.000000   3972.25000   \n",
              "max       4.000000    72.000000         4.00000    10.000000  18424.00000   \n",
              "\n",
              "           savings  employment_duration  installment_rate  \\\n",
              "count  1000.000000          1000.000000       1000.000000   \n",
              "mean      2.105000             3.384000          2.973000   \n",
              "std       1.580023             1.208306          1.118715   \n",
              "min       1.000000             1.000000          1.000000   \n",
              "25%       1.000000             3.000000          2.000000   \n",
              "50%       1.000000             3.000000          3.000000   \n",
              "75%       3.000000             5.000000          4.000000   \n",
              "max       5.000000             5.000000          4.000000   \n",
              "\n",
              "       personal_status_sex  other_debtors  ...     property         age  \\\n",
              "count           1000.00000    1000.000000  ...  1000.000000  1000.00000   \n",
              "mean               2.68200       1.145000  ...     2.358000    35.54200   \n",
              "std                0.70808       0.477706  ...     1.050209    11.35267   \n",
              "min                1.00000       1.000000  ...     1.000000    19.00000   \n",
              "25%                2.00000       1.000000  ...     1.000000    27.00000   \n",
              "50%                3.00000       1.000000  ...     2.000000    33.00000   \n",
              "75%                3.00000       1.000000  ...     3.000000    42.00000   \n",
              "max                4.00000       3.000000  ...     4.000000    75.00000   \n",
              "\n",
              "       other_installment_plans      housing  number_credits          job  \\\n",
              "count              1000.000000  1000.000000     1000.000000  1000.000000   \n",
              "mean                  2.675000     1.928000        1.407000     2.904000   \n",
              "std                   0.705601     0.530186        0.577654     0.653614   \n",
              "min                   1.000000     1.000000        1.000000     1.000000   \n",
              "25%                   3.000000     2.000000        1.000000     3.000000   \n",
              "50%                   3.000000     2.000000        1.000000     3.000000   \n",
              "75%                   3.000000     2.000000        2.000000     3.000000   \n",
              "max                   3.000000     3.000000        4.000000     4.000000   \n",
              "\n",
              "       people_liable    telephone  foreign_worker  credit_risk  \n",
              "count    1000.000000  1000.000000     1000.000000  1000.000000  \n",
              "mean        1.845000     1.404000        1.963000     0.700000  \n",
              "std         0.362086     0.490943        0.188856     0.458487  \n",
              "min         1.000000     1.000000        1.000000     0.000000  \n",
              "25%         2.000000     1.000000        2.000000     0.000000  \n",
              "50%         2.000000     1.000000        2.000000     1.000000  \n",
              "75%         2.000000     2.000000        2.000000     1.000000  \n",
              "max         2.000000     2.000000        2.000000     1.000000  \n",
              "\n",
              "[8 rows x 21 columns]"
            ],
            "text/html": [
              "\n",
              "  <div id=\"df-6217f5e1-419f-4dac-b2f4-4f324e11c4e5\">\n",
              "    <div class=\"colab-df-container\">\n",
              "      <div>\n",
              "<style scoped>\n",
              "    .dataframe tbody tr th:only-of-type {\n",
              "        vertical-align: middle;\n",
              "    }\n",
              "\n",
              "    .dataframe tbody tr th {\n",
              "        vertical-align: top;\n",
              "    }\n",
              "\n",
              "    .dataframe thead th {\n",
              "        text-align: right;\n",
              "    }\n",
              "</style>\n",
              "<table border=\"1\" class=\"dataframe\">\n",
              "  <thead>\n",
              "    <tr style=\"text-align: right;\">\n",
              "      <th></th>\n",
              "      <th>status</th>\n",
              "      <th>duration</th>\n",
              "      <th>credit_history</th>\n",
              "      <th>purpose</th>\n",
              "      <th>amount</th>\n",
              "      <th>savings</th>\n",
              "      <th>employment_duration</th>\n",
              "      <th>installment_rate</th>\n",
              "      <th>personal_status_sex</th>\n",
              "      <th>other_debtors</th>\n",
              "      <th>...</th>\n",
              "      <th>property</th>\n",
              "      <th>age</th>\n",
              "      <th>other_installment_plans</th>\n",
              "      <th>housing</th>\n",
              "      <th>number_credits</th>\n",
              "      <th>job</th>\n",
              "      <th>people_liable</th>\n",
              "      <th>telephone</th>\n",
              "      <th>foreign_worker</th>\n",
              "      <th>credit_risk</th>\n",
              "    </tr>\n",
              "  </thead>\n",
              "  <tbody>\n",
              "    <tr>\n",
              "      <th>count</th>\n",
              "      <td>1000.000000</td>\n",
              "      <td>1000.000000</td>\n",
              "      <td>1000.00000</td>\n",
              "      <td>1000.000000</td>\n",
              "      <td>1000.00000</td>\n",
              "      <td>1000.000000</td>\n",
              "      <td>1000.000000</td>\n",
              "      <td>1000.000000</td>\n",
              "      <td>1000.00000</td>\n",
              "      <td>1000.000000</td>\n",
              "      <td>...</td>\n",
              "      <td>1000.000000</td>\n",
              "      <td>1000.00000</td>\n",
              "      <td>1000.000000</td>\n",
              "      <td>1000.000000</td>\n",
              "      <td>1000.000000</td>\n",
              "      <td>1000.000000</td>\n",
              "      <td>1000.000000</td>\n",
              "      <td>1000.000000</td>\n",
              "      <td>1000.000000</td>\n",
              "      <td>1000.000000</td>\n",
              "    </tr>\n",
              "    <tr>\n",
              "      <th>mean</th>\n",
              "      <td>2.577000</td>\n",
              "      <td>20.903000</td>\n",
              "      <td>2.54500</td>\n",
              "      <td>2.828000</td>\n",
              "      <td>3271.24800</td>\n",
              "      <td>2.105000</td>\n",
              "      <td>3.384000</td>\n",
              "      <td>2.973000</td>\n",
              "      <td>2.68200</td>\n",
              "      <td>1.145000</td>\n",
              "      <td>...</td>\n",
              "      <td>2.358000</td>\n",
              "      <td>35.54200</td>\n",
              "      <td>2.675000</td>\n",
              "      <td>1.928000</td>\n",
              "      <td>1.407000</td>\n",
              "      <td>2.904000</td>\n",
              "      <td>1.845000</td>\n",
              "      <td>1.404000</td>\n",
              "      <td>1.963000</td>\n",
              "      <td>0.700000</td>\n",
              "    </tr>\n",
              "    <tr>\n",
              "      <th>std</th>\n",
              "      <td>1.257638</td>\n",
              "      <td>12.058814</td>\n",
              "      <td>1.08312</td>\n",
              "      <td>2.744439</td>\n",
              "      <td>2822.75176</td>\n",
              "      <td>1.580023</td>\n",
              "      <td>1.208306</td>\n",
              "      <td>1.118715</td>\n",
              "      <td>0.70808</td>\n",
              "      <td>0.477706</td>\n",
              "      <td>...</td>\n",
              "      <td>1.050209</td>\n",
              "      <td>11.35267</td>\n",
              "      <td>0.705601</td>\n",
              "      <td>0.530186</td>\n",
              "      <td>0.577654</td>\n",
              "      <td>0.653614</td>\n",
              "      <td>0.362086</td>\n",
              "      <td>0.490943</td>\n",
              "      <td>0.188856</td>\n",
              "      <td>0.458487</td>\n",
              "    </tr>\n",
              "    <tr>\n",
              "      <th>min</th>\n",
              "      <td>1.000000</td>\n",
              "      <td>4.000000</td>\n",
              "      <td>0.00000</td>\n",
              "      <td>0.000000</td>\n",
              "      <td>250.00000</td>\n",
              "      <td>1.000000</td>\n",
              "      <td>1.000000</td>\n",
              "      <td>1.000000</td>\n",
              "      <td>1.00000</td>\n",
              "      <td>1.000000</td>\n",
              "      <td>...</td>\n",
              "      <td>1.000000</td>\n",
              "      <td>19.00000</td>\n",
              "      <td>1.000000</td>\n",
              "      <td>1.000000</td>\n",
              "      <td>1.000000</td>\n",
              "      <td>1.000000</td>\n",
              "      <td>1.000000</td>\n",
              "      <td>1.000000</td>\n",
              "      <td>1.000000</td>\n",
              "      <td>0.000000</td>\n",
              "    </tr>\n",
              "    <tr>\n",
              "      <th>25%</th>\n",
              "      <td>1.000000</td>\n",
              "      <td>12.000000</td>\n",
              "      <td>2.00000</td>\n",
              "      <td>1.000000</td>\n",
              "      <td>1365.50000</td>\n",
              "      <td>1.000000</td>\n",
              "      <td>3.000000</td>\n",
              "      <td>2.000000</td>\n",
              "      <td>2.00000</td>\n",
              "      <td>1.000000</td>\n",
              "      <td>...</td>\n",
              "      <td>1.000000</td>\n",
              "      <td>27.00000</td>\n",
              "      <td>3.000000</td>\n",
              "      <td>2.000000</td>\n",
              "      <td>1.000000</td>\n",
              "      <td>3.000000</td>\n",
              "      <td>2.000000</td>\n",
              "      <td>1.000000</td>\n",
              "      <td>2.000000</td>\n",
              "      <td>0.000000</td>\n",
              "    </tr>\n",
              "    <tr>\n",
              "      <th>50%</th>\n",
              "      <td>2.000000</td>\n",
              "      <td>18.000000</td>\n",
              "      <td>2.00000</td>\n",
              "      <td>2.000000</td>\n",
              "      <td>2319.50000</td>\n",
              "      <td>1.000000</td>\n",
              "      <td>3.000000</td>\n",
              "      <td>3.000000</td>\n",
              "      <td>3.00000</td>\n",
              "      <td>1.000000</td>\n",
              "      <td>...</td>\n",
              "      <td>2.000000</td>\n",
              "      <td>33.00000</td>\n",
              "      <td>3.000000</td>\n",
              "      <td>2.000000</td>\n",
              "      <td>1.000000</td>\n",
              "      <td>3.000000</td>\n",
              "      <td>2.000000</td>\n",
              "      <td>1.000000</td>\n",
              "      <td>2.000000</td>\n",
              "      <td>1.000000</td>\n",
              "    </tr>\n",
              "    <tr>\n",
              "      <th>75%</th>\n",
              "      <td>4.000000</td>\n",
              "      <td>24.000000</td>\n",
              "      <td>4.00000</td>\n",
              "      <td>3.000000</td>\n",
              "      <td>3972.25000</td>\n",
              "      <td>3.000000</td>\n",
              "      <td>5.000000</td>\n",
              "      <td>4.000000</td>\n",
              "      <td>3.00000</td>\n",
              "      <td>1.000000</td>\n",
              "      <td>...</td>\n",
              "      <td>3.000000</td>\n",
              "      <td>42.00000</td>\n",
              "      <td>3.000000</td>\n",
              "      <td>2.000000</td>\n",
              "      <td>2.000000</td>\n",
              "      <td>3.000000</td>\n",
              "      <td>2.000000</td>\n",
              "      <td>2.000000</td>\n",
              "      <td>2.000000</td>\n",
              "      <td>1.000000</td>\n",
              "    </tr>\n",
              "    <tr>\n",
              "      <th>max</th>\n",
              "      <td>4.000000</td>\n",
              "      <td>72.000000</td>\n",
              "      <td>4.00000</td>\n",
              "      <td>10.000000</td>\n",
              "      <td>18424.00000</td>\n",
              "      <td>5.000000</td>\n",
              "      <td>5.000000</td>\n",
              "      <td>4.000000</td>\n",
              "      <td>4.00000</td>\n",
              "      <td>3.000000</td>\n",
              "      <td>...</td>\n",
              "      <td>4.000000</td>\n",
              "      <td>75.00000</td>\n",
              "      <td>3.000000</td>\n",
              "      <td>3.000000</td>\n",
              "      <td>4.000000</td>\n",
              "      <td>4.000000</td>\n",
              "      <td>2.000000</td>\n",
              "      <td>2.000000</td>\n",
              "      <td>2.000000</td>\n",
              "      <td>1.000000</td>\n",
              "    </tr>\n",
              "  </tbody>\n",
              "</table>\n",
              "<p>8 rows × 21 columns</p>\n",
              "</div>\n",
              "      <button class=\"colab-df-convert\" onclick=\"convertToInteractive('df-6217f5e1-419f-4dac-b2f4-4f324e11c4e5')\"\n",
              "              title=\"Convert this dataframe to an interactive table.\"\n",
              "              style=\"display:none;\">\n",
              "        \n",
              "  <svg xmlns=\"http://www.w3.org/2000/svg\" height=\"24px\"viewBox=\"0 0 24 24\"\n",
              "       width=\"24px\">\n",
              "    <path d=\"M0 0h24v24H0V0z\" fill=\"none\"/>\n",
              "    <path d=\"M18.56 5.44l.94 2.06.94-2.06 2.06-.94-2.06-.94-.94-2.06-.94 2.06-2.06.94zm-11 1L8.5 8.5l.94-2.06 2.06-.94-2.06-.94L8.5 2.5l-.94 2.06-2.06.94zm10 10l.94 2.06.94-2.06 2.06-.94-2.06-.94-.94-2.06-.94 2.06-2.06.94z\"/><path d=\"M17.41 7.96l-1.37-1.37c-.4-.4-.92-.59-1.43-.59-.52 0-1.04.2-1.43.59L10.3 9.45l-7.72 7.72c-.78.78-.78 2.05 0 2.83L4 21.41c.39.39.9.59 1.41.59.51 0 1.02-.2 1.41-.59l7.78-7.78 2.81-2.81c.8-.78.8-2.07 0-2.86zM5.41 20L4 18.59l7.72-7.72 1.47 1.35L5.41 20z\"/>\n",
              "  </svg>\n",
              "      </button>\n",
              "      \n",
              "  <style>\n",
              "    .colab-df-container {\n",
              "      display:flex;\n",
              "      flex-wrap:wrap;\n",
              "      gap: 12px;\n",
              "    }\n",
              "\n",
              "    .colab-df-convert {\n",
              "      background-color: #E8F0FE;\n",
              "      border: none;\n",
              "      border-radius: 50%;\n",
              "      cursor: pointer;\n",
              "      display: none;\n",
              "      fill: #1967D2;\n",
              "      height: 32px;\n",
              "      padding: 0 0 0 0;\n",
              "      width: 32px;\n",
              "    }\n",
              "\n",
              "    .colab-df-convert:hover {\n",
              "      background-color: #E2EBFA;\n",
              "      box-shadow: 0px 1px 2px rgba(60, 64, 67, 0.3), 0px 1px 3px 1px rgba(60, 64, 67, 0.15);\n",
              "      fill: #174EA6;\n",
              "    }\n",
              "\n",
              "    [theme=dark] .colab-df-convert {\n",
              "      background-color: #3B4455;\n",
              "      fill: #D2E3FC;\n",
              "    }\n",
              "\n",
              "    [theme=dark] .colab-df-convert:hover {\n",
              "      background-color: #434B5C;\n",
              "      box-shadow: 0px 1px 3px 1px rgba(0, 0, 0, 0.15);\n",
              "      filter: drop-shadow(0px 1px 2px rgba(0, 0, 0, 0.3));\n",
              "      fill: #FFFFFF;\n",
              "    }\n",
              "  </style>\n",
              "\n",
              "      <script>\n",
              "        const buttonEl =\n",
              "          document.querySelector('#df-6217f5e1-419f-4dac-b2f4-4f324e11c4e5 button.colab-df-convert');\n",
              "        buttonEl.style.display =\n",
              "          google.colab.kernel.accessAllowed ? 'block' : 'none';\n",
              "\n",
              "        async function convertToInteractive(key) {\n",
              "          const element = document.querySelector('#df-6217f5e1-419f-4dac-b2f4-4f324e11c4e5');\n",
              "          const dataTable =\n",
              "            await google.colab.kernel.invokeFunction('convertToInteractive',\n",
              "                                                     [key], {});\n",
              "          if (!dataTable) return;\n",
              "\n",
              "          const docLinkHtml = 'Like what you see? Visit the ' +\n",
              "            '<a target=\"_blank\" href=https://colab.research.google.com/notebooks/data_table.ipynb>data table notebook</a>'\n",
              "            + ' to learn more about interactive tables.';\n",
              "          element.innerHTML = '';\n",
              "          dataTable['output_type'] = 'display_data';\n",
              "          await google.colab.output.renderOutput(dataTable, element);\n",
              "          const docLink = document.createElement('div');\n",
              "          docLink.innerHTML = docLinkHtml;\n",
              "          element.appendChild(docLink);\n",
              "        }\n",
              "      </script>\n",
              "    </div>\n",
              "  </div>\n",
              "  "
            ]
          },
          "metadata": {},
          "execution_count": 23
        }
      ],
      "source": [
        "# Cargamos la base de datos con los nombres de las columnnas traducidos a Inglés\n",
        "# Este archivo se encuentra en nuestro repositorio github público:\n",
        "# https://raw.githubusercontent.com/Edgar-IAH/IA-Grupo-45/main/SouthGermanCredit_Translated.csv\n",
        "\n",
        "datos = pd.read_csv(\"https://raw.githubusercontent.com/Edgar-IAH/IA-Grupo-45/main/SouthGermanCredit_Translated.csv\")\n",
        "### USAR LA SIGUIENTE LINEA UNICAMENTE CUANDO EL ARCHIVO DE DATOS SEA LOCAL\n",
        "#datos = pd.read_csv(\"SouthGermanCredit_Translated.csv\")\n",
        "\n",
        "datos.describe()\n"
      ]
    },
    {
      "cell_type": "markdown",
      "metadata": {
        "id": "xZhr2hkECzVv"
      },
      "source": [
        "# **Ejercicio-2.**\n",
        "\n",
        "## Creación de la estructuras de datos de entrenamiento (_train) y prueba (_test)\n"
      ]
    },
    {
      "cell_type": "code",
      "execution_count": 24,
      "metadata": {
        "id": "gn2md8JlR-61"
      },
      "outputs": [],
      "source": [
        "# imputacion por moda - Categóricos\n",
        "datos_cat = [\n",
        "    \"status\",\n",
        "    \"credit_history\",\n",
        "    \"purpose\",\n",
        "    \"savings\",\n",
        "    \"personal_status_sex\",\n",
        "    \"other_debtors\",\n",
        "    \"other_installment_plans\",\n",
        "    \"housing\",\n",
        "]\n",
        "\n",
        "# imputacion por moda - Ordinales\n",
        "datos_ord = [\n",
        "    \"employment_duration\",\n",
        "    \"installment_rate\",\n",
        "    \"present_residence\",\n",
        "    \"property\",\n",
        "    \"number_credits\",\n",
        "    \"job\",\n",
        "]\n",
        "\n",
        "# imputacion por media/mediana - Numéricos\n",
        "datos_num = [\"duration\", \"amount\", \"age\"]\n",
        "\n",
        "# imputacion por moda - Binarios\n",
        "datos_bin = [\"people_liable\", \"telephone\", \"foreign_worker\"]"
      ]
    },
    {
      "cell_type": "code",
      "execution_count": 25,
      "metadata": {
        "colab": {
          "base_uri": "https://localhost:8080/"
        },
        "id": "kGfAoOPkC1PP",
        "outputId": "befde8c2-efe4-49e4-c0dc-db829e7fa5dc"
      },
      "outputs": [
        {
          "output_type": "stream",
          "name": "stdout",
          "text": [
            "(850, 20) : dimensión de datos de entrada de entrenamiento y validación\n",
            "(150, 20) : dimensión de datos de entrada de prueba\n",
            "(850,) : dimensión de variable de salida para entrenamiento y validación\n",
            "(150,) : dimensión de variable de salida para prueba\n"
          ]
        }
      ],
      "source": [
        "# Los datos de entrada son todas las columnas excepto la última\n",
        "X = datos.iloc[:, :-1]\n",
        "# La variable de salida se encuentra en la última columna\n",
        "Y = datos.iloc[:, -1]\n",
        "\n",
        "# Usamos la función train_test_split de la libreria sklearn\n",
        "# Fijamos el generador de números aleatorios con el fin de que los conjuntos\n",
        "# no cambien en cada corrida\n",
        "X_train, X_test, Y_train, Y_test = train_test_split(\n",
        "    X, Y, test_size=0.15, random_state=45\n",
        ")\n",
        "\n",
        "# Chequeamos el tamaño de los conjuntos obtenidos\n",
        "print(X_train.shape, \": dimensión de datos de entrada de entrenamiento y validación\")\n",
        "print(X_test.shape, \": dimensión de datos de entrada de prueba\")\n",
        "print(\n",
        "    Y_train.shape, \": dimensión de variable de salida para entrenamiento y validación\"\n",
        ")\n",
        "print(Y_test.shape, \": dimensión de variable de salida para prueba\")\n"
      ]
    },
    {
      "cell_type": "code",
      "execution_count": 26,
      "metadata": {
        "colab": {
          "base_uri": "https://localhost:8080/",
          "height": 882
        },
        "id": "LNaQulf7xAzP",
        "outputId": "a4b53b33-14ea-48e0-9b09-7f462a00b288"
      },
      "outputs": [
        {
          "output_type": "display_data",
          "data": {
            "text/plain": [
              "<Figure size 1224x864 with 21 Axes>"
            ],
            "image/png": "[encoded data removed]"
          },
          "metadata": {}
        }
      ],
      "source": [
        "# En esta sección creamos los histogramas sin transformaciones\n",
        "# para darnos una idea de las distribuciones\n",
        "\n",
        "# Tamaño de la gráfica\n",
        "sns.set(rc={\"figure.figsize\": (17, 12)})\n",
        "# Crea el espacio de trabajo como una matriz de 3 x 7 = 21 variables\n",
        "fig, axes = plt.subplots(3, 7)\n",
        "# Espacio entre gráficas\n",
        "fig.tight_layout(h_pad=5.0)\n",
        "\n",
        "# Grafica los histogramas uno por uno\n",
        "for k in range(0, 21):\n",
        "    # Posición sequencial. Van de 1 a 21 en este caso (no 0)\n",
        "    plt.subplot(3, 7, k + 1)\n",
        "    # Número de valores diferentes.\n",
        "    buckets = datos.iloc[:, k].nunique()\n",
        "    # Si el número de valores es mayor de 10, declara el número de buckets como 15\n",
        "    # si es <=10 usa ese número de buckets\n",
        "    if buckets > 10:\n",
        "        buckets = 15\n",
        "    # Crea el histograma\n",
        "    datos.iloc[:, k].hist(bins=buckets)\n",
        "    # Nombra el eje X de acuerdo a la columna que está siendo visualizada\n",
        "    plt.xlabel(datos.columns[k])\n",
        "# Despliega la figura con las 21 gráficas\n",
        "plt.show()\n"
      ]
    },
    {
      "cell_type": "markdown",
      "metadata": {
        "id": "NCunuooTC2W3"
      },
      "source": [
        "# **Ejercicio-3.**\n",
        "## Primera approximación\n",
        "## Transformaciones:\n",
        "* categórica (categorical),\n",
        "* ordinal (discretized quantitative),\n",
        "* numérica (quantitative), y \n",
        "* binaria (binary).\n"
      ]
    },
    {
      "cell_type": "code",
      "execution_count": 27,
      "metadata": {
        "colab": {
          "base_uri": "https://localhost:8080/"
        },
        "id": "swG3FDdhxEuq",
        "outputId": "b36248e9-1662-4214-ba50-12b6961ffef0"
      },
      "outputs": [
        {
          "output_type": "stream",
          "name": "stdout",
          "text": [
            "<class 'pandas.core.frame.DataFrame'>\n",
            "RangeIndex: 1000 entries, 0 to 999\n",
            "Data columns (total 21 columns):\n",
            " #   Column                   Non-Null Count  Dtype\n",
            "---  ------                   --------------  -----\n",
            " 0   status                   1000 non-null   int64\n",
            " 1   duration                 1000 non-null   int64\n",
            " 2   credit_history           1000 non-null   int64\n",
            " 3   purpose                  1000 non-null   int64\n",
            " 4   amount                   1000 non-null   int64\n",
            " 5   savings                  1000 non-null   int64\n",
            " 6   employment_duration      1000 non-null   int64\n",
            " 7   installment_rate         1000 non-null   int64\n",
            " 8   personal_status_sex      1000 non-null   int64\n",
            " 9   other_debtors            1000 non-null   int64\n",
            " 10  present_residence        1000 non-null   int64\n",
            " 11  property                 1000 non-null   int64\n",
            " 12  age                      1000 non-null   int64\n",
            " 13  other_installment_plans  1000 non-null   int64\n",
            " 14  housing                  1000 non-null   int64\n",
            " 15  number_credits           1000 non-null   int64\n",
            " 16  job                      1000 non-null   int64\n",
            " 17  people_liable            1000 non-null   int64\n",
            " 18  telephone                1000 non-null   int64\n",
            " 19  foreign_worker           1000 non-null   int64\n",
            " 20  credit_risk              1000 non-null   int64\n",
            "dtypes: int64(21)\n",
            "memory usage: 164.2 KB\n"
          ]
        }
      ],
      "source": [
        "#Chequeamos si existen datos nulos. No esperamos ninguno ya que la base de datos\n",
        "#que estamos usando ya ha sido limpiada anteriormente\n",
        "datos.info()\n"
      ]
    },
    {
      "cell_type": "code",
      "execution_count": 28,
      "metadata": {
        "colab": {
          "base_uri": "https://localhost:8080/",
          "height": 488
        },
        "id": "e2ztEQDuxEuq",
        "outputId": "6ec59456-8b60-4b5e-ef8c-1cf34a8e1f69"
      },
      "outputs": [
        {
          "output_type": "execute_result",
          "data": {
            "text/plain": [
              "     status  duration  credit_history  purpose  amount  savings  \\\n",
              "0         1        18               4        2    1049        1   \n",
              "1         1         9               4        0    2799        1   \n",
              "2         2        12               2        9     841        2   \n",
              "3         1        12               4        0    2122        1   \n",
              "4         1        12               4        0    2171        1   \n",
              "..      ...       ...             ...      ...     ...      ...   \n",
              "995       1        24               2        3    1987        1   \n",
              "996       1        24               2        0    2303        1   \n",
              "997       4        21               4        0   12680        5   \n",
              "998       2        12               2        3    6468        5   \n",
              "999       1        30               2        2    6350        5   \n",
              "\n",
              "     employment_duration  installment_rate  personal_status_sex  \\\n",
              "0                      2                 4                    2   \n",
              "1                      3                 2                    3   \n",
              "2                      4                 2                    2   \n",
              "3                      3                 3                    3   \n",
              "4                      3                 4                    3   \n",
              "..                   ...               ...                  ...   \n",
              "995                    3                 2                    3   \n",
              "996                    5                 4                    3   \n",
              "997                    5                 4                    3   \n",
              "998                    1                 2                    3   \n",
              "999                    5                 4                    3   \n",
              "\n",
              "     other_debtors  ...  property  age  other_installment_plans  housing  \\\n",
              "0                1  ...         2   21                        3        1   \n",
              "1                1  ...         1   36                        3        1   \n",
              "2                1  ...         1   23                        3        1   \n",
              "3                1  ...         1   39                        3        1   \n",
              "4                1  ...         2   38                        1        2   \n",
              "..             ...  ...       ...  ...                      ...      ...   \n",
              "995              1  ...         1   21                        3        1   \n",
              "996              2  ...         1   45                        3        2   \n",
              "997              1  ...         4   30                        3        3   \n",
              "998              1  ...         4   52                        3        2   \n",
              "999              1  ...         2   31                        3        2   \n",
              "\n",
              "     number_credits  job  people_liable  telephone  foreign_worker  \\\n",
              "0                 1    3              2          1               2   \n",
              "1                 2    3              1          1               2   \n",
              "2                 1    2              2          1               2   \n",
              "3                 2    2              1          1               1   \n",
              "4                 2    2              2          1               1   \n",
              "..              ...  ...            ...        ...             ...   \n",
              "995               1    2              1          1               2   \n",
              "996               1    3              2          1               2   \n",
              "997               1    4              2          2               2   \n",
              "998               1    4              2          2               2   \n",
              "999               1    3              2          1               2   \n",
              "\n",
              "     credit_risk  \n",
              "0              1  \n",
              "1              1  \n",
              "2              1  \n",
              "3              1  \n",
              "4              1  \n",
              "..           ...  \n",
              "995            0  \n",
              "996            0  \n",
              "997            0  \n",
              "998            0  \n",
              "999            0  \n",
              "\n",
              "[1000 rows x 21 columns]"
            ],
            "text/html": [
              "\n",
              "  <div id=\"df-94d2ea84-52d1-4efe-96ed-406ec63286b7\">\n",
              "    <div class=\"colab-df-container\">\n",
              "      <div>\n",
              "<style scoped>\n",
              "    .dataframe tbody tr th:only-of-type {\n",
              "        vertical-align: middle;\n",
              "    }\n",
              "\n",
              "    .dataframe tbody tr th {\n",
              "        vertical-align: top;\n",
              "    }\n",
              "\n",
              "    .dataframe thead th {\n",
              "        text-align: right;\n",
              "    }\n",
              "</style>\n",
              "<table border=\"1\" class=\"dataframe\">\n",
              "  <thead>\n",
              "    <tr style=\"text-align: right;\">\n",
              "      <th></th>\n",
              "      <th>status</th>\n",
              "      <th>duration</th>\n",
              "      <th>credit_history</th>\n",
              "      <th>purpose</th>\n",
              "      <th>amount</th>\n",
              "      <th>savings</th>\n",
              "      <th>employment_duration</th>\n",
              "      <th>installment_rate</th>\n",
              "      <th>personal_status_sex</th>\n",
              "      <th>other_debtors</th>\n",
              "      <th>...</th>\n",
              "      <th>property</th>\n",
              "      <th>age</th>\n",
              "      <th>other_installment_plans</th>\n",
              "      <th>housing</th>\n",
              "      <th>number_credits</th>\n",
              "      <th>job</th>\n",
              "      <th>people_liable</th>\n",
              "      <th>telephone</th>\n",
              "      <th>foreign_worker</th>\n",
              "      <th>credit_risk</th>\n",
              "    </tr>\n",
              "  </thead>\n",
              "  <tbody>\n",
              "    <tr>\n",
              "      <th>0</th>\n",
              "      <td>1</td>\n",
              "      <td>18</td>\n",
              "      <td>4</td>\n",
              "      <td>2</td>\n",
              "      <td>1049</td>\n",
              "      <td>1</td>\n",
              "      <td>2</td>\n",
              "      <td>4</td>\n",
              "      <td>2</td>\n",
              "      <td>1</td>\n",
              "      <td>...</td>\n",
              "      <td>2</td>\n",
              "      <td>21</td>\n",
              "      <td>3</td>\n",
              "      <td>1</td>\n",
              "      <td>1</td>\n",
              "      <td>3</td>\n",
              "      <td>2</td>\n",
              "      <td>1</td>\n",
              "      <td>2</td>\n",
              "      <td>1</td>\n",
              "    </tr>\n",
              "    <tr>\n",
              "      <th>1</th>\n",
              "      <td>1</td>\n",
              "      <td>9</td>\n",
              "      <td>4</td>\n",
              "      <td>0</td>\n",
              "      <td>2799</td>\n",
              "      <td>1</td>\n",
              "      <td>3</td>\n",
              "      <td>2</td>\n",
              "      <td>3</td>\n",
              "      <td>1</td>\n",
              "      <td>...</td>\n",
              "      <td>1</td>\n",
              "      <td>36</td>\n",
              "      <td>3</td>\n",
              "      <td>1</td>\n",
              "      <td>2</td>\n",
              "      <td>3</td>\n",
              "      <td>1</td>\n",
              "      <td>1</td>\n",
              "      <td>2</td>\n",
              "      <td>1</td>\n",
              "    </tr>\n",
              "    <tr>\n",
              "      <th>2</th>\n",
              "      <td>2</td>\n",
              "      <td>12</td>\n",
              "      <td>2</td>\n",
              "      <td>9</td>\n",
              "      <td>841</td>\n",
              "      <td>2</td>\n",
              "      <td>4</td>\n",
              "      <td>2</td>\n",
              "      <td>2</td>\n",
              "      <td>1</td>\n",
              "      <td>...</td>\n",
              "      <td>1</td>\n",
              "      <td>23</td>\n",
              "      <td>3</td>\n",
              "      <td>1</td>\n",
              "      <td>1</td>\n",
              "      <td>2</td>\n",
              "      <td>2</td>\n",
              "      <td>1</td>\n",
              "      <td>2</td>\n",
              "      <td>1</td>\n",
              "    </tr>\n",
              "    <tr>\n",
              "      <th>3</th>\n",
              "      <td>1</td>\n",
              "      <td>12</td>\n",
              "      <td>4</td>\n",
              "      <td>0</td>\n",
              "      <td>2122</td>\n",
              "      <td>1</td>\n",
              "      <td>3</td>\n",
              "      <td>3</td>\n",
              "      <td>3</td>\n",
              "      <td>1</td>\n",
              "      <td>...</td>\n",
              "      <td>1</td>\n",
              "      <td>39</td>\n",
              "      <td>3</td>\n",
              "      <td>1</td>\n",
              "      <td>2</td>\n",
              "      <td>2</td>\n",
              "      <td>1</td>\n",
              "      <td>1</td>\n",
              "      <td>1</td>\n",
              "      <td>1</td>\n",
              "    </tr>\n",
              "    <tr>\n",
              "      <th>4</th>\n",
              "      <td>1</td>\n",
              "      <td>12</td>\n",
              "      <td>4</td>\n",
              "      <td>0</td>\n",
              "      <td>2171</td>\n",
              "      <td>1</td>\n",
              "      <td>3</td>\n",
              "      <td>4</td>\n",
              "      <td>3</td>\n",
              "      <td>1</td>\n",
              "      <td>...</td>\n",
              "      <td>2</td>\n",
              "      <td>38</td>\n",
              "      <td>1</td>\n",
              "      <td>2</td>\n",
              "      <td>2</td>\n",
              "      <td>2</td>\n",
              "      <td>2</td>\n",
              "      <td>1</td>\n",
              "      <td>1</td>\n",
              "      <td>1</td>\n",
              "    </tr>\n",
              "    <tr>\n",
              "      <th>...</th>\n",
              "      <td>...</td>\n",
              "      <td>...</td>\n",
              "      <td>...</td>\n",
              "      <td>...</td>\n",
              "      <td>...</td>\n",
              "      <td>...</td>\n",
              "      <td>...</td>\n",
              "      <td>...</td>\n",
              "      <td>...</td>\n",
              "      <td>...</td>\n",
              "      <td>...</td>\n",
              "      <td>...</td>\n",
              "      <td>...</td>\n",
              "      <td>...</td>\n",
              "      <td>...</td>\n",
              "      <td>...</td>\n",
              "      <td>...</td>\n",
              "      <td>...</td>\n",
              "      <td>...</td>\n",
              "      <td>...</td>\n",
              "      <td>...</td>\n",
              "    </tr>\n",
              "    <tr>\n",
              "      <th>995</th>\n",
              "      <td>1</td>\n",
              "      <td>24</td>\n",
              "      <td>2</td>\n",
              "      <td>3</td>\n",
              "      <td>1987</td>\n",
              "      <td>1</td>\n",
              "      <td>3</td>\n",
              "      <td>2</td>\n",
              "      <td>3</td>\n",
              "      <td>1</td>\n",
              "      <td>...</td>\n",
              "      <td>1</td>\n",
              "      <td>21</td>\n",
              "      <td>3</td>\n",
              "      <td>1</td>\n",
              "      <td>1</td>\n",
              "      <td>2</td>\n",
              "      <td>1</td>\n",
              "      <td>1</td>\n",
              "      <td>2</td>\n",
              "      <td>0</td>\n",
              "    </tr>\n",
              "    <tr>\n",
              "      <th>996</th>\n",
              "      <td>1</td>\n",
              "      <td>24</td>\n",
              "      <td>2</td>\n",
              "      <td>0</td>\n",
              "      <td>2303</td>\n",
              "      <td>1</td>\n",
              "      <td>5</td>\n",
              "      <td>4</td>\n",
              "      <td>3</td>\n",
              "      <td>2</td>\n",
              "      <td>...</td>\n",
              "      <td>1</td>\n",
              "      <td>45</td>\n",
              "      <td>3</td>\n",
              "      <td>2</td>\n",
              "      <td>1</td>\n",
              "      <td>3</td>\n",
              "      <td>2</td>\n",
              "      <td>1</td>\n",
              "      <td>2</td>\n",
              "      <td>0</td>\n",
              "    </tr>\n",
              "    <tr>\n",
              "      <th>997</th>\n",
              "      <td>4</td>\n",
              "      <td>21</td>\n",
              "      <td>4</td>\n",
              "      <td>0</td>\n",
              "      <td>12680</td>\n",
              "      <td>5</td>\n",
              "      <td>5</td>\n",
              "      <td>4</td>\n",
              "      <td>3</td>\n",
              "      <td>1</td>\n",
              "      <td>...</td>\n",
              "      <td>4</td>\n",
              "      <td>30</td>\n",
              "      <td>3</td>\n",
              "      <td>3</td>\n",
              "      <td>1</td>\n",
              "      <td>4</td>\n",
              "      <td>2</td>\n",
              "      <td>2</td>\n",
              "      <td>2</td>\n",
              "      <td>0</td>\n",
              "    </tr>\n",
              "    <tr>\n",
              "      <th>998</th>\n",
              "      <td>2</td>\n",
              "      <td>12</td>\n",
              "      <td>2</td>\n",
              "      <td>3</td>\n",
              "      <td>6468</td>\n",
              "      <td>5</td>\n",
              "      <td>1</td>\n",
              "      <td>2</td>\n",
              "      <td>3</td>\n",
              "      <td>1</td>\n",
              "      <td>...</td>\n",
              "      <td>4</td>\n",
              "      <td>52</td>\n",
              "      <td>3</td>\n",
              "      <td>2</td>\n",
              "      <td>1</td>\n",
              "      <td>4</td>\n",
              "      <td>2</td>\n",
              "      <td>2</td>\n",
              "      <td>2</td>\n",
              "      <td>0</td>\n",
              "    </tr>\n",
              "    <tr>\n",
              "      <th>999</th>\n",
              "      <td>1</td>\n",
              "      <td>30</td>\n",
              "      <td>2</td>\n",
              "      <td>2</td>\n",
              "      <td>6350</td>\n",
              "      <td>5</td>\n",
              "      <td>5</td>\n",
              "      <td>4</td>\n",
              "      <td>3</td>\n",
              "      <td>1</td>\n",
              "      <td>...</td>\n",
              "      <td>2</td>\n",
              "      <td>31</td>\n",
              "      <td>3</td>\n",
              "      <td>2</td>\n",
              "      <td>1</td>\n",
              "      <td>3</td>\n",
              "      <td>2</td>\n",
              "      <td>1</td>\n",
              "      <td>2</td>\n",
              "      <td>0</td>\n",
              "    </tr>\n",
              "  </tbody>\n",
              "</table>\n",
              "<p>1000 rows × 21 columns</p>\n",
              "</div>\n",
              "      <button class=\"colab-df-convert\" onclick=\"convertToInteractive('df-94d2ea84-52d1-4efe-96ed-406ec63286b7')\"\n",
              "              title=\"Convert this dataframe to an interactive table.\"\n",
              "              style=\"display:none;\">\n",
              "        \n",
              "  <svg xmlns=\"http://www.w3.org/2000/svg\" height=\"24px\"viewBox=\"0 0 24 24\"\n",
              "       width=\"24px\">\n",
              "    <path d=\"M0 0h24v24H0V0z\" fill=\"none\"/>\n",
              "    <path d=\"M18.56 5.44l.94 2.06.94-2.06 2.06-.94-2.06-.94-.94-2.06-.94 2.06-2.06.94zm-11 1L8.5 8.5l.94-2.06 2.06-.94-2.06-.94L8.5 2.5l-.94 2.06-2.06.94zm10 10l.94 2.06.94-2.06 2.06-.94-2.06-.94-.94-2.06-.94 2.06-2.06.94z\"/><path d=\"M17.41 7.96l-1.37-1.37c-.4-.4-.92-.59-1.43-.59-.52 0-1.04.2-1.43.59L10.3 9.45l-7.72 7.72c-.78.78-.78 2.05 0 2.83L4 21.41c.39.39.9.59 1.41.59.51 0 1.02-.2 1.41-.59l7.78-7.78 2.81-2.81c.8-.78.8-2.07 0-2.86zM5.41 20L4 18.59l7.72-7.72 1.47 1.35L5.41 20z\"/>\n",
              "  </svg>\n",
              "      </button>\n",
              "      \n",
              "  <style>\n",
              "    .colab-df-container {\n",
              "      display:flex;\n",
              "      flex-wrap:wrap;\n",
              "      gap: 12px;\n",
              "    }\n",
              "\n",
              "    .colab-df-convert {\n",
              "      background-color: #E8F0FE;\n",
              "      border: none;\n",
              "      border-radius: 50%;\n",
              "      cursor: pointer;\n",
              "      display: none;\n",
              "      fill: #1967D2;\n",
              "      height: 32px;\n",
              "      padding: 0 0 0 0;\n",
              "      width: 32px;\n",
              "    }\n",
              "\n",
              "    .colab-df-convert:hover {\n",
              "      background-color: #E2EBFA;\n",
              "      box-shadow: 0px 1px 2px rgba(60, 64, 67, 0.3), 0px 1px 3px 1px rgba(60, 64, 67, 0.15);\n",
              "      fill: #174EA6;\n",
              "    }\n",
              "\n",
              "    [theme=dark] .colab-df-convert {\n",
              "      background-color: #3B4455;\n",
              "      fill: #D2E3FC;\n",
              "    }\n",
              "\n",
              "    [theme=dark] .colab-df-convert:hover {\n",
              "      background-color: #434B5C;\n",
              "      box-shadow: 0px 1px 3px 1px rgba(0, 0, 0, 0.15);\n",
              "      filter: drop-shadow(0px 1px 2px rgba(0, 0, 0, 0.3));\n",
              "      fill: #FFFFFF;\n",
              "    }\n",
              "  </style>\n",
              "\n",
              "      <script>\n",
              "        const buttonEl =\n",
              "          document.querySelector('#df-94d2ea84-52d1-4efe-96ed-406ec63286b7 button.colab-df-convert');\n",
              "        buttonEl.style.display =\n",
              "          google.colab.kernel.accessAllowed ? 'block' : 'none';\n",
              "\n",
              "        async function convertToInteractive(key) {\n",
              "          const element = document.querySelector('#df-94d2ea84-52d1-4efe-96ed-406ec63286b7');\n",
              "          const dataTable =\n",
              "            await google.colab.kernel.invokeFunction('convertToInteractive',\n",
              "                                                     [key], {});\n",
              "          if (!dataTable) return;\n",
              "\n",
              "          const docLinkHtml = 'Like what you see? Visit the ' +\n",
              "            '<a target=\"_blank\" href=https://colab.research.google.com/notebooks/data_table.ipynb>data table notebook</a>'\n",
              "            + ' to learn more about interactive tables.';\n",
              "          element.innerHTML = '';\n",
              "          dataTable['output_type'] = 'display_data';\n",
              "          await google.colab.output.renderOutput(dataTable, element);\n",
              "          const docLink = document.createElement('div');\n",
              "          docLink.innerHTML = docLinkHtml;\n",
              "          element.appendChild(docLink);\n",
              "        }\n",
              "      </script>\n",
              "    </div>\n",
              "  </div>\n",
              "  "
            ]
          },
          "metadata": {},
          "execution_count": 28
        }
      ],
      "source": [
        "datos\n"
      ]
    },
    {
      "cell_type": "code",
      "execution_count": 29,
      "metadata": {
        "colab": {
          "base_uri": "https://localhost:8080/"
        },
        "id": "YXlcSWA-C4Dj",
        "outputId": "08d0bf0d-aea9-42f5-dc11-fff3dc41a33e"
      },
      "outputs": [
        {
          "output_type": "stream",
          "name": "stdout",
          "text": [
            "4    394\n",
            "1    274\n",
            "2    269\n",
            "3     63\n",
            "Name: status, dtype: int64\n",
            "2    530\n",
            "4    293\n",
            "3     88\n",
            "1     49\n",
            "0     40\n",
            "Name: credit_history, dtype: int64\n",
            "3     280\n",
            "0     234\n",
            "2     181\n",
            "1     103\n",
            "9      97\n",
            "6      50\n",
            "5      22\n",
            "10     12\n",
            "4      12\n",
            "8       9\n",
            "Name: purpose, dtype: int64\n",
            "1    603\n",
            "5    183\n",
            "2    103\n",
            "3     63\n",
            "4     48\n",
            "Name: savings, dtype: int64\n",
            "3    548\n",
            "2    310\n",
            "4     92\n",
            "1     50\n",
            "Name: personal_status_sex, dtype: int64\n",
            "1    907\n",
            "3     52\n",
            "2     41\n",
            "Name: other_debtors, dtype: int64\n",
            "3    814\n",
            "1    139\n",
            "2     47\n",
            "Name: other_installment_plans, dtype: int64\n",
            "2    714\n",
            "1    179\n",
            "3    107\n",
            "Name: housing, dtype: int64\n",
            "2    845\n",
            "1    155\n",
            "Name: people_liable, dtype: int64\n",
            "1    596\n",
            "2    404\n",
            "Name: telephone, dtype: int64\n",
            "2    963\n",
            "1     37\n",
            "Name: foreign_worker, dtype: int64\n"
          ]
        }
      ],
      "source": [
        "for c in datos_cat+datos_bin:\n",
        "    print(datos[c].value_counts())\n"
      ]
    },
    {
      "cell_type": "code",
      "execution_count": 30,
      "metadata": {
        "colab": {
          "base_uri": "https://localhost:8080/",
          "height": 424
        },
        "id": "diEdk9wXxEur",
        "outputId": "b93d3481-b173-4dc0-a067-72234bc04148"
      },
      "outputs": [
        {
          "output_type": "execute_result",
          "data": {
            "text/plain": [
              "     people_liable  telephone  foreign_worker\n",
              "0                2          1               2\n",
              "1                1          1               2\n",
              "2                2          1               2\n",
              "3                1          1               1\n",
              "4                2          1               1\n",
              "..             ...        ...             ...\n",
              "995              1          1               2\n",
              "996              2          1               2\n",
              "997              2          2               2\n",
              "998              2          2               2\n",
              "999              2          1               2\n",
              "\n",
              "[1000 rows x 3 columns]"
            ],
            "text/html": [
              "\n",
              "  <div id=\"df-d0461a27-bd67-4ff9-9d53-e1ae2de77ea4\">\n",
              "    <div class=\"colab-df-container\">\n",
              "      <div>\n",
              "<style scoped>\n",
              "    .dataframe tbody tr th:only-of-type {\n",
              "        vertical-align: middle;\n",
              "    }\n",
              "\n",
              "    .dataframe tbody tr th {\n",
              "        vertical-align: top;\n",
              "    }\n",
              "\n",
              "    .dataframe thead th {\n",
              "        text-align: right;\n",
              "    }\n",
              "</style>\n",
              "<table border=\"1\" class=\"dataframe\">\n",
              "  <thead>\n",
              "    <tr style=\"text-align: right;\">\n",
              "      <th></th>\n",
              "      <th>people_liable</th>\n",
              "      <th>telephone</th>\n",
              "      <th>foreign_worker</th>\n",
              "    </tr>\n",
              "  </thead>\n",
              "  <tbody>\n",
              "    <tr>\n",
              "      <th>0</th>\n",
              "      <td>2</td>\n",
              "      <td>1</td>\n",
              "      <td>2</td>\n",
              "    </tr>\n",
              "    <tr>\n",
              "      <th>1</th>\n",
              "      <td>1</td>\n",
              "      <td>1</td>\n",
              "      <td>2</td>\n",
              "    </tr>\n",
              "    <tr>\n",
              "      <th>2</th>\n",
              "      <td>2</td>\n",
              "      <td>1</td>\n",
              "      <td>2</td>\n",
              "    </tr>\n",
              "    <tr>\n",
              "      <th>3</th>\n",
              "      <td>1</td>\n",
              "      <td>1</td>\n",
              "      <td>1</td>\n",
              "    </tr>\n",
              "    <tr>\n",
              "      <th>4</th>\n",
              "      <td>2</td>\n",
              "      <td>1</td>\n",
              "      <td>1</td>\n",
              "    </tr>\n",
              "    <tr>\n",
              "      <th>...</th>\n",
              "      <td>...</td>\n",
              "      <td>...</td>\n",
              "      <td>...</td>\n",
              "    </tr>\n",
              "    <tr>\n",
              "      <th>995</th>\n",
              "      <td>1</td>\n",
              "      <td>1</td>\n",
              "      <td>2</td>\n",
              "    </tr>\n",
              "    <tr>\n",
              "      <th>996</th>\n",
              "      <td>2</td>\n",
              "      <td>1</td>\n",
              "      <td>2</td>\n",
              "    </tr>\n",
              "    <tr>\n",
              "      <th>997</th>\n",
              "      <td>2</td>\n",
              "      <td>2</td>\n",
              "      <td>2</td>\n",
              "    </tr>\n",
              "    <tr>\n",
              "      <th>998</th>\n",
              "      <td>2</td>\n",
              "      <td>2</td>\n",
              "      <td>2</td>\n",
              "    </tr>\n",
              "    <tr>\n",
              "      <th>999</th>\n",
              "      <td>2</td>\n",
              "      <td>1</td>\n",
              "      <td>2</td>\n",
              "    </tr>\n",
              "  </tbody>\n",
              "</table>\n",
              "<p>1000 rows × 3 columns</p>\n",
              "</div>\n",
              "      <button class=\"colab-df-convert\" onclick=\"convertToInteractive('df-d0461a27-bd67-4ff9-9d53-e1ae2de77ea4')\"\n",
              "              title=\"Convert this dataframe to an interactive table.\"\n",
              "              style=\"display:none;\">\n",
              "        \n",
              "  <svg xmlns=\"http://www.w3.org/2000/svg\" height=\"24px\"viewBox=\"0 0 24 24\"\n",
              "       width=\"24px\">\n",
              "    <path d=\"M0 0h24v24H0V0z\" fill=\"none\"/>\n",
              "    <path d=\"M18.56 5.44l.94 2.06.94-2.06 2.06-.94-2.06-.94-.94-2.06-.94 2.06-2.06.94zm-11 1L8.5 8.5l.94-2.06 2.06-.94-2.06-.94L8.5 2.5l-.94 2.06-2.06.94zm10 10l.94 2.06.94-2.06 2.06-.94-2.06-.94-.94-2.06-.94 2.06-2.06.94z\"/><path d=\"M17.41 7.96l-1.37-1.37c-.4-.4-.92-.59-1.43-.59-.52 0-1.04.2-1.43.59L10.3 9.45l-7.72 7.72c-.78.78-.78 2.05 0 2.83L4 21.41c.39.39.9.59 1.41.59.51 0 1.02-.2 1.41-.59l7.78-7.78 2.81-2.81c.8-.78.8-2.07 0-2.86zM5.41 20L4 18.59l7.72-7.72 1.47 1.35L5.41 20z\"/>\n",
              "  </svg>\n",
              "      </button>\n",
              "      \n",
              "  <style>\n",
              "    .colab-df-container {\n",
              "      display:flex;\n",
              "      flex-wrap:wrap;\n",
              "      gap: 12px;\n",
              "    }\n",
              "\n",
              "    .colab-df-convert {\n",
              "      background-color: #E8F0FE;\n",
              "      border: none;\n",
              "      border-radius: 50%;\n",
              "      cursor: pointer;\n",
              "      display: none;\n",
              "      fill: #1967D2;\n",
              "      height: 32px;\n",
              "      padding: 0 0 0 0;\n",
              "      width: 32px;\n",
              "    }\n",
              "\n",
              "    .colab-df-convert:hover {\n",
              "      background-color: #E2EBFA;\n",
              "      box-shadow: 0px 1px 2px rgba(60, 64, 67, 0.3), 0px 1px 3px 1px rgba(60, 64, 67, 0.15);\n",
              "      fill: #174EA6;\n",
              "    }\n",
              "\n",
              "    [theme=dark] .colab-df-convert {\n",
              "      background-color: #3B4455;\n",
              "      fill: #D2E3FC;\n",
              "    }\n",
              "\n",
              "    [theme=dark] .colab-df-convert:hover {\n",
              "      background-color: #434B5C;\n",
              "      box-shadow: 0px 1px 3px 1px rgba(0, 0, 0, 0.15);\n",
              "      filter: drop-shadow(0px 1px 2px rgba(0, 0, 0, 0.3));\n",
              "      fill: #FFFFFF;\n",
              "    }\n",
              "  </style>\n",
              "\n",
              "      <script>\n",
              "        const buttonEl =\n",
              "          document.querySelector('#df-d0461a27-bd67-4ff9-9d53-e1ae2de77ea4 button.colab-df-convert');\n",
              "        buttonEl.style.display =\n",
              "          google.colab.kernel.accessAllowed ? 'block' : 'none';\n",
              "\n",
              "        async function convertToInteractive(key) {\n",
              "          const element = document.querySelector('#df-d0461a27-bd67-4ff9-9d53-e1ae2de77ea4');\n",
              "          const dataTable =\n",
              "            await google.colab.kernel.invokeFunction('convertToInteractive',\n",
              "                                                     [key], {});\n",
              "          if (!dataTable) return;\n",
              "\n",
              "          const docLinkHtml = 'Like what you see? Visit the ' +\n",
              "            '<a target=\"_blank\" href=https://colab.research.google.com/notebooks/data_table.ipynb>data table notebook</a>'\n",
              "            + ' to learn more about interactive tables.';\n",
              "          element.innerHTML = '';\n",
              "          dataTable['output_type'] = 'display_data';\n",
              "          await google.colab.output.renderOutput(dataTable, element);\n",
              "          const docLink = document.createElement('div');\n",
              "          docLink.innerHTML = docLinkHtml;\n",
              "          element.appendChild(docLink);\n",
              "        }\n",
              "      </script>\n",
              "    </div>\n",
              "  </div>\n",
              "  "
            ]
          },
          "metadata": {},
          "execution_count": 30
        }
      ],
      "source": [
        "datos[datos_bin]\n"
      ]
    },
    {
      "cell_type": "code",
      "execution_count": 31,
      "metadata": {
        "colab": {
          "base_uri": "https://localhost:8080/"
        },
        "id": "qk1afCaAxEur",
        "outputId": "0c2f0bf8-cdc4-4234-d613-ad9bc499f202"
      },
      "outputs": [
        {
          "output_type": "stream",
          "name": "stdout",
          "text": [
            "status\n",
            "[1 2 4 3]\n",
            "-----\n",
            "duration\n",
            "[18  9 12 10  8  6 24 11 30 48 36 15 42 21 27 33 28  4 47 14 39 60  5 22\n",
            " 54 13 16  7 20 26 45 72 40]\n",
            "-----\n",
            "credit_history\n",
            "[4 2 3 0 1]\n",
            "-----\n",
            "purpose\n",
            "[ 2  0  9  3  1 10  5  4  6  8]\n",
            "-----\n",
            "amount\n",
            "[ 1049  2799   841  2122  2171  2241  3398  1361  1098  3758  3905  6187\n",
            "  1957  7582  1936  2647  3939  3213  2337  7228  3676  3124  2384  1424\n",
            "  4716  4771   652  1154  3556  4796  3017  3535  6614  1376  1721   860\n",
            "  1495  1934  3378  3868   996  1755  1028  2825  1239  1216  1258  1864\n",
            "  1474  1382   640  3919  1224  2331  6313   385  1655  1053  3160  3079\n",
            "  1163  2679  3578 10875  1344  1237  3077  2284  1567  2032  2745  1867\n",
            "  2299   929  3399  2030  3275  1940  1602  1979  2022  3342  5866  2360\n",
            "  1520  3651  2346  4454   666  1965  1995  2991  4221  1364  6361  4526\n",
            "  3573  4455  2136  5954  3777   806  4712  7432  1851  1393  1412  1473\n",
            "  1533  2012  3959   428  2366   763  3976  6260  1919  2603   936  3062\n",
            "  4795  5842  2063  1459  1213  5103   874  2978  1820  2872  1925  2515\n",
            "  2116  1453  1543  1318  2325   932  3148  3835  3832  5084  2406  2394\n",
            "  2476  2964  1262  1542  1743   409  8858  3512  1158  2684  1498  6416\n",
            "  3617  1291  1275  3972  3343   392  2134  5771  2788  5848  1228  1297\n",
            "  1552  1963  3235  4139  1804  1950 12749  1236  1055  8072  2831  1449\n",
            "  5742  2390  3430  2273  2923  1901  3711  8487  2255  7253  6761  1817\n",
            "  2141  3609  2333  7824  1445  7721  3763  4439  1107  1444 12169  2753\n",
            "  1494  2828  2483  1299  1549  3949  2901   709 10722  1287  3656  4679\n",
            "  8613  2659  1516  4380   802  1572  3566  1278   426  8588  3857   685\n",
            "  1603   601  2569  1316 10366  1568   629  1750  3488  1800  4151  2631\n",
            "  5248  2899  6204   804  3595  5711  2687  3643  2146  2315  3448  2708\n",
            "  1313  1493  2675  2118   909  1569  7678   660  2835  2670  3447  3568\n",
            "  3652  3660  1126   683  2251  4675  2353  3357   672   338  2697  2507\n",
            "  1478  3565  2221  1898   960  8133  2301   983  2320   339  5152  3749\n",
            "  3074   745  1469  1374   783  2606  9436   930  2751   250  1201   662\n",
            "  1300  1559  3016  1360  1204  1597  2073  2142  2132  1546  1418  1343\n",
            "  2662  6070  1927  2404  1554  1283   717  1747  1288  1038  2848  1413\n",
            "  3632  3229  3577   682  1924   727   781  2121   701  2069  1525  7629\n",
            "  3499  1346 10477  2924  1231  1961  5045  1255  1858  1221  1388  2279\n",
            "  2759  1410  1403  3021  6568  2578  7758   343  1591  3416  1108  5965\n",
            "  1514  6742  3650  3599 13756   276  4041   458   918  7393  1225  2812\n",
            "  3029  1480  1047  1471  5511  1206  6403   707  1503  6078  2528  1037\n",
            "  1352  3181  4594  5381  4657  1391  1913  7166  1409   976  2375   522\n",
            "  2743  5804  1169   776  1322  1175  2133  1829 11760  1501  1200  3195\n",
            "  4530  1555  2326  1887  1264   846  1532   935  2442  3590  2288  5117\n",
            " 14179  1386   618  1574   700   886  4686   790   766  2212  7308  5743\n",
            "  3973  7418  2629  1941  2445  6468  7374  3812  4006  7472  2028  5324\n",
            "  2323  1984   999  7409  2186  4473   937  3422  3105  2748  3872  5190\n",
            "  3001  3863  5801  1592  1185  3780  3612  1076  3527  2051  3331  3104\n",
            "  2611  1311  2108  4042   926  1680  1249  2463  1595  2058  7814  1740\n",
            "  1240  6842  5150  1203  2080  1538  3878  3186  2896  6967  1819  5943\n",
            "  7127  3349 10974   518  1860  9566  2930  1505  2238  2197  1881  1880\n",
            "  2389  1967  3380  1455   730  3244  1670  3979  1922  1295  1544   907\n",
            "  1715  1347  1007  1402  2002  2096  1101   894  1577  2764  8358  5433\n",
            "  3485  3850  7408  1377  4272  1553  9857   362  1935 10222  1330  9055\n",
            "  7966  3496  6948 12204  3446   684  4281  7174  2359  3621   741  7865\n",
            "  2910  5302  3620  3509  1657  1164  6229  1193  4583  5371   708   571\n",
            "  2522  5179  8229  1289  2712   975  1050   609  4788  3069   836  2577\n",
            "  1620  1845  6579  1893 10623  2249  3108   958  9277  6314  1526  6615\n",
            "  1872  2859  1582  1238  1433  7882  4169  3249  3149  2246  1797  2957\n",
            "  2348  6289  6419  6143 15857  2223  7238  2503  2622  4351   368   754\n",
            "  2424  6681  2427   753  2576   590  1414  1103   585  1068   713  1092\n",
            "  2329   882   866  2415  2101  1301  1113   760   625  1323  1138  1795\n",
            "  2728   484  1048  1155  7057  1537  2214  1585  1521  3990  3049  1282\n",
            " 10144  1168   454  3594  1768 15653  2247  4576  8335  5800  8471  3622\n",
            "  2181  7685  6110  3757  3394  6304  1244  3518  2613  7476  4591  5595\n",
            "  6224  1905  2993  8947  4020  2779  2782  1884 11054  9157  9283  6527\n",
            "  3368  2511  5493  1338  1082  1149  1308  6148  1736  3059  2996  7596\n",
            "  4811  1766  2760  5507  1199  2892  2862   654  1136  4113 14555   950\n",
            "  2150  2820  3060  2600  5003  6288  2538  4933  1530  1437  1823  1422\n",
            "  1217  9271  2145  1842  4297  3384  1245  4623  8386  1024 14318   433\n",
            "  2149  2397   931  1512  4241  4736  1778  2327  6872   795  1908  1953\n",
            "  2864  2319   915   947  1381  1285  1371  1042   900  1207  2278  6836\n",
            "  3345  1198 15672  7297  1943  3190  5129  1808   759  1980 10961  6887\n",
            "  1938  1835  1659  1209  3844  4843   639  5951  3804  4463  7980  4210\n",
            "  4611 11560  4165  4057  6458  1977  1928  1123 11328 11938  2520 14782\n",
            "  2671 12612  3031   626  3931  2302  3965  3914  4308  1534  2775  5998\n",
            "  1271  9398   951  1355  3051  7855  9572  1837  4249  5234  6758  1366\n",
            "  1358  2473  1337  7763  6560  3123  8065  2439  9034 14027  9629  1484\n",
            "  1131  2064 12976  2580  2570  3915  1309  4817  2579  2225  4153  3114\n",
            "  2124  1333  7119  4870   691  4370  2746  4110  2462  2969  4605  6331\n",
            "  3552   697  1442  5293  3414  2039  3161   902 10297 14421  1056  1274\n",
            "  1223  1372  2625  2235   959   884  1246  8086 10127   888   719 12389\n",
            "  6850  2210  7485   797  4746   939  1188 11590  1190  2767  3441  4280\n",
            "  3092  1331 15945  3234  9960  8648  1345  1647  4844  8318  2100 11816\n",
            "   448 11998 18424 14896  2762  3386  2169  5096  1882  6999  2292  8978\n",
            "   674  2718   750 12579  7511  3966  6199  1987  2303 12680  6350]\n",
            "-----\n",
            "savings\n",
            "[1 2 3 5 4]\n",
            "-----\n",
            "employment_duration\n",
            "[2 3 4 1 5]\n",
            "-----\n",
            "installment_rate\n",
            "[4 2 3 1]\n",
            "-----\n",
            "personal_status_sex\n",
            "[2 3 4 1]\n",
            "-----\n",
            "other_debtors\n",
            "[1 3 2]\n",
            "-----\n",
            "present_residence\n",
            "[4 2 3 1]\n",
            "-----\n",
            "property\n",
            "[2 1 3 4]\n",
            "-----\n",
            "age\n",
            "[21 36 23 39 38 48 40 65 24 31 44 25 37 49 33 26 51 29 56 47 34 28 41 58\n",
            " 61 30 63 27 45 43 52 22 60 32 35 42 59 54 64 46 74 50 20 55 53 19 57 66\n",
            " 68 70 67 75 62]\n",
            "-----\n",
            "other_installment_plans\n",
            "[3 1 2]\n",
            "-----\n",
            "housing\n",
            "[1 2 3]\n",
            "-----\n",
            "number_credits\n",
            "[1 2 3 4]\n",
            "-----\n",
            "job\n",
            "[3 2 1 4]\n",
            "-----\n",
            "people_liable\n",
            "[2 1]\n",
            "-----\n",
            "telephone\n",
            "[1 2]\n",
            "-----\n",
            "foreign_worker\n",
            "[2 1]\n",
            "-----\n",
            "credit_risk\n",
            "[1 0]\n",
            "-----\n"
          ]
        }
      ],
      "source": [
        "\n",
        "# Observación de los valores únicos en todas las columnas.\n",
        "# Comparamos con los valores registrados en el archivo fuente \"codetable.txt\"\n",
        "# con el fin de asegurarnos de que no haya valores en los datos que no estén\n",
        "# documentados en el mencionado archivo fuente.\n",
        "# Resultado negativo, lo cual es bueno. Todos los valores usados en los datos\n",
        "# están referenciados en la en archivo fuente \"codetable.txt\".\n",
        "for v in datos.columns:\n",
        "    print(v)\n",
        "    print(datos[v].unique())\n",
        "    print(\"-----\")\n"
      ]
    },
    {
      "cell_type": "code",
      "execution_count": 32,
      "metadata": {
        "colab": {
          "base_uri": "https://localhost:8080/",
          "height": 611
        },
        "id": "_J4E-TsYxEur",
        "outputId": "863c6785-4426-40ad-9ab0-f166ad644683"
      },
      "outputs": [
        {
          "output_type": "display_data",
          "data": {
            "text/plain": [
              "<Figure size 1440x720 with 12 Axes>"
            ],
            "image/png": "[encoded data removed]"
          },
          "metadata": {}
        }
      ],
      "source": [
        "# Mediante histogramas revisamos la distribución de frecuencias para encontrar \n",
        "# cual daría la mejor simetria pos-transformación de las variable numéricas\n",
        "\n",
        "sns.set(rc={\"figure.figsize\": (20, 10)})\n",
        "fig, axes = plt.subplots(3, 3)\n",
        "\n",
        "for k in range(0, 3):\n",
        "\n",
        "    # Datos originales ---------------------------------------------------------\n",
        "    plt.subplot(4, 3, k + 1)\n",
        "    Transf0 = (\n",
        "        X_train[datos_num].iloc[:, k].to_numpy().reshape(-1, 1)\n",
        "    )  # Se asigna a Transf0 los valores de cada variable \"k\" sin transformar.\n",
        "    plt.hist(\n",
        "        Transf0, bins=20\n",
        "    )  # Se agrega el comando para obtener el histograma de Transf0 con 20 barras (bins).\n",
        "    plt.xlabel(datos_num[k])\n",
        "    if k == 0:\n",
        "        plt.ylabel(\"Originales\")\n",
        "\n",
        "    # Datos transformados con raíz cuadrada ------------------------------------\n",
        "    plt.subplot(4, 3, k + 4)\n",
        "    Transf1 = np.sqrt(\n",
        "        Transf0\n",
        "    )  # Se debe aplica la raíz cuadrada a los valores de cada variable \"k\" sin transformar.\n",
        "    plt.hist(\n",
        "        Transf1, bins=20\n",
        "    )  # Se agrega el comando para obtener el histograma de Transf1 con 20 barras (bins).\n",
        "    plt.xlabel(datos_num[k])\n",
        "    if k == 0:\n",
        "        plt.ylabel(\"Raíz Cuadrada\")\n",
        "\n",
        "    # Datos transformados con logaritmo natural --------------------------------\n",
        "    plt.subplot(4, 3, k + 7)\n",
        "    Transf2 = np.log(\n",
        "        Transf0\n",
        "    )  # Se aplica el logaritmo natural a los valores de cada variable \"k\" sin transformar.\n",
        "    plt.hist(\n",
        "        Transf2, bins=20\n",
        "    )  # Se agrega el comando para obtener el histograma de Transf2 con 20 barras (bins).\n",
        "    plt.xlabel(datos_num[k])\n",
        "    if k == 0:\n",
        "        plt.ylabel(\"Logaritmo\")\n",
        "\n",
        "    # Datos transformados con Box-Cox ------------------------------------------\n",
        "    plt.subplot(4, 3, k + 10)\n",
        "    Transf4 = power_transform(\n",
        "        (X_train[datos_num[k]]).values.reshape(-1, 1), method=\"box-cox\"\n",
        "    )  #  En esta línea se debe aplicar la transformación Box-Cox a los valores de cada variable \"k\" sin transformar.\n",
        "    plt.hist(\n",
        "        Transf4, bins=20\n",
        "    )  #  En este línea agrega el comando para obtener el histograma de Transf4 con 20 barras (bins).\n",
        "    plt.xlabel(datos_num[k])\n",
        "    if k == 0:\n",
        "        plt.ylabel(\"Box-Cox\")\n"
      ]
    },
    {
      "cell_type": "markdown",
      "metadata": {
        "id": "Ghb6W7ow0qnu"
      },
      "source": [
        "En el pánel anterior observamos que la transformación logaritmica mejora la simetría de las distribuciones.\n",
        "\n",
        "En el siguiente pánel comparamos valores extremos (\"outliers\") usando un diagrama box-plot, antes y después de la transformación logaritmica para\n",
        "confirmar la mejora."
      ]
    },
    {
      "cell_type": "code",
      "execution_count": 33,
      "metadata": {
        "colab": {
          "base_uri": "https://localhost:8080/",
          "height": 322
        },
        "id": "nZBJqcCnxEus",
        "outputId": "19546960-053b-464b-bfb6-96804ffe53f2"
      },
      "outputs": [
        {
          "output_type": "display_data",
          "data": {
            "text/plain": [
              "<Figure size 360x360 with 1 Axes>"
            ],
            "image/png": "[encoded data removed]"
          },
          "metadata": {}
        }
      ],
      "source": [
        "\n",
        "#Redimensiona el tamaño para las siguientes figuras\n",
        "sns.set(rc={\"figure.figsize\": (5, 5)})\n",
        "\n",
        "# Box-plot de los datos numéricos sin transformación\n",
        "datos[\"amount\"].plot(kind=\"box\", layout=(1,1), figsize=(5,5),sharex=False,sharey=False) \n",
        "plt.show()\n"
      ]
    },
    {
      "cell_type": "code",
      "execution_count": 34,
      "metadata": {
        "colab": {
          "base_uri": "https://localhost:8080/",
          "height": 322
        },
        "id": "7i2DwVU6xEus",
        "outputId": "33c9a267-02fc-476a-ac03-f1a40c53eef3"
      },
      "outputs": [
        {
          "output_type": "display_data",
          "data": {
            "text/plain": [
              "<Figure size 360x360 with 1 Axes>"
            ],
            "image/png": "[encoded data removed]"
          },
          "metadata": {}
        }
      ],
      "source": [
        "datos[[\"duration\", \"age\"]].plot(kind=\"box\", layout=(1,1), figsize=(5,5),sharex=False,sharey=False)\n",
        "plt.show()\n"
      ]
    },
    {
      "cell_type": "code",
      "execution_count": 35,
      "metadata": {
        "colab": {
          "base_uri": "https://localhost:8080/",
          "height": 339
        },
        "id": "HQKiEMOjxEus",
        "outputId": "9b93ab7b-76a5-4a45-cd58-93da887fecdc"
      },
      "outputs": [
        {
          "output_type": "display_data",
          "data": {
            "text/plain": [
              "<Figure size 1080x360 with 3 Axes>"
            ],
            "image/png": "[encoded data removed]"
          },
          "metadata": {}
        }
      ],
      "source": [
        "# Box-plot de los datos numéricos usando la transformación logarítmica\n",
        "\n",
        "#Redimensiona el tamaño para las siguientes figuras\n",
        "sns.set(rc={\"figure.figsize\": (15, 5)})\n",
        "\n",
        "for k in range(0, 3):\n",
        "    plt.subplot(1, 3, k + 1)\n",
        "    # Datos originales ---------------------------------------------------------\n",
        "    Transf0 = (\n",
        "        X_train[datos_num].iloc[:, k].to_numpy().reshape(-1, 1)\n",
        "    )  # Se asigna a Transf0 los valores de cada variable \"k\" sin transformar.\n",
        "    Transf2 = np.log(\n",
        "        Transf0\n",
        "    )  # Se aplica el logaritmo natural a los valores de cada variable \"k\" sin transformar.\n",
        "    plt.boxplot(Transf2)\n",
        "    plt.xlabel(datos_num[k])\n",
        "    if k == 0:\n",
        "        plt.ylabel(\"Logaritmo\")\n",
        "\n",
        "plt.show()\n"
      ]
    },
    {
      "cell_type": "code",
      "execution_count": 36,
      "metadata": {
        "colab": {
          "base_uri": "https://localhost:8080/"
        },
        "id": "mqeiCiijxEus",
        "outputId": "427939fa-7218-4b75-b44e-c30d1fb87192"
      },
      "outputs": [
        {
          "output_type": "execute_result",
          "data": {
            "text/plain": [
              "status                     0\n",
              "duration                   0\n",
              "credit_history             0\n",
              "purpose                    0\n",
              "amount                     0\n",
              "savings                    0\n",
              "employment_duration        0\n",
              "installment_rate           0\n",
              "personal_status_sex        0\n",
              "other_debtors              0\n",
              "present_residence          0\n",
              "property                   0\n",
              "age                        0\n",
              "other_installment_plans    0\n",
              "housing                    0\n",
              "number_credits             0\n",
              "job                        0\n",
              "people_liable              0\n",
              "telephone                  0\n",
              "foreign_worker             0\n",
              "credit_risk                0\n",
              "dtype: int64"
            ]
          },
          "metadata": {},
          "execution_count": 36
        }
      ],
      "source": [
        "datos.isnull().sum()\n"
      ]
    },
    {
      "cell_type": "code",
      "execution_count": 37,
      "metadata": {
        "id": "BKI80-YdC4HN"
      },
      "outputs": [],
      "source": [
        "\n",
        "# En esta sección de código definimos las transformaciones\n",
        "# Transformaciones a factores categóricos y binarios de entrada:\n",
        "\n",
        "cat_pipeline = Pipeline(\n",
        "    steps=[\n",
        "        (\"impModa\", SimpleImputer(strategy=\"most_frequent\")),\n",
        "        (\"OneHotE\", OneHotEncoder(handle_unknown=\"ignore\")),\n",
        "    ]\n",
        ")\n",
        "cat_pipeline_nombres = [\n",
        "    \"status\",\n",
        "    \"credit_history\",\n",
        "    \"purpose\",\n",
        "    \"savings\",\n",
        "    \"personal_status_sex\",\n",
        "    \"other_debtors\",\n",
        "    \"other_installment_plans\",\n",
        "    \"housing\",\n",
        "]\n",
        "\n",
        "\n",
        "# Transformaciones a factores numéricos de entrada:\n",
        "num_pipeline = Pipeline(\n",
        "    steps=[\n",
        "        (\"impMediana\", SimpleImputer(strategy=\"median\")),\n",
        "        (\"log\", FunctionTransformer(np.log)),\n",
        "        (\"escalaNum\", MinMaxScaler()),\n",
        "    ]\n",
        ")\n",
        "num_pipeline_nombres = [\"duration\", \"amount\", \"age\"]\n",
        "\n",
        "\n",
        "# Transformaciones a factores ordinales de entrada:\n",
        "ord_pipeline = Pipeline(\n",
        "    steps=[\n",
        "        (\"impModa\", SimpleImputer(strategy=\"most_frequent\")),\n",
        "    ]\n",
        ")\n",
        "ord_pipeline_nombres = [\n",
        "    \"employment_duration\",\n",
        "    \"installment_rate\",\n",
        "    \"present_residence\",\n",
        "    \"property\",\n",
        "    \"number_credits\",\n",
        "    \"job\",\n",
        "]\n",
        "\n",
        "bin_pipeline_nombres = [\"people_liable\", \"telephone\", \"foreign_worker\"]\n",
        "\n",
        "\n",
        "# Conjuntamos las transformaciones que se aplicarán a los datos de entrada:\n",
        "columnasTransformer = ColumnTransformer(\n",
        "    transformers=[\n",
        "        (\"catpipe\", cat_pipeline, cat_pipeline_nombres+bin_pipeline_nombres),\n",
        "        (\"numpipe\", num_pipeline, num_pipeline_nombres),\n",
        "        (\"ordpipe\", ord_pipeline, ord_pipeline_nombres),\n",
        "    ],\n",
        "    remainder=\"passthrough\",\n",
        ")\n"
      ]
    },
    {
      "cell_type": "markdown",
      "metadata": {
        "id": "chqk9jIDC5Pq"
      },
      "source": [
        "# **Ejercicio-4.**\n",
        "## Entrenamiento usando validación cruzada\n",
        "## Modelos:\n",
        "* Regresión Logística, \n",
        "* Árbol de Decisión, y \n",
        "* Bosque Aleatorio.\n",
        "\n",
        "###*Llevarás un entrenamiento usando validación cruzada entre los siguientes tres modelos de aprendizaje automático: Regresión Logística, Árbol de Decisión y Bosque Aleatorio. Deberás llevar a cabo el entrenamiento de los tres de manera conjunta usando un ciclo FOR. Recuerda aplicar las transformaciones que definiste en tu Pipeline. El entrenamiento debe ser con las siguientes características:*\n",
        "###*a. Usa los parámetros predeterminados de cada modelo.*\n",
        "\n"
      ]
    },
    {
      "cell_type": "code",
      "execution_count": 38,
      "metadata": {
        "id": "RBVSFwK4C6g9"
      },
      "outputs": [],
      "source": [
        "def get_models():\n",
        "    modelos = list()\n",
        "    nombres = list()\n",
        "\n",
        "    # LR - Regresión Logística:\n",
        "    modelos.append(LogisticRegression(max_iter=3000))\n",
        "    nombres.append(\"LR\")\n",
        "\n",
        "    # DT - Árbol de Decisión:\n",
        "    modelos.append(DecisionTreeClassifier())\n",
        "    nombres.append(\"DT\")\n",
        "\n",
        "    # RF - Random Forest:\n",
        "    modelos.append(RandomForestClassifier())\n",
        "    nombres.append(\"RF\")\n",
        "\n",
        "    return modelos, nombres\n"
      ]
    },
    {
      "cell_type": "markdown",
      "metadata": {
        "id": "f_-vBsco3uZJ"
      },
      "source": [
        "###*4.b. En cada iteración deben calcularse todas las siguientes métricas: accuracy, precision, recall, f1-score y Gmean. Todas estas métricas deben ser funciones que tú mismo debes definir (Es decir, no usar las funciones de dichas métricas que te proporciona scikit-learn. Sin embargo, sí puedes usar la información regresada por el método confusion_matrix() de scikit-learn para definir las métricas).*"
      ]
    },
    {
      "cell_type": "code",
      "execution_count": 56,
      "metadata": {
        "id": "0w-yRlqExEut"
      },
      "outputs": [],
      "source": [
        "# Funciones para generar scores\n",
        "def accuracy(yreal, ypred):\n",
        "    cm = confusion_matrix(yreal, ypred)\n",
        "    \n",
        "    tot = cm.sum()\n",
        "\n",
        "    vp = cm[1, 1]\n",
        "    vn = cm[0, 0]\n",
        "\n",
        "    score = (vp + vn) / tot\n",
        "\n",
        "    return score\n",
        "\n",
        "\n",
        "def precision(yreal, ypred):\n",
        "    cm = confusion_matrix(yreal, ypred)\n",
        "\n",
        "    tot = cm.sum()\n",
        "\n",
        "    fp = cm[0, 1]\n",
        "    vp = cm[1, 1]\n",
        "\n",
        "    score = vp / (vp + fp)\n",
        "\n",
        "    return score\n",
        "\n",
        "\n",
        "def recall(yreal, ypred):\n",
        "    cm = confusion_matrix(yreal, ypred)\n",
        "\n",
        "    tot = cm.sum()\n",
        "\n",
        "    fn = cm[1, 0]\n",
        "    vp = cm[1, 1]\n",
        "\n",
        "    score = vp / (vp + fn)\n",
        "\n",
        "    return score\n",
        "\n",
        "\n",
        "def f1(yreal, ypred):\n",
        "    cm = confusion_matrix(yreal, ypred)\n",
        "\n",
        "    tot = cm.sum()\n",
        "\n",
        "    fp = cm[0, 1]\n",
        "    fn = cm[1, 0]\n",
        "    vp = cm[1, 1]\n",
        "\n",
        "    score = 2 * vp / (2 * vp + fp + fn)\n",
        "\n",
        "    return score\n",
        "\n",
        "\n",
        "def gmean(yreal, ypred):\n",
        "    cm = confusion_matrix(yreal, ypred)\n",
        "\n",
        "    tot = cm.sum()\n",
        "\n",
        "    vn = cm[0, 0]\n",
        "    fp = cm[0, 1]\n",
        "    fn = cm[1, 0]\n",
        "    vp = cm[1, 1]\n",
        "\n",
        "    recall = vp / (vp + fn)\n",
        "    specifity = vn / (vn + fp)\n",
        "\n",
        "    score = np.sqrt(recall * specifity)\n",
        "\n",
        "    return score\n"
      ]
    },
    {
      "cell_type": "code",
      "source": [
        "\n",
        "# Código de prueba de muestras funciones de métricas\n",
        "#y_true = ['cat', 'dog', 'cat', 'cat', 'dog', 'dog','dog','cat','cat','dog']\n",
        "#y_pred = ['dog', 'dog', 'cat', 'cat','dog', 'cat','dog','dog','cat','dog']\n",
        "y_true = [2, 0, 2, 2, 0, 2]\n",
        "y_pred = [0, 0, 2, 2, 0, 2]\n",
        "cm = confusion_matrix(y_true, y_pred)\n",
        "print(cm)\n",
        "print('accuracy',accuracy(y_true, y_pred))\n",
        "print('precision',precision(y_true, y_pred))\n",
        "print('recall',recall(y_true, y_pred))\n",
        "print('f1',f1(y_true, y_pred))\n",
        "print('gmean',gmean(y_true, y_pred))"
      ],
      "metadata": {
        "colab": {
          "base_uri": "https://localhost:8080/"
        },
        "id": "88x2QDOEHwjw",
        "outputId": "2a38373f-6708-462a-a02d-dd0de1614c21"
      },
      "execution_count": 40,
      "outputs": [
        {
          "output_type": "stream",
          "name": "stdout",
          "text": [
            "[[2 0]\n",
            " [1 3]]\n",
            "accuracy 0.8333333333333334\n",
            "precision 1.0\n",
            "recall 0.75\n",
            "f1 0.8571428571428571\n",
            "gmean 0.8660254037844386\n"
          ]
        }
      ]
    },
    {
      "cell_type": "markdown",
      "metadata": {
        "id": "67TNf5LR5Fpa"
      },
      "source": [
        "###*4.c. Usar validación cruzada estratificada con 5 particiones y con 3 repeticiones.*\n",
        "\n",
        "###*4.d. Imprimir el valor de todas estas métricas, tanto para los datos de entrenamiento, como para los de validación. Así como los diagramas de caja y bigotes de los tres modelos con la métrica “recall”. ¿Alguno de los modelos está subentrenado o sobreentrenado? Justifica tu respuesta.*"
      ]
    },
    {
      "cell_type": "code",
      "execution_count": 41,
      "metadata": {
        "colab": {
          "base_uri": "https://localhost:8080/"
        },
        "id": "7KXnlNzAC69Y",
        "outputId": "30c140bd-b7ff-4f1c-dd2d-eafb0694c8e2"
      },
      "outputs": [
        {
          "output_type": "stream",
          "name": "stdout",
          "text": [
            "===============================\n",
            " LR :\n",
            "===============================\n",
            "ENTRENAMIENTO:\n",
            "----------------------------------------------------\n",
            "\n",
            "mean Accuracy: 0.833 (0.0000)\n",
            "mean Precision: 0.810 (0.0083)\n",
            "mean Recall: 0.899 (0.0069)\n",
            "mean F1-score: 0.852 (0.0060)\n",
            "Gmean: 0.678 (0.0183)\n",
            "\n",
            "VALIDACION (interna al método de validación cruzada):\n",
            "----------------------------------------------------\n",
            "\n",
            "mean Accuracy: 0.833 (0.0000)\n",
            "mean Precision: 0.789 (0.0174)\n",
            "mean Recall: 0.870 (0.0309)\n",
            "mean F1-score: 0.827 (0.0186)\n",
            "Gmean: 0.632 (0.0396)\n",
            "\n",
            "===============================\n",
            " DT :\n",
            "===============================\n",
            "ENTRENAMIENTO:\n",
            "----------------------------------------------------\n",
            "\n",
            "mean Accuracy: 0.833 (0.0000)\n",
            "mean Precision: 1.000 (0.0000)\n",
            "mean Recall: 1.000 (0.0000)\n",
            "mean F1-score: 1.000 (0.0000)\n",
            "Gmean: 1.000 (0.0000)\n",
            "\n",
            "VALIDACION (interna al método de validación cruzada):\n",
            "----------------------------------------------------\n",
            "\n",
            "mean Accuracy: 0.833 (0.0000)\n",
            "mean Precision: 0.776 (0.0263)\n",
            "mean Recall: 0.768 (0.0357)\n",
            "mean F1-score: 0.771 (0.0191)\n",
            "Gmean: 0.605 (0.0513)\n",
            "\n",
            "===============================\n",
            " RF :\n",
            "===============================\n",
            "ENTRENAMIENTO:\n",
            "----------------------------------------------------\n",
            "\n",
            "mean Accuracy: 0.833 (0.0000)\n",
            "mean Precision: 1.000 (0.0000)\n",
            "mean Recall: 1.000 (0.0000)\n",
            "mean F1-score: 1.000 (0.0000)\n",
            "Gmean: 1.000 (0.0000)\n",
            "\n",
            "VALIDACION (interna al método de validación cruzada):\n",
            "----------------------------------------------------\n",
            "\n",
            "mean Accuracy: 0.833 (0.0000)\n",
            "mean Precision: 0.765 (0.0180)\n",
            "mean Recall: 0.902 (0.0270)\n",
            "mean F1-score: 0.827 (0.0156)\n",
            "Gmean: 0.563 (0.0564)\n",
            "\n"
          ]
        }
      ],
      "source": [
        "modelos, nombres = get_models()  # cargamos los modelos a comparar\n",
        "resultados = list()\n",
        "\n",
        "#Define la validación cruzada con los paràmetros requeridos:\n",
        "cv = RepeatedStratifiedKFold(n_splits=5, n_repeats=3, random_state=45)\n",
        "\n",
        "for i in range(len(modelos)):\n",
        "\n",
        "    pipeline = Pipeline(steps=[(\"ct\", columnasTransformer), (\"m\", modelos[i])])\n",
        "    metricas = {\n",
        "        \"accuracy\": make_scorer(accuracy),\n",
        "        \"precision\": make_scorer(precision),\n",
        "        \"recall\": make_scorer(recall),\n",
        "        \"f1\": make_scorer(f1),\n",
        "        \"gmean\": make_scorer(gmean),\n",
        "    }\n",
        "\n",
        "    scores = cross_validate(\n",
        "        pipeline, X_train, Y_train, scoring=metricas, cv=cv, return_train_score=True,\n",
        "    )\n",
        "\n",
        "    resultados.append(scores)\n",
        "    print('===============================\\n',nombres[i],':\\n===============================')\n",
        "    print('ENTRENAMIENTO:')\n",
        "    print('mean Accuracy: %.3f (%.4f)\\nmean Precision: %.3f (%.4f)\\nmean Recall: %.3f (%.4f)\\nmean F1-score: %.3f (%.4f)\\nGmean: %.3f (%.4f)\\n' % (\n",
        "                                                                          np.mean(scores['train_accuracy']),\n",
        "                                                                          np.std(scores['train_accuracy']),\n",
        "                                                                          np.mean(scores['train_precision']),\n",
        "                                                                          np.std(scores['train_precision']), \n",
        "                                                                          np.mean(scores['train_recall']),\n",
        "                                                                          np.std(scores['train_recall']),\n",
        "                                                                          np.mean(scores['train_f1']),\n",
        "                                                                          np.std(scores['train_f1']),\n",
        "                                                                          np.mean(scores['train_gmean']),\n",
        "                                                                          np.std(scores['train_gmean']),\n",
        "                                                                          ))\n",
        "    \n",
        "    print('VALIDACION (interna al método de validación cruzada):')\n",
        "    print('mean Accuracy: %.3f (%.4f)\\nmean Precision: %.3f (%.4f)\\nmean Recall: %.3f (%.4f)\\nmean F1-score: %.3f (%.4f)\\nGmean: %.3f (%.4f)\\n' % (\n",
        "                                                                          np.mean(scores['test_accuracy']),\n",
        "                                                                          np.std(scores['test_accuracy']),\n",
        "                                                                          np.mean(scores['test_precision']),\n",
        "                                                                          np.std(scores['test_precision']), \n",
        "                                                                          np.mean(scores['test_recall']),\n",
        "                                                                          np.std(scores['test_recall']),\n",
        "                                                                          np.mean(scores['test_f1']),\n",
        "                                                                          np.std(scores['test_f1']),\n",
        "                                                                          np.mean(scores['test_gmean']),\n",
        "                                                                          np.std(scores['test_gmean']),\n",
        "                                                                          ))\n",
        "    \n",
        "    "
      ]
    },
    {
      "cell_type": "markdown",
      "source": [
        "###*diagramas de caja y bigotes de los tres modelos con la métrica \"recall”.*"
      ],
      "metadata": {
        "id": "cJM4Jp18NtKW"
      }
    },
    {
      "cell_type": "code",
      "source": [
        "#Imprimimos las metricas\n",
        "sns.set(rc={'figure.figsize':(8,4)})\n",
        "\n",
        "bprecall = list()\n",
        "\n",
        "for i in range (len(resultados)):\n",
        "  rr = resultados[i]['test_recall']\n",
        "  bprecall.append(rr)\n",
        "\n",
        "plt.boxplot(bprecall, labels=nombres, showmeans=True)\n",
        "\n",
        "plt.show()"
      ],
      "metadata": {
        "id": "iCyOjP-IMzfh",
        "outputId": "d15b3d09-282e-405b-f5d6-0aae5e0e9a83",
        "colab": {
          "base_uri": "https://localhost:8080/",
          "height": 268
        }
      },
      "execution_count": 42,
      "outputs": [
        {
          "output_type": "display_data",
          "data": {
            "text/plain": [
              "<Figure size 576x288 with 1 Axes>"
            ],
            "image/png": "[encoded data removed]"
          },
          "metadata": {}
        }
      ]
    },
    {
      "cell_type": "markdown",
      "metadata": {
        "id": "8liNODn8UlO2"
      },
      "source": [
        "###*¿Alguno de los modelos está subentrenado o sobreentrenado? Justifica tu respuesta.*\n",
        "\n",
        "FALTA"
      ]
    },
    {
      "cell_type": "markdown",
      "metadata": {
        "id": "IiiMN_Oe5wtu"
      },
      "source": [
        "###*En particular obtengamos algunas de las llamadas curvas de aprendizaje para algunos de estos casos. En dada gráfico debes incluir tus comentarios sobre el modelo generado:*\n",
        "\n",
        "###*i. Obtener las curvas de aprendizaje (learning_curve) en la cual se va incrementando el tamaño de la muestra para el modelo de regresión Logística con sus hiperparámetros predeterminados. Utilizar al menos 20 puntos en la partición de los conjuntos de entrenamiento y la métrica “f1-score”, como evaluación del desempeño de dicha función “learning_curve()”.*\n",
        "\n",
        "###*iii. Obtener las curvas de aprendizaje (learning_curve) en la cual se va  incrementando el tamaño de la muestra para el modelo de regresión bosque aleatorio (random forest) con su hiperparámetros predeterminados. Utilizar al menos 20 puntos en la partición de los conjuntos de entrenamiento y la métrica “recall”, como evaluación del desempeño del modelo.*"
      ]
    },
    {
      "cell_type": "code",
      "execution_count": 43,
      "metadata": {
        "id": "QwdXL3C0SkR1"
      },
      "outputs": [],
      "source": [
        "def mi_LearningCurvePlot(train_sizes, train_scores, val_scores, eje_y):\n",
        "\n",
        "    # Argumentos de entrada de la función mi_LearningCurvePlot:\n",
        "    #      train_sizes : número de observaciones en el conjunto de entrenamiento.\n",
        "    #      train_scores : Exactitud de cada partición en el proceso de Validación-Cruzada (VC) en los datos de entrenamiento.\n",
        "    #                     La dimensión de este conjunto es (pxq) \n",
        "    #                                     donde p=\"número de particiones de manera incremental del conjunto de entrenamiento\".\n",
        "    #                                           q=\"número de particiones de VC\" * \"número de repeticiones de VC con RepitedStratifiedCV\"\n",
        "    #      val_scores : Exactitud de cada partición en el proceso de Validación-Cruzada en los datos de validación.\n",
        "    #                   Es de la misma dimensión que los train_scores. \n",
        "    # Output: la salida es el gráfico con las curvas de aprendizaje.\n",
        "\n",
        "    # Obtenemos los promedios y desviaciones estándar de cada renglón de los resultados de entrenamiento y validación\n",
        "    # La dimensión de cada uno es p=\"número de particiones de manera incremental del conjunto de entrenamiento\".\n",
        "    train_mean = np.mean(train_scores, axis=1)\n",
        "    train_std = np.std(train_scores, axis=1)\n",
        "    val_mean = np.mean(val_scores, axis=1)\n",
        "    val_std = np.std(val_scores, axis=1)\n",
        "\n",
        "    # Graficamos las curvas de aprendizaje incluyendo una región indicando la desviación estándar.\n",
        "    plt.figure(figsize=(7,6))\n",
        "    plt.plot(train_sizes, train_mean, color='blue', marker='o', markersize=5, label='Training')\n",
        "    plt.fill_between(train_sizes, train_mean + train_std, train_mean - train_std, alpha=0.1, color='blue')\n",
        "    \n",
        "    plt.plot(train_sizes, val_mean, color='red', marker='+', markersize=5, linestyle='--', label='Validation')\n",
        "    plt.fill_between(train_sizes, val_mean + val_std, val_mean - val_std, alpha=0.1, color='red')\n",
        "    \n",
        "    plt.title('Curvas de Aprendizaje')\n",
        "    plt.xlabel('Tamaño del conjunto de entrenamiento')\n",
        "    plt.ylabel(eje_y)\n",
        "    plt.grid()\n",
        "    plt.legend(loc='lower left')\n",
        "    plt.show()\n"
      ]
    },
    {
      "cell_type": "code",
      "execution_count": 44,
      "metadata": {
        "id": "iX6YCyLfSsSD"
      },
      "outputs": [],
      "source": [
        "\n",
        "#PRUEBAS DEL CODIGO DE GRAFICACION\n",
        "#=================================\n",
        "#datos = make_circles(n_samples=3000,     # cantidad de puntos a generar\n",
        "#                    noise=0.2,          # ruido gaussiano con esta desviación estándar \n",
        "#                    factor=0.5,         # factor de separación entre los conjuntos\n",
        "#                    random_state=1      # semilla para que todos obtengamos resultados análogos\n",
        "#                    )\n",
        "\n",
        "#X, Y = datos     # definimos muestros datos de entrada y salida.\n",
        "#X = 100 * X     # Incrementamos la escala de los datos de entrada para que ejercicio incluya transformación de datos.\n",
        "#print(X.shape)\n",
        "#print(Y.shape)\n",
        "#X_train, X_test, Y_train, Y_test = train_test_split(X, Y, test_size=0.2, random_state=7)\n",
        "#modelos[0] = LogisticRegression(max_iter=3000)\n",
        "#modelos[1] = DecisionTreeClassifier()\n",
        "#modelos[2] = RandomForestClassifier()\n",
        "#FIN DEL CODIGO DE PRUEBA=================================\n",
        "\n"
      ]
    },
    {
      "cell_type": "code",
      "execution_count": 45,
      "metadata": {
        "colab": {
          "base_uri": "https://localhost:8080/",
          "height": 1000
        },
        "id": "87V-XwFS6BQ1",
        "outputId": "73d874e2-ea5e-470a-fc41-26ded3db1dbf"
      },
      "outputs": [
        {
          "output_type": "stream",
          "name": "stdout",
          "text": [
            "---------------------------\n",
            " MODELO: LR \n",
            "---------------------------\n"
          ]
        },
        {
          "output_type": "display_data",
          "data": {
            "text/plain": [
              "<Figure size 504x432 with 1 Axes>"
            ],
            "image/png": "[encoded data removed]"
          },
          "metadata": {}
        },
        {
          "output_type": "stream",
          "name": "stdout",
          "text": [
            "---------------------------\n",
            " MODELO: DT \n",
            "---------------------------\n"
          ]
        },
        {
          "output_type": "display_data",
          "data": {
            "text/plain": [
              "<Figure size 504x432 with 1 Axes>"
            ],
            "image/png": "[encoded data removed]"
          },
          "metadata": {}
        },
        {
          "output_type": "stream",
          "name": "stdout",
          "text": [
            "---------------------------\n",
            " MODELO: RF \n",
            "---------------------------\n"
          ]
        },
        {
          "output_type": "display_data",
          "data": {
            "text/plain": [
              "<Figure size 504x432 with 1 Axes>"
            ],
            "image/png": "[encoded data removed]"
          },
          "metadata": {}
        }
      ],
      "source": [
        "\n",
        "delta_train_sz = np.linspace(.05, 1, 20)\n",
        "\n",
        "for i in range(len(modelos)):\n",
        "    #CODIGO DE PRUEBA\n",
        "    #pipeline = Pipeline(steps=[('escalar',StandardScaler()),('modelo',modelos[i]),])\n",
        "    metricas = {\"f1\": make_scorer(f1)}\n",
        "\n",
        "\n",
        "    pipeline = Pipeline(steps=[(\"ct\", columnasTransformer), (\"m\", modelos[i])])\n",
        "#    metricas = {\n",
        "#        \"accuracy\": make_scorer(accuracy),\n",
        "#        \"precision\": make_scorer(precision),\n",
        "#        \"recall\": make_scorer(recall),\n",
        "#        \"f1\": make_scorer(f1),\n",
        "#        \"gmean\": make_scorer(gmean),\n",
        "#    }\n",
        "\n",
        "    tr_sizes, tr_scores, val_scores = learning_curve(estimator = pipeline,    \n",
        "                                                        X = X_train,\n",
        "                                                        y = Y_train,\n",
        "                                                        scoring=make_scorer(f1),\n",
        "                                                        cv = cv,\n",
        "                                                        train_sizes = delta_train_sz,\n",
        "                                                        random_state=45)\n",
        "      \n",
        "    # Obtenemos el gráfico con las curvas de aprendizaje:\n",
        "    print('---------------------------\\n','MODELO: '+nombres[i],'\\n---------------------------')\n",
        "    mi_LearningCurvePlot(tr_sizes, tr_scores, val_scores, 'f1-score')\n",
        "\n"
      ]
    },
    {
      "cell_type": "markdown",
      "source": [
        "###*ii. Obtener las curvas de validación (validation_curve) en la cual se va incrementando la complejidad del hiperparámetro “max_depth” para el modelo de árbol de decisión con sus hiperparámetros predeterminados. Utilizar valores de máxima profundidad desde 1 hasta 20 y con la métrica “f1-score” para la evaluación del desempeño del modelo.*"
      ],
      "metadata": {
        "id": "mBy_iEUWcAHu"
      }
    },
    {
      "cell_type": "code",
      "source": [
        "\n",
        "modelo = DecisionTreeClassifier()\n",
        "pipeline = Pipeline(steps=[(\"ct\", columnasTransformer), (\"m\", modelo)])\n",
        "\n",
        "max_depth_range = range(1, 20)\n",
        "\n",
        "#pipeline.get_params().keys().\" % (key, self)\n",
        "\n",
        "train_scores, test_scores = validation_curve(\n",
        "    estimator=pipeline, \n",
        "    X=X_train,\n",
        "    y=Y_train,\n",
        "    param_name=\"max_depth\",\n",
        "    param_range=max_depth_range,\n",
        "    scoring=make_scorer(f1), \n",
        "    cv=cv\n",
        "    )\n",
        "\n",
        "train_mean = np.mean(train_scores, axis=1)\n",
        "train_std = np.std(train_scores, axis=1)\n",
        "test_mean = np.mean(test_scores, axis=1)\n",
        "test_std = np.std(test_scores, axis=1)\n",
        "\n",
        "plt.figure(figsize=(7,6))\n",
        "\n",
        "plt.plot(delta_train_sz, train_mean, color='blue', marker='o', markersize=5, label='Training')\n",
        "plt.fill_between(delta_train_sz, train_mean + train_std, train_mean - train_std, alpha=0.1, color='blue')\n",
        "    \n",
        "plt.plot(delta_train_sz, test_mean, color='red', marker='+', markersize=5, linestyle='--', label='Validation')\n",
        "plt.fill_between(delta_train_sz, test_mean + test_std, test_mean - test_std, alpha=0.1, color='red')\n",
        "    \n",
        "plt.title('Curvas de Aprendizaje')\n",
        "plt.xlabel('Tamaño del conjunto de entrenamiento')\n",
        "plt.ylabel('f1-sdcore')\n",
        "plt.grid()\n",
        "plt.legend(loc='lower left')\n",
        "plt.show()\n"
      ],
      "metadata": {
        "id": "9BLyrnTzcB1S",
        "colab": {
          "base_uri": "https://localhost:8080/",
          "height": 883
        },
        "outputId": "5dbde7df-7517-4eb5-c01c-dc25482966cc"
      },
      "execution_count": 95,
      "outputs": [
        {
          "output_type": "error",
          "ename": "ValueError",
          "evalue": "ignored",
          "traceback": [
            "\u001b[0;31m---------------------------------------------------------------------------\u001b[0m",
            "\u001b[0;31mValueError\u001b[0m                                Traceback (most recent call last)",
            "\u001b[0;32m<ipython-input-95-bf1105b890b2>\u001b[0m in \u001b[0;36m<module>\u001b[0;34m\u001b[0m\n\u001b[1;32m     13\u001b[0m     \u001b[0mparam_range\u001b[0m\u001b[0;34m=\u001b[0m\u001b[0mmax_depth_range\u001b[0m\u001b[0;34m,\u001b[0m\u001b[0;34m\u001b[0m\u001b[0;34m\u001b[0m\u001b[0m\n\u001b[1;32m     14\u001b[0m     \u001b[0mscoring\u001b[0m\u001b[0;34m=\u001b[0m\u001b[0mmake_scorer\u001b[0m\u001b[0;34m(\u001b[0m\u001b[0mf1\u001b[0m\u001b[0;34m)\u001b[0m\u001b[0;34m,\u001b[0m\u001b[0;34m\u001b[0m\u001b[0;34m\u001b[0m\u001b[0m\n\u001b[0;32m---> 15\u001b[0;31m     \u001b[0mcv\u001b[0m\u001b[0;34m=\u001b[0m\u001b[0mcv\u001b[0m\u001b[0;34m\u001b[0m\u001b[0;34m\u001b[0m\u001b[0m\n\u001b[0m\u001b[1;32m     16\u001b[0m     )\n\u001b[1;32m     17\u001b[0m \u001b[0;34m\u001b[0m\u001b[0m\n",
            "\u001b[0;32m/usr/local/lib/python3.7/dist-packages/sklearn/model_selection/_validation.py\u001b[0m in \u001b[0;36mvalidation_curve\u001b[0;34m(estimator, X, y, param_name, param_range, groups, cv, scoring, n_jobs, pre_dispatch, verbose, error_score, fit_params)\u001b[0m\n\u001b[1;32m   1843\u001b[0m         )\n\u001b[1;32m   1844\u001b[0m         \u001b[0;31m# NOTE do not change order of iteration to allow one time cv splitters\u001b[0m\u001b[0;34m\u001b[0m\u001b[0;34m\u001b[0m\u001b[0;34m\u001b[0m\u001b[0m\n\u001b[0;32m-> 1845\u001b[0;31m         \u001b[0;32mfor\u001b[0m \u001b[0mtrain\u001b[0m\u001b[0;34m,\u001b[0m \u001b[0mtest\u001b[0m \u001b[0;32min\u001b[0m \u001b[0mcv\u001b[0m\u001b[0;34m.\u001b[0m\u001b[0msplit\u001b[0m\u001b[0;34m(\u001b[0m\u001b[0mX\u001b[0m\u001b[0;34m,\u001b[0m \u001b[0my\u001b[0m\u001b[0;34m,\u001b[0m \u001b[0mgroups\u001b[0m\u001b[0;34m)\u001b[0m\u001b[0;34m\u001b[0m\u001b[0;34m\u001b[0m\u001b[0m\n\u001b[0m\u001b[1;32m   1846\u001b[0m         \u001b[0;32mfor\u001b[0m \u001b[0mv\u001b[0m \u001b[0;32min\u001b[0m \u001b[0mparam_range\u001b[0m\u001b[0;34m\u001b[0m\u001b[0;34m\u001b[0m\u001b[0m\n\u001b[1;32m   1847\u001b[0m     )\n",
            "\u001b[0;32m/usr/local/lib/python3.7/dist-packages/joblib/parallel.py\u001b[0m in \u001b[0;36m__call__\u001b[0;34m(self, iterable)\u001b[0m\n\u001b[1;32m   1083\u001b[0m             \u001b[0;31m# remaining jobs.\u001b[0m\u001b[0;34m\u001b[0m\u001b[0;34m\u001b[0m\u001b[0;34m\u001b[0m\u001b[0m\n\u001b[1;32m   1084\u001b[0m             \u001b[0mself\u001b[0m\u001b[0;34m.\u001b[0m\u001b[0m_iterating\u001b[0m \u001b[0;34m=\u001b[0m \u001b[0;32mFalse\u001b[0m\u001b[0;34m\u001b[0m\u001b[0;34m\u001b[0m\u001b[0m\n\u001b[0;32m-> 1085\u001b[0;31m             \u001b[0;32mif\u001b[0m \u001b[0mself\u001b[0m\u001b[0;34m.\u001b[0m\u001b[0mdispatch_one_batch\u001b[0m\u001b[0;34m(\u001b[0m\u001b[0miterator\u001b[0m\u001b[0;34m)\u001b[0m\u001b[0;34m:\u001b[0m\u001b[0;34m\u001b[0m\u001b[0;34m\u001b[0m\u001b[0m\n\u001b[0m\u001b[1;32m   1086\u001b[0m                 \u001b[0mself\u001b[0m\u001b[0;34m.\u001b[0m\u001b[0m_iterating\u001b[0m \u001b[0;34m=\u001b[0m \u001b[0mself\u001b[0m\u001b[0;34m.\u001b[0m\u001b[0m_original_iterator\u001b[0m \u001b[0;32mis\u001b[0m \u001b[0;32mnot\u001b[0m \u001b[0;32mNone\u001b[0m\u001b[0;34m\u001b[0m\u001b[0;34m\u001b[0m\u001b[0m\n\u001b[1;32m   1087\u001b[0m \u001b[0;34m\u001b[0m\u001b[0m\n",
            "\u001b[0;32m/usr/local/lib/python3.7/dist-packages/joblib/parallel.py\u001b[0m in \u001b[0;36mdispatch_one_batch\u001b[0;34m(self, iterator)\u001b[0m\n\u001b[1;32m    899\u001b[0m                 \u001b[0;32mreturn\u001b[0m \u001b[0;32mFalse\u001b[0m\u001b[0;34m\u001b[0m\u001b[0;34m\u001b[0m\u001b[0m\n\u001b[1;32m    900\u001b[0m             \u001b[0;32melse\u001b[0m\u001b[0;34m:\u001b[0m\u001b[0;34m\u001b[0m\u001b[0;34m\u001b[0m\u001b[0m\n\u001b[0;32m--> 901\u001b[0;31m                 \u001b[0mself\u001b[0m\u001b[0;34m.\u001b[0m\u001b[0m_dispatch\u001b[0m\u001b[0;34m(\u001b[0m\u001b[0mtasks\u001b[0m\u001b[0;34m)\u001b[0m\u001b[0;34m\u001b[0m\u001b[0;34m\u001b[0m\u001b[0m\n\u001b[0m\u001b[1;32m    902\u001b[0m                 \u001b[0;32mreturn\u001b[0m \u001b[0;32mTrue\u001b[0m\u001b[0;34m\u001b[0m\u001b[0;34m\u001b[0m\u001b[0m\n\u001b[1;32m    903\u001b[0m \u001b[0;34m\u001b[0m\u001b[0m\n",
            "\u001b[0;32m/usr/local/lib/python3.7/dist-packages/joblib/parallel.py\u001b[0m in \u001b[0;36m_dispatch\u001b[0;34m(self, batch)\u001b[0m\n\u001b[1;32m    817\u001b[0m         \u001b[0;32mwith\u001b[0m \u001b[0mself\u001b[0m\u001b[0;34m.\u001b[0m\u001b[0m_lock\u001b[0m\u001b[0;34m:\u001b[0m\u001b[0;34m\u001b[0m\u001b[0;34m\u001b[0m\u001b[0m\n\u001b[1;32m    818\u001b[0m             \u001b[0mjob_idx\u001b[0m \u001b[0;34m=\u001b[0m \u001b[0mlen\u001b[0m\u001b[0;34m(\u001b[0m\u001b[0mself\u001b[0m\u001b[0;34m.\u001b[0m\u001b[0m_jobs\u001b[0m\u001b[0;34m)\u001b[0m\u001b[0;34m\u001b[0m\u001b[0;34m\u001b[0m\u001b[0m\n\u001b[0;32m--> 819\u001b[0;31m             \u001b[0mjob\u001b[0m \u001b[0;34m=\u001b[0m \u001b[0mself\u001b[0m\u001b[0;34m.\u001b[0m\u001b[0m_backend\u001b[0m\u001b[0;34m.\u001b[0m\u001b[0mapply_async\u001b[0m\u001b[0;34m(\u001b[0m\u001b[0mbatch\u001b[0m\u001b[0;34m,\u001b[0m \u001b[0mcallback\u001b[0m\u001b[0;34m=\u001b[0m\u001b[0mcb\u001b[0m\u001b[0;34m)\u001b[0m\u001b[0;34m\u001b[0m\u001b[0;34m\u001b[0m\u001b[0m\n\u001b[0m\u001b[1;32m    820\u001b[0m             \u001b[0;31m# A job can complete so quickly than its callback is\u001b[0m\u001b[0;34m\u001b[0m\u001b[0;34m\u001b[0m\u001b[0;34m\u001b[0m\u001b[0m\n\u001b[1;32m    821\u001b[0m             \u001b[0;31m# called before we get here, causing self._jobs to\u001b[0m\u001b[0;34m\u001b[0m\u001b[0;34m\u001b[0m\u001b[0;34m\u001b[0m\u001b[0m\n",
            "\u001b[0;32m/usr/local/lib/python3.7/dist-packages/joblib/_parallel_backends.py\u001b[0m in \u001b[0;36mapply_async\u001b[0;34m(self, func, callback)\u001b[0m\n\u001b[1;32m    206\u001b[0m     \u001b[0;32mdef\u001b[0m \u001b[0mapply_async\u001b[0m\u001b[0;34m(\u001b[0m\u001b[0mself\u001b[0m\u001b[0;34m,\u001b[0m \u001b[0mfunc\u001b[0m\u001b[0;34m,\u001b[0m \u001b[0mcallback\u001b[0m\u001b[0;34m=\u001b[0m\u001b[0;32mNone\u001b[0m\u001b[0;34m)\u001b[0m\u001b[0;34m:\u001b[0m\u001b[0;34m\u001b[0m\u001b[0;34m\u001b[0m\u001b[0m\n\u001b[1;32m    207\u001b[0m         \u001b[0;34m\"\"\"Schedule a func to be run\"\"\"\u001b[0m\u001b[0;34m\u001b[0m\u001b[0;34m\u001b[0m\u001b[0m\n\u001b[0;32m--> 208\u001b[0;31m         \u001b[0mresult\u001b[0m \u001b[0;34m=\u001b[0m \u001b[0mImmediateResult\u001b[0m\u001b[0;34m(\u001b[0m\u001b[0mfunc\u001b[0m\u001b[0;34m)\u001b[0m\u001b[0;34m\u001b[0m\u001b[0;34m\u001b[0m\u001b[0m\n\u001b[0m\u001b[1;32m    209\u001b[0m         \u001b[0;32mif\u001b[0m \u001b[0mcallback\u001b[0m\u001b[0;34m:\u001b[0m\u001b[0;34m\u001b[0m\u001b[0;34m\u001b[0m\u001b[0m\n\u001b[1;32m    210\u001b[0m             \u001b[0mcallback\u001b[0m\u001b[0;34m(\u001b[0m\u001b[0mresult\u001b[0m\u001b[0;34m)\u001b[0m\u001b[0;34m\u001b[0m\u001b[0;34m\u001b[0m\u001b[0m\n",
            "\u001b[0;32m/usr/local/lib/python3.7/dist-packages/joblib/_parallel_backends.py\u001b[0m in \u001b[0;36m__init__\u001b[0;34m(self, batch)\u001b[0m\n\u001b[1;32m    595\u001b[0m         \u001b[0;31m# Don't delay the application, to avoid keeping the input\u001b[0m\u001b[0;34m\u001b[0m\u001b[0;34m\u001b[0m\u001b[0;34m\u001b[0m\u001b[0m\n\u001b[1;32m    596\u001b[0m         \u001b[0;31m# arguments in memory\u001b[0m\u001b[0;34m\u001b[0m\u001b[0;34m\u001b[0m\u001b[0;34m\u001b[0m\u001b[0m\n\u001b[0;32m--> 597\u001b[0;31m         \u001b[0mself\u001b[0m\u001b[0;34m.\u001b[0m\u001b[0mresults\u001b[0m \u001b[0;34m=\u001b[0m \u001b[0mbatch\u001b[0m\u001b[0;34m(\u001b[0m\u001b[0;34m)\u001b[0m\u001b[0;34m\u001b[0m\u001b[0;34m\u001b[0m\u001b[0m\n\u001b[0m\u001b[1;32m    598\u001b[0m \u001b[0;34m\u001b[0m\u001b[0m\n\u001b[1;32m    599\u001b[0m     \u001b[0;32mdef\u001b[0m \u001b[0mget\u001b[0m\u001b[0;34m(\u001b[0m\u001b[0mself\u001b[0m\u001b[0;34m)\u001b[0m\u001b[0;34m:\u001b[0m\u001b[0;34m\u001b[0m\u001b[0;34m\u001b[0m\u001b[0m\n",
            "\u001b[0;32m/usr/local/lib/python3.7/dist-packages/joblib/parallel.py\u001b[0m in \u001b[0;36m__call__\u001b[0;34m(self)\u001b[0m\n\u001b[1;32m    287\u001b[0m         \u001b[0;32mwith\u001b[0m \u001b[0mparallel_backend\u001b[0m\u001b[0;34m(\u001b[0m\u001b[0mself\u001b[0m\u001b[0;34m.\u001b[0m\u001b[0m_backend\u001b[0m\u001b[0;34m,\u001b[0m \u001b[0mn_jobs\u001b[0m\u001b[0;34m=\u001b[0m\u001b[0mself\u001b[0m\u001b[0;34m.\u001b[0m\u001b[0m_n_jobs\u001b[0m\u001b[0;34m)\u001b[0m\u001b[0;34m:\u001b[0m\u001b[0;34m\u001b[0m\u001b[0;34m\u001b[0m\u001b[0m\n\u001b[1;32m    288\u001b[0m             return [func(*args, **kwargs)\n\u001b[0;32m--> 289\u001b[0;31m                     for func, args, kwargs in self.items]\n\u001b[0m\u001b[1;32m    290\u001b[0m \u001b[0;34m\u001b[0m\u001b[0m\n\u001b[1;32m    291\u001b[0m     \u001b[0;32mdef\u001b[0m \u001b[0m__reduce__\u001b[0m\u001b[0;34m(\u001b[0m\u001b[0mself\u001b[0m\u001b[0;34m)\u001b[0m\u001b[0;34m:\u001b[0m\u001b[0;34m\u001b[0m\u001b[0;34m\u001b[0m\u001b[0m\n",
            "\u001b[0;32m/usr/local/lib/python3.7/dist-packages/joblib/parallel.py\u001b[0m in \u001b[0;36m<listcomp>\u001b[0;34m(.0)\u001b[0m\n\u001b[1;32m    287\u001b[0m         \u001b[0;32mwith\u001b[0m \u001b[0mparallel_backend\u001b[0m\u001b[0;34m(\u001b[0m\u001b[0mself\u001b[0m\u001b[0;34m.\u001b[0m\u001b[0m_backend\u001b[0m\u001b[0;34m,\u001b[0m \u001b[0mn_jobs\u001b[0m\u001b[0;34m=\u001b[0m\u001b[0mself\u001b[0m\u001b[0;34m.\u001b[0m\u001b[0m_n_jobs\u001b[0m\u001b[0;34m)\u001b[0m\u001b[0;34m:\u001b[0m\u001b[0;34m\u001b[0m\u001b[0;34m\u001b[0m\u001b[0m\n\u001b[1;32m    288\u001b[0m             return [func(*args, **kwargs)\n\u001b[0;32m--> 289\u001b[0;31m                     for func, args, kwargs in self.items]\n\u001b[0m\u001b[1;32m    290\u001b[0m \u001b[0;34m\u001b[0m\u001b[0m\n\u001b[1;32m    291\u001b[0m     \u001b[0;32mdef\u001b[0m \u001b[0m__reduce__\u001b[0m\u001b[0;34m(\u001b[0m\u001b[0mself\u001b[0m\u001b[0;34m)\u001b[0m\u001b[0;34m:\u001b[0m\u001b[0;34m\u001b[0m\u001b[0;34m\u001b[0m\u001b[0m\n",
            "\u001b[0;32m/usr/local/lib/python3.7/dist-packages/sklearn/utils/fixes.py\u001b[0m in \u001b[0;36m__call__\u001b[0;34m(self, *args, **kwargs)\u001b[0m\n\u001b[1;32m    214\u001b[0m     \u001b[0;32mdef\u001b[0m \u001b[0m__call__\u001b[0m\u001b[0;34m(\u001b[0m\u001b[0mself\u001b[0m\u001b[0;34m,\u001b[0m \u001b[0;34m*\u001b[0m\u001b[0margs\u001b[0m\u001b[0;34m,\u001b[0m \u001b[0;34m**\u001b[0m\u001b[0mkwargs\u001b[0m\u001b[0;34m)\u001b[0m\u001b[0;34m:\u001b[0m\u001b[0;34m\u001b[0m\u001b[0;34m\u001b[0m\u001b[0m\n\u001b[1;32m    215\u001b[0m         \u001b[0;32mwith\u001b[0m \u001b[0mconfig_context\u001b[0m\u001b[0;34m(\u001b[0m\u001b[0;34m**\u001b[0m\u001b[0mself\u001b[0m\u001b[0;34m.\u001b[0m\u001b[0mconfig\u001b[0m\u001b[0;34m)\u001b[0m\u001b[0;34m:\u001b[0m\u001b[0;34m\u001b[0m\u001b[0;34m\u001b[0m\u001b[0m\n\u001b[0;32m--> 216\u001b[0;31m             \u001b[0;32mreturn\u001b[0m \u001b[0mself\u001b[0m\u001b[0;34m.\u001b[0m\u001b[0mfunction\u001b[0m\u001b[0;34m(\u001b[0m\u001b[0;34m*\u001b[0m\u001b[0margs\u001b[0m\u001b[0;34m,\u001b[0m \u001b[0;34m**\u001b[0m\u001b[0mkwargs\u001b[0m\u001b[0;34m)\u001b[0m\u001b[0;34m\u001b[0m\u001b[0;34m\u001b[0m\u001b[0m\n\u001b[0m\u001b[1;32m    217\u001b[0m \u001b[0;34m\u001b[0m\u001b[0m\n\u001b[1;32m    218\u001b[0m \u001b[0;34m\u001b[0m\u001b[0m\n",
            "\u001b[0;32m/usr/local/lib/python3.7/dist-packages/sklearn/model_selection/_validation.py\u001b[0m in \u001b[0;36m_fit_and_score\u001b[0;34m(estimator, X, y, scorer, train, test, verbose, parameters, fit_params, return_train_score, return_parameters, return_n_test_samples, return_times, return_estimator, split_progress, candidate_progress, error_score)\u001b[0m\n\u001b[1;32m    666\u001b[0m             \u001b[0mcloned_parameters\u001b[0m\u001b[0;34m[\u001b[0m\u001b[0mk\u001b[0m\u001b[0;34m]\u001b[0m \u001b[0;34m=\u001b[0m \u001b[0mclone\u001b[0m\u001b[0;34m(\u001b[0m\u001b[0mv\u001b[0m\u001b[0;34m,\u001b[0m \u001b[0msafe\u001b[0m\u001b[0;34m=\u001b[0m\u001b[0;32mFalse\u001b[0m\u001b[0;34m)\u001b[0m\u001b[0;34m\u001b[0m\u001b[0;34m\u001b[0m\u001b[0m\n\u001b[1;32m    667\u001b[0m \u001b[0;34m\u001b[0m\u001b[0m\n\u001b[0;32m--> 668\u001b[0;31m         \u001b[0mestimator\u001b[0m \u001b[0;34m=\u001b[0m \u001b[0mestimator\u001b[0m\u001b[0;34m.\u001b[0m\u001b[0mset_params\u001b[0m\u001b[0;34m(\u001b[0m\u001b[0;34m**\u001b[0m\u001b[0mcloned_parameters\u001b[0m\u001b[0;34m)\u001b[0m\u001b[0;34m\u001b[0m\u001b[0;34m\u001b[0m\u001b[0m\n\u001b[0m\u001b[1;32m    669\u001b[0m \u001b[0;34m\u001b[0m\u001b[0m\n\u001b[1;32m    670\u001b[0m     \u001b[0mstart_time\u001b[0m \u001b[0;34m=\u001b[0m \u001b[0mtime\u001b[0m\u001b[0;34m.\u001b[0m\u001b[0mtime\u001b[0m\u001b[0;34m(\u001b[0m\u001b[0;34m)\u001b[0m\u001b[0;34m\u001b[0m\u001b[0;34m\u001b[0m\u001b[0m\n",
            "\u001b[0;32m/usr/local/lib/python3.7/dist-packages/sklearn/pipeline.py\u001b[0m in \u001b[0;36mset_params\u001b[0;34m(self, **kwargs)\u001b[0m\n\u001b[1;32m    186\u001b[0m             \u001b[0mPipeline\u001b[0m \u001b[0;32mclass\u001b[0m \u001b[0minstance\u001b[0m\u001b[0;34m.\u001b[0m\u001b[0;34m\u001b[0m\u001b[0;34m\u001b[0m\u001b[0m\n\u001b[1;32m    187\u001b[0m         \"\"\"\n\u001b[0;32m--> 188\u001b[0;31m         \u001b[0mself\u001b[0m\u001b[0;34m.\u001b[0m\u001b[0m_set_params\u001b[0m\u001b[0;34m(\u001b[0m\u001b[0;34m\"steps\"\u001b[0m\u001b[0;34m,\u001b[0m \u001b[0;34m**\u001b[0m\u001b[0mkwargs\u001b[0m\u001b[0;34m)\u001b[0m\u001b[0;34m\u001b[0m\u001b[0;34m\u001b[0m\u001b[0m\n\u001b[0m\u001b[1;32m    189\u001b[0m         \u001b[0;32mreturn\u001b[0m \u001b[0mself\u001b[0m\u001b[0;34m\u001b[0m\u001b[0;34m\u001b[0m\u001b[0m\n\u001b[1;32m    190\u001b[0m \u001b[0;34m\u001b[0m\u001b[0m\n",
            "\u001b[0;32m/usr/local/lib/python3.7/dist-packages/sklearn/utils/metaestimators.py\u001b[0m in \u001b[0;36m_set_params\u001b[0;34m(self, attr, **params)\u001b[0m\n\u001b[1;32m     52\u001b[0m                 \u001b[0mself\u001b[0m\u001b[0;34m.\u001b[0m\u001b[0m_replace_estimator\u001b[0m\u001b[0;34m(\u001b[0m\u001b[0mattr\u001b[0m\u001b[0;34m,\u001b[0m \u001b[0mname\u001b[0m\u001b[0;34m,\u001b[0m \u001b[0mparams\u001b[0m\u001b[0;34m.\u001b[0m\u001b[0mpop\u001b[0m\u001b[0;34m(\u001b[0m\u001b[0mname\u001b[0m\u001b[0;34m)\u001b[0m\u001b[0;34m)\u001b[0m\u001b[0;34m\u001b[0m\u001b[0;34m\u001b[0m\u001b[0m\n\u001b[1;32m     53\u001b[0m         \u001b[0;31m# 3. Step parameters and other initialisation arguments\u001b[0m\u001b[0;34m\u001b[0m\u001b[0;34m\u001b[0m\u001b[0;34m\u001b[0m\u001b[0m\n\u001b[0;32m---> 54\u001b[0;31m         \u001b[0msuper\u001b[0m\u001b[0;34m(\u001b[0m\u001b[0;34m)\u001b[0m\u001b[0;34m.\u001b[0m\u001b[0mset_params\u001b[0m\u001b[0;34m(\u001b[0m\u001b[0;34m**\u001b[0m\u001b[0mparams\u001b[0m\u001b[0;34m)\u001b[0m\u001b[0;34m\u001b[0m\u001b[0;34m\u001b[0m\u001b[0m\n\u001b[0m\u001b[1;32m     55\u001b[0m         \u001b[0;32mreturn\u001b[0m \u001b[0mself\u001b[0m\u001b[0;34m\u001b[0m\u001b[0;34m\u001b[0m\u001b[0m\n\u001b[1;32m     56\u001b[0m \u001b[0;34m\u001b[0m\u001b[0m\n",
            "\u001b[0;32m/usr/local/lib/python3.7/dist-packages/sklearn/base.py\u001b[0m in \u001b[0;36mset_params\u001b[0;34m(self, **params)\u001b[0m\n\u001b[1;32m    246\u001b[0m                     \u001b[0;34m\"Invalid parameter %s for estimator %s. \"\u001b[0m\u001b[0;34m\u001b[0m\u001b[0;34m\u001b[0m\u001b[0m\n\u001b[1;32m    247\u001b[0m                     \u001b[0;34m\"Check the list of available parameters \"\u001b[0m\u001b[0;34m\u001b[0m\u001b[0;34m\u001b[0m\u001b[0m\n\u001b[0;32m--> 248\u001b[0;31m                     \u001b[0;34m\"with `estimator.get_params().keys()`.\"\u001b[0m \u001b[0;34m%\u001b[0m \u001b[0;34m(\u001b[0m\u001b[0mkey\u001b[0m\u001b[0;34m,\u001b[0m \u001b[0mself\u001b[0m\u001b[0;34m)\u001b[0m\u001b[0;34m\u001b[0m\u001b[0;34m\u001b[0m\u001b[0m\n\u001b[0m\u001b[1;32m    249\u001b[0m                 )\n\u001b[1;32m    250\u001b[0m \u001b[0;34m\u001b[0m\u001b[0m\n",
            "\u001b[0;31mValueError\u001b[0m: Invalid parameter max_depth for estimator Pipeline(steps=[('ct',\n                 ColumnTransformer(remainder='passthrough',\n                                   transformers=[('catpipe',\n                                                  Pipeline(steps=[('impModa',\n                                                                   SimpleImputer(strategy='most_frequent')),\n                                                                  ('OneHotE',\n                                                                   OneHotEncoder(handle_unknown='ignore'))]),\n                                                  ['status', 'credit_history',\n                                                   'purpose', 'savings',\n                                                   'personal_status_sex',\n                                                   'other_debtors',\n                                                   'other_installment_plans',\n                                                   'housing', 'people_liable',\n                                                   'te...\n                                                                   SimpleImputer(strategy='median')),\n                                                                  ('log',\n                                                                   FunctionTransformer(func=<ufunc 'log'>)),\n                                                                  ('escalaNum',\n                                                                   MinMaxScaler())]),\n                                                  ['duration', 'amount',\n                                                   'age']),\n                                                 ('ordpipe',\n                                                  Pipeline(steps=[('impModa',\n                                                                   SimpleImputer(strategy='most_frequent'))]),\n                                                  ['employment_duration',\n                                                   'installment_rate',\n                                                   'present_residence',\n                                                   'property', 'number_credits',\n                                                   'job'])])),\n                ('m', DecisionTreeClassifier())]). Check the list of available parameters with `estimator.get_params().keys()`."
          ]
        }
      ]
    },
    {
      "cell_type": "markdown",
      "metadata": {
        "id": "Rv7KFq-mC7PS"
      },
      "source": [
        "#**Ejercicio-5.**\n",
        "#Mejoramiento de los hiperparámetros y sobreentrenamiento\n"
      ]
    },
    {
      "cell_type": "markdown",
      "metadata": {
        "id": "ecP-mMbBXe2l"
      },
      "source": [
        "###*a. Para el modelo de regresión logística realizar el entrenamiento buscando sus mejores hiperparámetros con GridSearchCV(). Los hiperparámetros que debes incluir en su búsqueda deben ser al menos los siguientes: C, solver, class_weight y penalty. En este caso deberás usar la métrica (scoring) \"f1-score”. Imprime la mejor combinación de parámetros obtenidos, así como el valor del mejor desempeño (score) obtenido con la métrica f1. ¿Cuál es la utilidad de la métrica “f1-score”? Incluye tus conclusiones.*\n",
        "###*NOTA: Toma en cuenta que no todas las combinaciones de “solver” y “penalty” son posibles, para que lo tomes en cuenta al momento de realizar la búsqueda. Revisa la documentación.*\n"
      ]
    },
    {
      "cell_type": "code",
      "source": [
        "\n",
        "mi_modelo_LR = LogisticRegression(max_iter=3000, random_state=45)\n",
        "\n",
        "#El diccionario siguiente ya esta optimizado para el parametro C y solvers\n",
        "dicc_grid = {'C':[0.01, 0.08, 0.09, 0.1, 0.11, 0.12, 0.4, 1.0, 10], 'solver':['newton-cg','lbfgs','liblinear','sag','saga']}\n",
        "#Ahora probamos valores de penalty.\n",
        "dicc_grid = {'C':[0.11, 0.12], 'solver':['newton-cg','lbfgs', 'sag','saga'], 'penalty':['l2']}\n",
        "dicc_grid = {'C':[0.11, 0.12], 'solver':['liblinear'], 'penalty':['l1','l2']}\n",
        "dicc_grid = {'C':[0.11, 0.12], 'solver':['saga'], 'penalty':['l1','l2']}\n",
        "dicc_grid = {'C':[0.11, 0.12], 'solver':['saga'], 'penalty':['elasticnet'],'l1_ratio':[0, 0.25, 0.50, 0.75, 1]}\n",
        "dicc_grid = {'C':[0.11, 0.12], 'solver':['saga'], 'penalty':['elasticnet'],'l1_ratio':[0, 0.25, 0.50, 0.75, 1],'class_weight':[None,'balanced']}\n",
        "\n",
        "grid = GridSearchCV(estimator=mi_modelo_LR, param_grid=dicc_grid, cv=cv, scoring=make_scorer(f1))\n",
        "# Transformamos los datos de entrada:\n",
        "Xx = columnasTransformer.fit_transform(X_train)\n",
        "# Llevamos a cabo el proceso de etrenamiento con validación-cruzada y búsqueda de malla\n",
        "# Observa que de acuerdo a las opciones incluidas en la malla, se estarán realizando (6\n",
        "# combinaciones diferentes, además de las (10)(5)=50 particiones de la validación-cruza\n",
        "# lo cual implica también un mayor tiempo de entrenamiento.\n",
        "grid.fit(Xx, np.ravel(Y_train))\n",
        "print('f1-score a superar:\\n------------------')\n",
        "print('mean f1-score: %.3f (%.4f)\\n' % (np.mean(scores['test_f1']), np.std(scores['test_f1'])))\n",
        "print('Mejor valor de f1-score obtenido con la mejor combinación:', grid.best_score_)\n",
        "print('Mejor combinación de valores encontrados de los hiperparámetros:', grid.best_params_)\n",
        "print('Métrica utilizada:', grid.scoring)\n",
        "\n",
        "#Guardamos los mejores hiperparámetros extraídos del barrido con GridSearchCV\n",
        "mejores_params_LR = grid.best_params_"
      ],
      "metadata": {
        "id": "Xv6QU-YVp1-l",
        "colab": {
          "base_uri": "https://localhost:8080/"
        },
        "outputId": "3498073d-b206-406a-d2bb-12ecffb3fb4b"
      },
      "execution_count": 63,
      "outputs": [
        {
          "output_type": "stream",
          "name": "stdout",
          "text": [
            "f1-score a superar:\n",
            "------------------\n",
            "mean f1-score: 0.827 (0.0156)\n",
            "\n",
            "Mejor valor de f1-score obtenido con la mejor combinación: 0.8371845992183143\n",
            "Mejor combinación de valores encontrados de los hiperparámetros: {'C': 0.11, 'class_weight': None, 'l1_ratio': 0.25, 'penalty': 'elasticnet', 'solver': 'saga'}\n",
            "Métrica utilizada: make_scorer(f1)\n"
          ]
        }
      ]
    },
    {
      "cell_type": "markdown",
      "metadata": {
        "id": "fg3nXS9zoRRe"
      },
      "source": [
        "### ¿Cuál es la utilidad de la métrica “f1-score”?\n",
        "\n",
        "El f1-score es una métrica de error que mide el desempeño de un modelo calculando la media armónica de la precisión y el recall para la clase positiva minoritaria.\n",
        "Provee resultados precisos para problemas de clasificación balanceados y desbalanceados.\n",
        "\n",
        "F1 score puede ser interpretado como la habilidad de un modelo para capturar casos positivos y ser preciso en su clasificación.\n",
        "Es una métrica popular para problemas de clasificación binaria donde hay un desequilibrio en la distribución de las clases. Por ejemplo, en un problema de detección de spam, donde solo el 1% de los correos electrónicos son spam, la precisión y el recall son buenas métricas para evaluar un modelo. Sin embargo, si el modelo clasifica todos los correos electrónicos como no spam, tendrá una precisión del 99% y un recall del 0%. En este caso, el f1-score es una mejor métrica para evaluar el modelo, ya que es la media armónica de la precisión y el recall, que penaliza los valores bajos de ambas métricas."
      ]
    },
    {
      "cell_type": "markdown",
      "metadata": {
        "id": "3tW0vJN9XonC"
      },
      "source": [
        "###*b. Con los mejores valores de los hiperparámetros encontrados con la métrica “f1-score” para el modelo de regresión logística, obtener las curvas de aprendizaje(learning curve), incrementando el tamaño del conjunto de entrenamiento al menos 20 veces. Si lo crees adecuado, puedes hacer los ajustes que consideres adecuados para mejorar el resultado y evitar el sobreentrenamiento o el subentrenamiento.*\n",
        "\n"
      ]
    },
    {
      "cell_type": "code",
      "execution_count": 64,
      "metadata": {
        "id": "bvHRFOosZYQl",
        "colab": {
          "base_uri": "https://localhost:8080/",
          "height": 445
        },
        "outputId": "84a9f66d-2df3-4fee-998b-3f2a292dd10b"
      },
      "outputs": [
        {
          "output_type": "stream",
          "name": "stdout",
          "text": [
            "MODELO: LR\n",
            "---------------------------\n"
          ]
        },
        {
          "output_type": "display_data",
          "data": {
            "text/plain": [
              "<Figure size 504x432 with 1 Axes>"
            ],
            "image/png": "[encoded data removed]"
          },
          "metadata": {}
        }
      ],
      "source": [
        "#Define los tamaños de conjunto de entrenamiento a usar\n",
        "delta_train_sz = np.linspace(.05, 1, 20)\n",
        "#Define modelo a trabajar en esta sección\n",
        "mejor_modelo_LR = LogisticRegression(max_iter=3000, random_state=45, \n",
        "                                     C=mejores_params_LR.get('C'), \n",
        "                                     solver=mejores_params_LR.get('solver'),\n",
        "                                     class_weight=mejores_params_LR.get('class_weight'),\n",
        "                                     penalty=mejores_params_LR.get('penalty'),\n",
        "                                     l1_ratio=mejores_params_LR.get('l1_ratio'),\n",
        ")\n",
        "\n",
        "pipeline = Pipeline(steps=[(\"ct\", columnasTransformer), (\"m\", mejor_modelo_LR )])\n",
        "tr_sizes, tr_scores, val_scores = learning_curve(estimator = pipeline,    \n",
        "                                                 X = X_train,\n",
        "                                                 y = Y_train,\n",
        "                                                 scoring=make_scorer(f1),\n",
        "                                                 cv = cv,\n",
        "                                                 train_sizes = delta_train_sz,\n",
        "                                                 random_state=45)    \n",
        "# Obtenemos el gráfico con las curvas de aprendizaje:\n",
        "print('MODELO: LR\\n---------------------------')\n",
        "mi_LearningCurvePlot(tr_sizes, tr_scores, val_scores, 'f1-score')"
      ]
    },
    {
      "cell_type": "markdown",
      "metadata": {
        "id": "8wI5rF3VYWfr"
      },
      "source": [
        "###*c. Para el modelo de árbol de decisión (decision tree) realizar el entrenamiento buscando sus mejores hiperparámetros con GridSearchCV(). Los hiperparámetros que debes incluir en su búsqueda deben ser al menos los siguientes: ccp_alpha, criterion, max_depth, min_samples_split y class_weight. En este caso deberás usar la métrica (scoring) “precision”. Imprime la mejor combinación de parámetros obtenidos, así como el valor del mejor desempeño (score) obtenido con la métrica “precision”. ¿Cuál es la utilidad de la métrica “precision”? Incluye tus conclusiones.*\n",
        "\n"
      ]
    },
    {
      "cell_type": "code",
      "source": [
        "mi_modelo_DT = DecisionTreeClassifier()\n",
        "\n",
        "#Parámetros requeridos: ccp_alpha, criterion, max_depth, min_samples_split y class_weight\n",
        "dicc_grid = {'ccp_alpha':np.linspace(0.0, 0.04, 3),\n",
        "             'criterion':['gini', 'entropy'],\n",
        "             #No cambiar!!! En la tarea se piden mínimo 10 pruebas de max_depth\n",
        "             'max_depth':range(1, 21, 2),\n",
        "             'min_samples_split':range(2, 12),\n",
        "             'class_weight':[None,'balanced']}\n",
        "\n",
        "grid = GridSearchCV(estimator=mi_modelo_DT, param_grid=dicc_grid, cv=cv, scoring=make_scorer(precision))\n",
        "# Transformamos los datos de entrada:\n",
        "Xx = columnasTransformer.fit_transform(X_train)\n",
        "# Llevamos a cabo el proceso de etrenamiento con validación-cruzada y búsqueda de malla\n",
        "# Observa que de acuerdo a las opciones incluidas en la malla, se estarán realizando (6\n",
        "# combinaciones diferentes, además de las (10)(5)=50 particiones de la validación-cruza\n",
        "# lo cual implica también un mayor tiempo de entrenamiento.\n",
        "grid.fit(Xx, np.ravel(Y_train))\n",
        "print('Precisión a superar:\\n------------------')\n",
        "print('mean Precisión: %.3f (%.4f)\\n' % (np.mean(scores['test_precision']), np.std(scores['test_precision'])))\n",
        "print('Mejor valor de Precisión obtenido con la mejor combinación:', grid.best_score_)\n",
        "print('Mejor combinación de valores encontrados de los hiperparámetros:', grid.best_params_)\n",
        "print('Métrica utilizada:', grid.scoring)\n",
        "\n",
        "#Guardamos los mejores hiperparámetros extraídos del barrido con GridSearchCV\n",
        "mejores_params_DT = grid.best_params_\n"
      ],
      "metadata": {
        "id": "gbr_JvmppNmA",
        "colab": {
          "base_uri": "https://localhost:8080/"
        },
        "outputId": "aa54573a-4c55-4752-bfdb-d992626f6939"
      },
      "execution_count": 59,
      "outputs": [
        {
          "output_type": "stream",
          "name": "stdout",
          "text": [
            "Precisión a superar:\n",
            "------------------\n",
            "mean Precisión: 0.765 (0.0180)\n",
            "\n",
            "Mejor valor de Precisión obtenido con la mejor combinación: 0.8766681445310363\n",
            "Mejor combinación de valores encontrados de los hiperparámetros: {'ccp_alpha': 0.0, 'class_weight': 'balanced', 'criterion': 'gini', 'max_depth': 1, 'min_samples_split': 2}\n",
            "Métrica utilizada: make_scorer(precision)\n"
          ]
        }
      ]
    },
    {
      "cell_type": "markdown",
      "metadata": {
        "id": "HiJ9sF1DoRRf"
      },
      "source": [
        "### ¿Cuál es la utilidad de la métrica “precision”?\n",
        "La precisión es la proporción de predicciones positivas que son correctas. De una manera más simple, es la capacidad de un modelo para no etiquetar como positivo un ejemplo que es negativo.\n",
        "\n",
        "De ese modo, nos sirve para determinar qué cantidad de predicciones positivas son correctas del total de predicciones positivas que se hicieron."
      ]
    },
    {
      "cell_type": "markdown",
      "metadata": {
        "id": "BGSMsNzGYxhm"
      },
      "source": [
        "###*d. Con los mejores valores de los hiperparámetros encontrados con la métrica “precision” para el modelo de árbol de decisión, obtener las curvas de aprendizaje (learning curve), incrementando el tamaño del conjunto de entrenamiento al menos 20 veces. Si lo crees adecuado, puedes hacer los ajustes que consideres adecuados para mejorar el resultado y evitar el sobreentrenamiento o el subentrenamiento.*\n"
      ]
    },
    {
      "cell_type": "code",
      "execution_count": 60,
      "metadata": {
        "id": "6AeS-8EQYpxK",
        "colab": {
          "base_uri": "https://localhost:8080/",
          "height": 445
        },
        "outputId": "66e64a22-716e-4f71-aaa1-29dbcd2d8c4e"
      },
      "outputs": [
        {
          "output_type": "stream",
          "name": "stdout",
          "text": [
            "MODELO: DT\n",
            "---------------------------\n"
          ]
        },
        {
          "output_type": "display_data",
          "data": {
            "text/plain": [
              "<Figure size 504x432 with 1 Axes>"
            ],
            "image/png": "[encoded data removed]"
          },
          "metadata": {}
        }
      ],
      "source": [
        "\n",
        "mejor_modelo_DT = DecisionTreeClassifier(ccp_alpha=mejores_params_DT.get('ccp_alpha'),\n",
        "                                criterion=mejores_params_DT.get('criterion'),\n",
        "                                max_depth=mejores_params_DT.get('max_depth'),\n",
        "                                min_samples_split=mejores_params_DT.get('min_samples_split'),\n",
        "                                class_weight=mejores_params_DT.get('class_weight'))\n",
        "\n",
        "delta_train_sz = np.linspace(.05, 1, 20)\n",
        "pipeline = Pipeline(steps=[(\"ct\", columnasTransformer), (\"m\", mejor_modelo_DT)])\n",
        "tr_sizes, tr_scores, val_scores = learning_curve(estimator = pipeline,    \n",
        "                                                 X = X_train,\n",
        "                                                 y = Y_train,\n",
        "                                                 #Cambiar a precision\n",
        "                                                 scoring=make_scorer(precision),\n",
        "                                                 cv = cv,\n",
        "                                                 train_sizes = delta_train_sz,\n",
        "                                                 random_state=45)    \n",
        "# Obtenemos el gráfico con las curvas de aprendizaje:\n",
        "print('MODELO: DT\\n---------------------------')\n",
        "mi_LearningCurvePlot(tr_sizes, tr_scores, val_scores, 'precision')"
      ]
    },
    {
      "cell_type": "markdown",
      "metadata": {
        "id": "zfMXrXyMZA2k"
      },
      "source": [
        "###*e. Para el modelo de bosque aleatorio (random forest) realizar el entrenamiento buscando sus mejores hiperparámetros con GridSearchCV(). Los hiperparámetros que debes incluir en su búsqueda deben ser al menos los siguientes: ccp_alpha, criterion, max_depth, min_samples_split y class_weight. En este caso deberás usar la métrica (scoring) “recall”. Imprime la mejor combinación de parámetros obtenidos, así como el valor del mejor desempeño (score) obtenido con la métrica “recall”.*\n",
        "###*NOTA: Toma en cuenta que el método de random forest pude tardar varios minutos en llevar a cabo*"
      ]
    },
    {
      "cell_type": "code",
      "execution_count": 67,
      "metadata": {
        "id": "kn7kzL5gYpls",
        "colab": {
          "base_uri": "https://localhost:8080/"
        },
        "outputId": "f766b2d8-c0dc-44cd-ad7d-5f6c41dbce8a"
      },
      "outputs": [
        {
          "output_type": "stream",
          "name": "stdout",
          "text": [
            "Recall a superar:\n",
            "------------------\n",
            "mean recall: 0.902 (0.0270)\n",
            "\n",
            "Mejor valor de recall obtenido con la mejor combinación: 1.0\n",
            "Mejor combinación de valores encontrados de los hiperparámetros: {'ccp_alpha': 0.0, 'class_weight': None, 'criterion': 'gini', 'max_depth': 1, 'min_samples_split': 4}\n",
            "Métrica utilizada: make_scorer(recall)\n"
          ]
        }
      ],
      "source": [
        "mi_modelo_RF = RandomForestClassifier()\n",
        "#ccp_alpha, criterion, max_depth, min_samples_split y class_weight\n",
        "\n",
        "#Comentar que se probó con todos esos diccionarios\n",
        "#================================================\n",
        "dicc_grid = {'ccp_alpha':[0.01,0.02,0.03],'criterion':['gini','entropy']}\n",
        "#cc_alpha y criterion ya estan optimizadas\n",
        "dicc_grid = {'ccp_alpha':[0.01,0.02,0.03],'criterion':['gini','entropy'],'max_depth':[7, 8, 9, 10, 11]}\n",
        "#max_depth ya está optimizada\n",
        "dicc_grid = {'ccp_alpha':[0.1, 0.2],\n",
        "             'criterion':['gini','entropy'],\n",
        "             'max_depth':[6, 7, 8, 9, 10],\n",
        "             'min_samples_split':[6, 7, 8, 9]}\n",
        "#se optimiza min_samples_split y se finaliza con class_weight\n",
        "dicc_grid = {'ccp_alpha':np.linspace(0.0, 0.0004, 3),\n",
        "             'criterion':['gini',],\n",
        "             'max_depth':range(1, 21),\n",
        "             'min_samples_split':[4],\n",
        "             'class_weight':[None, 'balanced_subsample','balanced']}\n",
        "#Uno de los mejores:\n",
        "dicc_grid = {'ccp_alpha':np.linspace(0.0, 0.0004, 2),\n",
        "             'criterion':['gini',],\n",
        "             'max_depth':[1],\n",
        "             'min_samples_split':[4],\n",
        "             'class_weight':[None]}\n",
        "#FINALES\n",
        "'''\n",
        "dicc_grid = {'ccp_alpha':[0.0, 0.0001, 0.001, 0.01, 0.01],\n",
        "             'criterion':['gini','entropy'],\n",
        "             'max_depth':range(1,21,2),\n",
        "             'min_samples_split':range(2, 12),\n",
        "             'class_weight':[None, 'balanced_subsample','balanced']}'''\n",
        "#================================================\n",
        "\n",
        "grid = GridSearchCV(estimator=mi_modelo_RF, param_grid=dicc_grid, cv=cv, scoring=make_scorer(recall))\n",
        "# Transformamos los datos de entrada:\n",
        "Xx = columnasTransformer.fit_transform(X_train)\n",
        "# Llevamos a cabo el proceso de entrenamiento con validación-cruzada y búsqueda de malla\n",
        "# Observa que de acuerdo a las opciones incluidas en la malla, se estarán realizando (6\n",
        "# combinaciones diferentes, además de las (10)(5)=50 particiones de la validación-cruza\n",
        "# lo cual implica también un mayor tiempo de entrenamiento.\n",
        "grid.fit(Xx, np.ravel(Y_train))\n",
        "print('Recall a superar:\\n------------------')\n",
        "print('mean recall: %.3f (%.4f)\\n' % (np.mean(scores['test_recall']), np.std(scores['test_recall'])))\n",
        "print('Mejor valor de recall obtenido con la mejor combinación:', grid.best_score_)\n",
        "print('Mejor combinación de valores encontrados de los hiperparámetros:', grid.best_params_)\n",
        "print('Métrica utilizada:', grid.scoring)\n",
        "\n",
        "#Modelo con los mejores hiperparámetros extraídos del del barrido con GridSearchCV\n",
        "mejor_modelo_RF = RandomForestClassifier(ccp_alpha=grid.best_params_.get('ccp_alpha'),\n",
        "                                criterion=grid.best_params_.get('criterion'),\n",
        "                                max_depth=grid.best_params_.get('max_depth'),\n",
        "                                min_samples_split=grid.best_params_.get('min_samples_split'),\n",
        "                                class_weight=grid.best_params_.get('class_weight'))\n",
        "\n",
        "#Guardamos los mejores hiperparámetros extraídos del barrido con GridSearchCV\n",
        "mejores_params_RF = grid.best_params_"
      ]
    },
    {
      "cell_type": "markdown",
      "source": [
        "###*¿Cuál es la utilidad de la métrica “recall”?*\n",
        "El recall es la proporción de verdaderos positivos que son correctos. De una manera más simple, es la capacidad de un modelo para encontrar todos los ejemplos positivos. A diferencia de la precisión, esta métrica nos dice, del total de los verdaderos positivos reales, qué cantidad de ellos fueron correctamente etiquetados."
      ],
      "metadata": {
        "id": "Oks5JMVrR1tf"
      }
    },
    {
      "cell_type": "markdown",
      "metadata": {
        "id": "cUOCA_wGZKxf"
      },
      "source": [
        "###*f. Con los mejores valores de los hiperparámetros encontrados con la métrica “recall” para el modelo de bosque aleatorio, obtener las curvas de validación (validation curve), incrementando la complejidad del modelo a través del hiperparámetro “max_depth” con al menos 10 valores. Si lo crees adecuado, puedes hacer los ajustes que consideres adecuados para mejorar el resultado y evitar el sobreentrenamiento o el subentrenamiento.*"
      ]
    },
    {
      "cell_type": "code",
      "execution_count": 69,
      "metadata": {
        "id": "iELqoelaYpXZ",
        "colab": {
          "base_uri": "https://localhost:8080/",
          "height": 445
        },
        "outputId": "7c0526a4-bc29-449b-c7cb-44aeed5dbaaa"
      },
      "outputs": [
        {
          "output_type": "stream",
          "name": "stdout",
          "text": [
            "MEJOR MODELO RF\n",
            "---------------------------\n"
          ]
        },
        {
          "output_type": "display_data",
          "data": {
            "text/plain": [
              "<Figure size 504x432 with 1 Axes>"
            ],
            "image/png": "[encoded data removed]"
          },
          "metadata": {}
        }
      ],
      "source": [
        "delta_train_sz = np.linspace(.05, 1, 20)\n",
        "\n",
        "pipeline = Pipeline(steps=[(\"ct\", columnasTransformer), (\"m\", mejor_modelo_RF)])\n",
        "tr_sizes, tr_scores, val_scores = learning_curve(estimator = pipeline,    \n",
        "                                                 X = X_train,\n",
        "                                                 y = Y_train,\n",
        "                                                 scoring=make_scorer(recall),\n",
        "                                                 cv = cv,\n",
        "                                                 train_sizes = delta_train_sz,\n",
        "                                                 random_state=45)    \n",
        "# Obtenemos el gráfico con las curvas de aprendizaje:\n",
        "print('MEJOR MODELO RF\\n---------------------------')\n",
        "mi_LearningCurvePlot(tr_sizes, tr_scores, val_scores,'recall')\n"
      ]
    },
    {
      "cell_type": "code",
      "source": [
        "# No es requerido pero sólo por curiosidad miremos la métrica \n",
        "# accuracy para este modelo\n",
        "r_sizes, tr_scores, val_scores = learning_curve(estimator = pipeline,\n",
        "                                                 X = X_train,\n",
        "                                                 y = Y_train,\n",
        "                                                 scoring=make_scorer(accuracy),\n",
        "                                                 cv = cv,\n",
        "                                                 train_sizes = delta_train_sz,\n",
        "                                                 random_state=45)\n",
        "\n",
        "mi_LearningCurvePlot(tr_sizes, tr_scores, val_scores, 'accuracy')\n"
      ],
      "metadata": {
        "colab": {
          "base_uri": "https://localhost:8080/",
          "height": 410
        },
        "id": "Ot6qyspAJZwp",
        "outputId": "e2ac4eac-cefb-43da-b7eb-2145a62a8b1b"
      },
      "execution_count": 70,
      "outputs": [
        {
          "output_type": "display_data",
          "data": {
            "text/plain": [
              "<Figure size 504x432 with 1 Axes>"
            ],
            "image/png": "[encoded data removed]"
          },
          "metadata": {}
        }
      ]
    },
    {
      "cell_type": "markdown",
      "source": [
        "###*¿Cuál es la utilidad de la métrica “recall”? Incluye tus conclusiones.*\n",
        "\n",
        "El recall es la proporción de verdaderos positivos que son correctos. De una manera más simple, es la capacidad de un modelo para encontrar todos los ejemplos positivos. A diferencia de la precisión, esta métrica nos dice, del total de los verdaderos positivos reales, qué cantidad de ellos fueron correctamente etiquetados.\n",
        "\n",
        "Se observa que aunque el recall es del 100%, la exactitud es sólo del 70%\n",
        "\n",
        "El recall no es una buena métrica a utilizar con conjuntos de datos desbalanceados....\n",
        "\n"
      ],
      "metadata": {
        "id": "JM0En7oCQ93g"
      }
    },
    {
      "cell_type": "code",
      "source": [],
      "metadata": {
        "id": "29Vgi6uQP3zH"
      },
      "execution_count": null,
      "outputs": []
    },
    {
      "cell_type": "markdown",
      "metadata": {
        "id": "W2S7LI0NC9wE"
      },
      "source": [
        "#**Ejercicio-6.**\n",
        "#Obtención de los modelos finales\n"
      ]
    },
    {
      "cell_type": "markdown",
      "metadata": {
        "id": "cz-OX0MOcg63"
      },
      "source": [
        "###*a. Obtener el modelo de regresión logística con los mejores parámetros que hayas encontrado con la métrica f1-score utilizada. Imprimir el valor de dicha métrica e incluye tus conclusiones finales para este caso. Incluir un gráfico del árbol de decisión final obtenido.*\n"
      ]
    },
    {
      "cell_type": "code",
      "execution_count": 79,
      "metadata": {
        "id": "x6uBleJUC_AU",
        "colab": {
          "base_uri": "https://localhost:8080/"
        },
        "outputId": "d06cf354-9bc4-4adf-ba41-d47dfc4384cc"
      },
      "outputs": [
        {
          "output_type": "stream",
          "name": "stdout",
          "text": [
            "MODELO: REGRESION LOGISTICA\n",
            "========================\n",
            "Mejores parámetros:\n",
            "\n",
            "{'C': 0.11, 'class_weight': None, 'l1_ratio': 0.25, 'penalty': 'elasticnet', 'solver': 'saga'}\n",
            "F1-score en el conjunto de entrenamiento: 0.82\n",
            "F1-score en el conjunto de prueba: 0.83\n"
          ]
        },
        {
          "output_type": "stream",
          "name": "stderr",
          "text": [
            "/usr/local/lib/python3.7/dist-packages/sklearn/linear_model/_sag.py:354: ConvergenceWarning: The max_iter was reached which means the coef_ did not converge\n",
            "  ConvergenceWarning,\n"
          ]
        }
      ],
      "source": [
        "#Imprimimos los parámetros del mejor modelo\n",
        "print('MODELO: REGRESION LOGISTICA\\n========================\\nMejores parámetros:\\n')\n",
        "print(mejores_params_LR)\n",
        "\n",
        "#Entrenamos un nuevo clasificador con el mejor modelo\n",
        "clf = mejor_modelo_LR.fit(X_train, Y_train)   # Entrenamos con el conjunto de prueba para obtener nuestro primer clasificador (clf)\n",
        "\n",
        "#Usamos el mismo conjunto de entrenamiento para predecir que se obtendría\n",
        "predi = clf.predict(X_train)\n",
        "\n",
        "#Obtenemos el score utilizado para este modelo\n",
        "print('F1-score en el conjunto de entrenamiento: %.2f' % f1(Y_train, predi))\n",
        "\n",
        "#Ahora hacemos que el clasificador clasifique nuestro conjunto de pruebas que no ha sido\n",
        "#usado hasta el momento.\n",
        "predi = clf.predict(X_test)\n",
        "\n",
        "#Finalmente obtenemos nuestro score con el conjunto de pruebas\n",
        "print('F1-score en el conjunto de prueba: %.2f' % f1(Y_test, predi))\n",
        "\n"
      ]
    },
    {
      "cell_type": "markdown",
      "metadata": {
        "id": "IkK6c4iEcqJQ"
      },
      "source": [
        "###*b. Obtener el modelo de árbol de decisiones con los mejores parámetros que hayas encontrado con la métrica “precision” utilizada. Imprimir el valor de dicha métrica e incluye tus conclusiones finales para este caso.*\n"
      ]
    },
    {
      "cell_type": "code",
      "execution_count": 82,
      "metadata": {
        "id": "75y-gKHHc3i3",
        "colab": {
          "base_uri": "https://localhost:8080/"
        },
        "outputId": "1dea9677-184d-42eb-bc7c-291664326bcb"
      },
      "outputs": [
        {
          "output_type": "stream",
          "name": "stdout",
          "text": [
            "MODELO: ARBOL DE DECISION\n",
            "========================\n",
            "Mejores parámetros:\n",
            "\n",
            "{'ccp_alpha': 0.0, 'class_weight': 'balanced', 'criterion': 'gini', 'max_depth': 1, 'min_samples_split': 2}\n",
            "Precisión en el conjunto de entrenamiento: 0.86\n",
            "Precisión en el conjunto de prueba: 0.92\n"
          ]
        }
      ],
      "source": [
        "#Imprimimos los parámetros del mejor modelo\n",
        "print('MODELO: ARBOL DE DECISION\\n========================\\nMejores parámetros:\\n')\n",
        "print(mejores_params_DT)\n",
        "\n",
        "#Entrenamos un nuevo clasificador con el mejor modelo\n",
        "clf = mejor_modelo_DT.fit(X_train, Y_train)   # Entrenamos con el conjunto de prueba para obtener nuestro primer clasificador (clf)\n",
        "\n",
        "#Usamos el mismo conjunto de entrenamiento para predecir que se obtendría\n",
        "predi = clf.predict(X_train)\n",
        "\n",
        "#Obtenemos el score utilizado para este modelo\n",
        "print('Precisión en el conjunto de entrenamiento: %.2f' % precision(Y_train, predi))\n",
        "\n",
        "#Ahora hacemos que el clasificador clasifique nuestro conjunto de pruebas que no ha sido\n",
        "#usado hasta el momento.\n",
        "predi = clf.predict(X_test)\n",
        "\n",
        "#Finalmente obtenemos nuestro score con el conjunto de pruebas\n",
        "print('Precisión en el conjunto de prueba: %.2f' % precision(Y_test, predi))\n",
        "\n"
      ]
    },
    {
      "cell_type": "code",
      "source": [
        "#FALTA imprimir el arbol de decision obtenido"
      ],
      "metadata": {
        "id": "jpyMqy05nZRz"
      },
      "execution_count": null,
      "outputs": []
    },
    {
      "cell_type": "markdown",
      "metadata": {
        "id": "A9tHMdrWcvGf"
      },
      "source": [
        "###*c. Obtener el modelo de bosque aleatorio con los mejores parámetros que hayas\n",
        "encontrado con la métrica “recall” utilizada. Imprimir el valor de dicha métrica e incluye tus conclusiones finales para este caso.*"
      ]
    },
    {
      "cell_type": "code",
      "execution_count": 84,
      "metadata": {
        "id": "n0P_AcyjC_Dh",
        "colab": {
          "base_uri": "https://localhost:8080/"
        },
        "outputId": "97e43a50-688f-4942-e3c5-253187b70d5b"
      },
      "outputs": [
        {
          "output_type": "stream",
          "name": "stdout",
          "text": [
            "MODELO: BOSQUE ALEATORIO\n",
            "========================\n",
            "Mejores parámetros:\n",
            "\n",
            "{'ccp_alpha': 0.0, 'class_weight': None, 'criterion': 'gini', 'max_depth': 1, 'min_samples_split': 4}\n",
            "Recall en el conjunto de entrenamiento: 1.00\n",
            "Recall en el conjunto de prueba: 1.00\n",
            "Exactitud en el conjunto de prueba: 0.71\n"
          ]
        }
      ],
      "source": [
        "#Imprimimos los parámetros del mejor modelo\n",
        "print('MODELO: BOSQUE ALEATORIO\\n========================\\nMejores parámetros:\\n')\n",
        "print(mejores_params_RF)\n",
        "\n",
        "#Entrenamos un nuevo clasificador con el mejor modelo\n",
        "clf = mejor_modelo_RF.fit(X_train, Y_train)   # Entrenamos con el conjunto de prueba para obtener nuestro primer clasificador (clf)\n",
        "\n",
        "#Usamos el mismo conjunto de entrenamiento para predecir que se obtendría\n",
        "predi = clf.predict(X_train)\n",
        "\n",
        "#Obtenemos el score utilizado para este modelo\n",
        "print('Recall en el conjunto de entrenamiento: %.2f' % recall(Y_train, predi))\n",
        "\n",
        "#Ahora hacemos que el clasificador clasifique nuestro conjunto de pruebas que no ha sido\n",
        "#usado hasta el momento.\n",
        "predi = clf.predict(X_test)\n",
        "\n",
        "#Finalmente obtenemos nuestro score con el conjunto de pruebas\n",
        "print('Recall en el conjunto de prueba: %.2f' % recall(Y_test, predi))\n",
        "print('Exactitud en el conjunto de prueba: %.2f' % accuracy(Y_test, predi))\n",
        "\n"
      ]
    },
    {
      "cell_type": "markdown",
      "metadata": {
        "id": "yjzuS1dTmQVO"
      },
      "source": [
        "#**Bibliografía**\n",
        "\n",
        "Sadangi, S., (21 de Julio de 2022). How to Deal With Files in Google Colab: Everything You Need to Know. *Neptune Labs.* https://neptune.ai/blog/google-colab-dealing-with-files\n",
        "\n",
        "Géron, A. (2022). Hands-On Machine Learning with Scikit-Learn, Keras, and\n",
        "TensorFlow. O’Reilly Media, Inc.\n",
        "\n",
        "scikit-learn.org. (s.f.). *sklearn.linear_model.LogisticRegression* scikit-learn.org. https://scikit-learn.org/stable/modules/generated/sklearn.linear_model.LogisticRegression.html?highlight=logisticregression\n",
        "\n",
        "scikit-learn.org. (s.f.). *Common pitfalls in the interpretation of coefficients of linear models.* scikit-learn.org. https://scikit-learn.org/stable/auto_examples/inspection/plot_linear_model_coefficient_interpretation.html\n",
        "\n",
        "scikit-learn.org. (s.f.). *sklearn.model_selection.GridSearchCV* scikit-learn.org. https://scikit-learn.org/stable/modules/generated/sklearn.model_selection.GridSearchCV.html\n",
        "\n"
      ]
    },
    {
      "cell_type": "markdown",
      "metadata": {
        "id": "7ql_r2G-DB_m"
      },
      "source": [
        "###**Fin de la Actividad de la semana 6.**"
      ]
    }
  ],
  "metadata": {
    "colab": {
      "collapsed_sections": [],
      "provenance": [],
      "include_colab_link": true
    },
    "kernelspec": {
      "display_name": "Python 3.9.6 64-bit",
      "language": "python",
      "name": "python3"
    },
    "language_info": {
      "codemirror_mode": {
        "name": "ipython",
        "version": 3
      },
      "file_extension": ".py",
      "mimetype": "text/x-python",
      "name": "python",
      "nbconvert_exporter": "python",
      "pygments_lexer": "ipython3",
      "version": "3.9.6"
    },
    "vscode": {
      "interpreter": {
        "hash": "11938c6bc6919ae2720b4d5011047913343b08a43b18698fd82dedb0d4417594"
      }
    }
  },
  "nbformat": 4,
  "nbformat_minor": 0
}