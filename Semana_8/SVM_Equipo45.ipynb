{
  "cells": [
    {
      "cell_type": "markdown",
      "metadata": {
        "id": "view-in-github",
        "colab_type": "text"
      },
      "source": [
        "<a href=\"https://colab.research.google.com/github/Edgar-IAH/IA-Grupo-45/blob/main/Semana_8/SVM_Equipo45.ipynb\" target=\"_parent\"><img src=\"https://colab.research.google.com/assets/colab-badge.svg\" alt=\"Open In Colab\"/></a>"
      ]
    },
    {
      "cell_type": "markdown",
      "metadata": {
        "id": "VFj0sSM06dYa"
      },
      "source": [
        "#**Maestría en Inteligencia Artificial Aplicada**\n",
        "##**Curso: Inteligencia Artificial y Aprendizaje Automático**\n",
        "###Tecnológico de Monterrey\n",
        "###Prof Luis Eduardo Falcón Morales\n",
        "\n",
        "## **Actividad de la Semana 8**\n",
        "###**Máquina de Vector Soporte - Support Vector Machine(SVM)**\n"
      ]
    },
    {
      "cell_type": "markdown",
      "metadata": {
        "id": "Qgrvy0RGB9XI"
      },
      "source": [
        "**Nombres y matrículas de los integrantes del equipo:**\n",
        "\n",
        "* Eduardo Aldair Ahumada García Jurado - A01422929\n",
        "* Edgar Rodolfo Escobar Gomez - A01793900\n",
        "* Walter André Hauri Rosales - A01794237\n",
        "* Héctor Salvador Montañez Alvarez - A01332665\n",
        "* Jaime Andres Palacios Campaña - A01794023"
      ]
    },
    {
      "cell_type": "markdown",
      "metadata": {
        "id": "BD0MssQU_BU0"
      },
      "source": [
        "## *Esta Tarea se deberá resolver en equipos, de acuerdo a como fueron integrados al inicio del curso. Se trabajará con el conjunto de datos conocido como \"Australian credit approval\", un problema de clasificación que ya has estudiado en semanas previas y cuyos datos puedes encontrar en la siguiente liga del repositorio de la UCI:*##\n",
        "##*https://archive.ics.uci.edu/ml/datasets/Statlog+%28Australian+Credit+Approval%29*\n",
        "## *El objetivo es determinar si se autoriza una tarjeta de crédito dada cierta información del solicitante. En la página de la UCI encuentras mayor información sobre el problema.*"
      ]
    },
    {
      "cell_type": "markdown",
      "metadata": {
        "id": "FrJ2ahMODVj1"
      },
      "source": [
        "En cada sección deberás incluir todas las líneas de código necesarias para responder a cada uno de los ejercicios."
      ]
    },
    {
      "cell_type": "code",
      "execution_count": 1,
      "metadata": {
        "id": "exXsscs-Dh-2"
      },
      "outputs": [],
      "source": [
        "# Incluye aquí todos módulos, librerías y paquetes que requieras.\n"
      ]
    },
    {
      "cell_type": "markdown",
      "metadata": {
        "id": "X25brD-gQdZM"
      },
      "source": [
        "# **Ejercicio-1.** \n",
        "## *Realiza una partición de los datos con 15% en el conjunto de prueba y el resto para entrenamiento y validación. Usa un random_state=0.*"
      ]
    },
    {
      "cell_type": "code",
      "execution_count": 44,
      "metadata": {
        "id": "3nU2GuWYCy6C"
      },
      "outputs": [],
      "source": [
        "# Incluye aquí todos módulos, librerías y paquetes que requieras.\n",
        "import pandas as pd\n",
        "import numpy as np\n",
        "import matplotlib.pyplot as plt\n",
        "import seaborn as sns\n",
        "from sklearn.model_selection import train_test_split, GridSearchCV\n",
        "from sklearn.pipeline import Pipeline\n",
        "from sklearn.compose import ColumnTransformer\n",
        "from sklearn.impute import SimpleImputer\n",
        "from sklearn.preprocessing import MinMaxScaler, OneHotEncoder, StandardScaler\n",
        "from sklearn.model_selection import cross_validate, learning_curve, validation_curve\n",
        "from sklearn.model_selection import RepeatedStratifiedKFold\n",
        "from sklearn.metrics import confusion_matrix, make_scorer\n",
        "from sklearn.dummy import DummyClassifier\n",
        "from sklearn.linear_model import LinearRegression\n",
        "from sklearn.ensemble import RandomForestRegressor\n",
        "from sklearn.neural_network import MLPRegressor\n",
        "from sklearn.model_selection import RepeatedKFold\n",
        "from sklearn import metrics\n",
        "from math import isnan\n",
        "from sklearn.preprocessing import FunctionTransformer, PowerTransformer, QuantileTransformer\n",
        "from sklearn.preprocessing import power_transform\n",
        "from sklearn.inspection import permutation_importance\n",
        "from sklearn.svm import SVC\n",
        "\n",
        "%matplotlib inline"
      ]
    },
    {
      "cell_type": "code",
      "execution_count": 3,
      "metadata": {
        "id": "0ulkqXVGCy97",
        "colab": {
          "base_uri": "https://localhost:8080/",
          "height": 206
        },
        "outputId": "e868d600-aa99-4aeb-8ba5-eeb6f95d68f0"
      },
      "outputs": [
        {
          "output_type": "execute_result",
          "data": {
            "text/plain": [
              "   A1     A2     A3  A4  A5  A6     A7  A8  A9  A10  A11  A12  A13   A14  A15\n",
              "0   1  22.08  11.46   2   4   4  1.585   0   0    0    1    2  100  1213    0\n",
              "1   0  22.67   7.00   2   8   4  0.165   0   0    0    0    2  160     1    0\n",
              "2   0  29.58   1.75   1   4   4  1.250   0   0    0    1    2  280     1    0\n",
              "3   0  21.67  11.50   1   5   3  0.000   1   1   11    1    2    0     1    1\n",
              "4   1  20.17   8.17   2   6   4  1.960   1   1   14    0    2   60   159    1"
            ],
            "text/html": [
              "\n",
              "  <div id=\"df-92a6476c-0298-4f0b-a35c-512aea16cf59\">\n",
              "    <div class=\"colab-df-container\">\n",
              "      <div>\n",
              "<style scoped>\n",
              "    .dataframe tbody tr th:only-of-type {\n",
              "        vertical-align: middle;\n",
              "    }\n",
              "\n",
              "    .dataframe tbody tr th {\n",
              "        vertical-align: top;\n",
              "    }\n",
              "\n",
              "    .dataframe thead th {\n",
              "        text-align: right;\n",
              "    }\n",
              "</style>\n",
              "<table border=\"1\" class=\"dataframe\">\n",
              "  <thead>\n",
              "    <tr style=\"text-align: right;\">\n",
              "      <th></th>\n",
              "      <th>A1</th>\n",
              "      <th>A2</th>\n",
              "      <th>A3</th>\n",
              "      <th>A4</th>\n",
              "      <th>A5</th>\n",
              "      <th>A6</th>\n",
              "      <th>A7</th>\n",
              "      <th>A8</th>\n",
              "      <th>A9</th>\n",
              "      <th>A10</th>\n",
              "      <th>A11</th>\n",
              "      <th>A12</th>\n",
              "      <th>A13</th>\n",
              "      <th>A14</th>\n",
              "      <th>A15</th>\n",
              "    </tr>\n",
              "  </thead>\n",
              "  <tbody>\n",
              "    <tr>\n",
              "      <th>0</th>\n",
              "      <td>1</td>\n",
              "      <td>22.08</td>\n",
              "      <td>11.46</td>\n",
              "      <td>2</td>\n",
              "      <td>4</td>\n",
              "      <td>4</td>\n",
              "      <td>1.585</td>\n",
              "      <td>0</td>\n",
              "      <td>0</td>\n",
              "      <td>0</td>\n",
              "      <td>1</td>\n",
              "      <td>2</td>\n",
              "      <td>100</td>\n",
              "      <td>1213</td>\n",
              "      <td>0</td>\n",
              "    </tr>\n",
              "    <tr>\n",
              "      <th>1</th>\n",
              "      <td>0</td>\n",
              "      <td>22.67</td>\n",
              "      <td>7.00</td>\n",
              "      <td>2</td>\n",
              "      <td>8</td>\n",
              "      <td>4</td>\n",
              "      <td>0.165</td>\n",
              "      <td>0</td>\n",
              "      <td>0</td>\n",
              "      <td>0</td>\n",
              "      <td>0</td>\n",
              "      <td>2</td>\n",
              "      <td>160</td>\n",
              "      <td>1</td>\n",
              "      <td>0</td>\n",
              "    </tr>\n",
              "    <tr>\n",
              "      <th>2</th>\n",
              "      <td>0</td>\n",
              "      <td>29.58</td>\n",
              "      <td>1.75</td>\n",
              "      <td>1</td>\n",
              "      <td>4</td>\n",
              "      <td>4</td>\n",
              "      <td>1.250</td>\n",
              "      <td>0</td>\n",
              "      <td>0</td>\n",
              "      <td>0</td>\n",
              "      <td>1</td>\n",
              "      <td>2</td>\n",
              "      <td>280</td>\n",
              "      <td>1</td>\n",
              "      <td>0</td>\n",
              "    </tr>\n",
              "    <tr>\n",
              "      <th>3</th>\n",
              "      <td>0</td>\n",
              "      <td>21.67</td>\n",
              "      <td>11.50</td>\n",
              "      <td>1</td>\n",
              "      <td>5</td>\n",
              "      <td>3</td>\n",
              "      <td>0.000</td>\n",
              "      <td>1</td>\n",
              "      <td>1</td>\n",
              "      <td>11</td>\n",
              "      <td>1</td>\n",
              "      <td>2</td>\n",
              "      <td>0</td>\n",
              "      <td>1</td>\n",
              "      <td>1</td>\n",
              "    </tr>\n",
              "    <tr>\n",
              "      <th>4</th>\n",
              "      <td>1</td>\n",
              "      <td>20.17</td>\n",
              "      <td>8.17</td>\n",
              "      <td>2</td>\n",
              "      <td>6</td>\n",
              "      <td>4</td>\n",
              "      <td>1.960</td>\n",
              "      <td>1</td>\n",
              "      <td>1</td>\n",
              "      <td>14</td>\n",
              "      <td>0</td>\n",
              "      <td>2</td>\n",
              "      <td>60</td>\n",
              "      <td>159</td>\n",
              "      <td>1</td>\n",
              "    </tr>\n",
              "  </tbody>\n",
              "</table>\n",
              "</div>\n",
              "      <button class=\"colab-df-convert\" onclick=\"convertToInteractive('df-92a6476c-0298-4f0b-a35c-512aea16cf59')\"\n",
              "              title=\"Convert this dataframe to an interactive table.\"\n",
              "              style=\"display:none;\">\n",
              "        \n",
              "  <svg xmlns=\"http://www.w3.org/2000/svg\" height=\"24px\"viewBox=\"0 0 24 24\"\n",
              "       width=\"24px\">\n",
              "    <path d=\"M0 0h24v24H0V0z\" fill=\"none\"/>\n",
              "    <path d=\"M18.56 5.44l.94 2.06.94-2.06 2.06-.94-2.06-.94-.94-2.06-.94 2.06-2.06.94zm-11 1L8.5 8.5l.94-2.06 2.06-.94-2.06-.94L8.5 2.5l-.94 2.06-2.06.94zm10 10l.94 2.06.94-2.06 2.06-.94-2.06-.94-.94-2.06-.94 2.06-2.06.94z\"/><path d=\"M17.41 7.96l-1.37-1.37c-.4-.4-.92-.59-1.43-.59-.52 0-1.04.2-1.43.59L10.3 9.45l-7.72 7.72c-.78.78-.78 2.05 0 2.83L4 21.41c.39.39.9.59 1.41.59.51 0 1.02-.2 1.41-.59l7.78-7.78 2.81-2.81c.8-.78.8-2.07 0-2.86zM5.41 20L4 18.59l7.72-7.72 1.47 1.35L5.41 20z\"/>\n",
              "  </svg>\n",
              "      </button>\n",
              "      \n",
              "  <style>\n",
              "    .colab-df-container {\n",
              "      display:flex;\n",
              "      flex-wrap:wrap;\n",
              "      gap: 12px;\n",
              "    }\n",
              "\n",
              "    .colab-df-convert {\n",
              "      background-color: #E8F0FE;\n",
              "      border: none;\n",
              "      border-radius: 50%;\n",
              "      cursor: pointer;\n",
              "      display: none;\n",
              "      fill: #1967D2;\n",
              "      height: 32px;\n",
              "      padding: 0 0 0 0;\n",
              "      width: 32px;\n",
              "    }\n",
              "\n",
              "    .colab-df-convert:hover {\n",
              "      background-color: #E2EBFA;\n",
              "      box-shadow: 0px 1px 2px rgba(60, 64, 67, 0.3), 0px 1px 3px 1px rgba(60, 64, 67, 0.15);\n",
              "      fill: #174EA6;\n",
              "    }\n",
              "\n",
              "    [theme=dark] .colab-df-convert {\n",
              "      background-color: #3B4455;\n",
              "      fill: #D2E3FC;\n",
              "    }\n",
              "\n",
              "    [theme=dark] .colab-df-convert:hover {\n",
              "      background-color: #434B5C;\n",
              "      box-shadow: 0px 1px 3px 1px rgba(0, 0, 0, 0.15);\n",
              "      filter: drop-shadow(0px 1px 2px rgba(0, 0, 0, 0.3));\n",
              "      fill: #FFFFFF;\n",
              "    }\n",
              "  </style>\n",
              "\n",
              "      <script>\n",
              "        const buttonEl =\n",
              "          document.querySelector('#df-92a6476c-0298-4f0b-a35c-512aea16cf59 button.colab-df-convert');\n",
              "        buttonEl.style.display =\n",
              "          google.colab.kernel.accessAllowed ? 'block' : 'none';\n",
              "\n",
              "        async function convertToInteractive(key) {\n",
              "          const element = document.querySelector('#df-92a6476c-0298-4f0b-a35c-512aea16cf59');\n",
              "          const dataTable =\n",
              "            await google.colab.kernel.invokeFunction('convertToInteractive',\n",
              "                                                     [key], {});\n",
              "          if (!dataTable) return;\n",
              "\n",
              "          const docLinkHtml = 'Like what you see? Visit the ' +\n",
              "            '<a target=\"_blank\" href=https://colab.research.google.com/notebooks/data_table.ipynb>data table notebook</a>'\n",
              "            + ' to learn more about interactive tables.';\n",
              "          element.innerHTML = '';\n",
              "          dataTable['output_type'] = 'display_data';\n",
              "          await google.colab.output.renderOutput(dataTable, element);\n",
              "          const docLink = document.createElement('div');\n",
              "          docLink.innerHTML = docLinkHtml;\n",
              "          element.appendChild(docLink);\n",
              "        }\n",
              "      </script>\n",
              "    </div>\n",
              "  </div>\n",
              "  "
            ]
          },
          "metadata": {},
          "execution_count": 3
        }
      ],
      "source": [
        "url = \"https://raw.githubusercontent.com/Edgar-IAH/IA-Grupo-45/cb8335f587eb54109eae098c8ce8dd7bd9e0bec6/Semana_8/australian.csv\"\n",
        "datos = pd.read_csv(url)\n",
        "datos.head()"
      ]
    },
    {
      "cell_type": "code",
      "execution_count": 4,
      "metadata": {
        "id": "cQjydsUHOxNL"
      },
      "outputs": [],
      "source": [
        "X = datos.iloc[:, :-1] \n",
        "Y = datos.iloc[:, -1] \n",
        "X_train, X_test, Y_train, Y_test = train_test_split( X, Y, test_size=0.15, random_state=0)\n"
      ]
    },
    {
      "cell_type": "code",
      "execution_count": 5,
      "metadata": {
        "colab": {
          "base_uri": "https://localhost:8080/"
        },
        "id": "7VKa6hSGOxNM",
        "outputId": "59a2c011-5523-4ca8-8816-12ed5de366c1"
      },
      "outputs": [
        {
          "output_type": "stream",
          "name": "stdout",
          "text": [
            "(690, 14)\n",
            "(690,)\n"
          ]
        }
      ],
      "source": [
        "print(X.shape)\n",
        "print(Y.shape)\n"
      ]
    },
    {
      "cell_type": "markdown",
      "metadata": {
        "id": "xZhr2hkECzVv"
      },
      "source": [
        "# **Ejercicio-2.**\n",
        "## *Hacer una análisis de los datos y llevar a cabo las transformaciones que consideres adecuadas. Utiliza un Pipeline para evitar el filtrado de información.*"
      ]
    },
    {
      "cell_type": "code",
      "execution_count": 6,
      "metadata": {
        "id": "wQ15L3m-OxNM"
      },
      "outputs": [],
      "source": [
        "# imputacion por moda - Categóricos\n",
        "datos_cat = [\"A1\",\"A4\",\"A5\",\"A7\",\"A8\",\"A9\",\"A11\",\"A12\"]\n",
        "\n",
        "# imputacion por moda - Continuos\n",
        "datos_cnt = [\"A2\",\"A3\",\"A7\",\"A10\",\"A13\",\"A14\"]\n",
        "\n",
        "# imputacion por moda - Binarios\n",
        "datos_bin = [\"A15\"]\n"
      ]
    },
    {
      "cell_type": "markdown",
      "metadata": {
        "id": "75qOf7KqOxNM"
      },
      "source": [
        "- Se comprueba que no hay valores nulos en el dataset"
      ]
    },
    {
      "cell_type": "code",
      "execution_count": 7,
      "metadata": {
        "colab": {
          "base_uri": "https://localhost:8080/"
        },
        "id": "jz6hmzFOOxNM",
        "outputId": "0807fb63-93bb-4c98-e3b1-3250795aa9de"
      },
      "outputs": [
        {
          "output_type": "execute_result",
          "data": {
            "text/plain": [
              "A1     0\n",
              "A2     0\n",
              "A3     0\n",
              "A4     0\n",
              "A5     0\n",
              "A6     0\n",
              "A7     0\n",
              "A8     0\n",
              "A9     0\n",
              "A10    0\n",
              "A11    0\n",
              "A12    0\n",
              "A13    0\n",
              "A14    0\n",
              "A15    0\n",
              "dtype: int64"
            ]
          },
          "metadata": {},
          "execution_count": 7
        }
      ],
      "source": [
        "datos.isna().sum()\n"
      ]
    },
    {
      "cell_type": "code",
      "execution_count": 8,
      "metadata": {
        "colab": {
          "base_uri": "https://localhost:8080/"
        },
        "id": "6oPTOSp5OxNN",
        "outputId": "1f2e38ac-16bb-4f2e-884a-b432a572c71e"
      },
      "outputs": [
        {
          "output_type": "stream",
          "name": "stdout",
          "text": [
            "<class 'pandas.core.frame.DataFrame'>\n",
            "RangeIndex: 690 entries, 0 to 689\n",
            "Data columns (total 15 columns):\n",
            " #   Column  Non-Null Count  Dtype  \n",
            "---  ------  --------------  -----  \n",
            " 0   A1      690 non-null    int64  \n",
            " 1   A2      690 non-null    float64\n",
            " 2   A3      690 non-null    float64\n",
            " 3   A4      690 non-null    int64  \n",
            " 4   A5      690 non-null    int64  \n",
            " 5   A6      690 non-null    int64  \n",
            " 6   A7      690 non-null    float64\n",
            " 7   A8      690 non-null    int64  \n",
            " 8   A9      690 non-null    int64  \n",
            " 9   A10     690 non-null    int64  \n",
            " 10  A11     690 non-null    int64  \n",
            " 11  A12     690 non-null    int64  \n",
            " 12  A13     690 non-null    int64  \n",
            " 13  A14     690 non-null    int64  \n",
            " 14  A15     690 non-null    int64  \n",
            "dtypes: float64(3), int64(12)\n",
            "memory usage: 81.0 KB\n"
          ]
        }
      ],
      "source": [
        "datos.info()\n"
      ]
    },
    {
      "cell_type": "code",
      "execution_count": 9,
      "metadata": {
        "colab": {
          "base_uri": "https://localhost:8080/"
        },
        "id": "FCQDCHGKOxNN",
        "outputId": "54c6c354-7ff9-4947-dd9d-aa0f35372a33"
      },
      "outputs": [
        {
          "output_type": "stream",
          "name": "stdout",
          "text": [
            "A1\n",
            "[1 0]\n",
            "-----\n",
            "A2\n",
            "[22.08 22.67 29.58 21.67 20.17 15.83 17.42 58.67 27.83 55.75 33.5  41.42\n",
            " 20.67 34.92 58.58 48.08 18.92 20.   22.42 28.17 19.17 41.17 41.58 19.5\n",
            " 32.75 22.5  33.17 30.67 23.08 27.   20.42 52.33 42.83 74.83 25.   39.58\n",
            " 47.75 47.42 23.17 22.58 26.75 63.33 23.75 20.75 24.5  16.17 29.5  52.83\n",
            " 32.33 21.08 19.   27.58 40.   37.33 42.5  56.75 43.17 18.5  40.83 42.\n",
            " 21.5  31.25 27.25 48.75 30.42 29.42 28.25 40.25 36.5  25.58 29.83 32.17\n",
            " 25.17 35.17 18.58 39.92 23.42 37.58 24.75 47.   34.17 22.17 27.75 42.75\n",
            " 28.67 36.25 18.17 21.25 38.92 31.83 17.33 39.08 38.67 27.67 22.25 49.83\n",
            " 38.25 47.33 35.75 33.58 34.08 22.75 40.58 38.75 57.08 22.   58.33 28.92\n",
            " 46.   21.   20.83 24.58 26.5  40.92 38.33 19.58 39.25 25.75 46.08 19.67\n",
            " 18.83 64.08 16.5  68.67 76.75 15.92 34.83 45.17 15.17 52.5  18.   37.5\n",
            " 47.83 33.08 43.08 34.5  18.25 17.92 18.42 62.5  23.5  35.25 56.83 53.33\n",
            " 42.17 33.75 25.67 24.33 23.33 37.17 26.25 29.75 23.   17.25 29.25 28.58\n",
            " 34.58 18.75 17.08 16.08 32.92 20.33 21.75 25.33 30.83 40.33 54.42 34.\n",
            " 26.58 33.67 36.17 24.17 30.5  28.75 31.57 20.25 45.   22.83 56.42 69.5\n",
            " 35.58 48.33 28.08 49.5  80.25 16.92 16.   60.08 28.   41.5  24.08 34.75\n",
            " 48.5  35.   16.33 25.08 36.33 23.25 20.08 22.33 16.25 32.83 48.25 18.33\n",
            " 44.25 31.58 65.42 41.33 36.75 31.92 24.83 21.92 34.25 51.83 38.42 39.17\n",
            " 39.   39.33 21.33 49.   21.83 26.83 38.58 50.08 15.75 54.58 18.08 36.67\n",
            " 38.17 51.92 52.42 60.92 42.25 23.58 36.   32.42 19.42 30.   31.   27.42\n",
            " 31.08 67.75 30.75 50.25 51.58 36.58 50.75 58.42 31.75 44.83 26.17 73.42\n",
            " 27.17 22.92 32.   19.33 34.42 33.25 53.92 25.25 56.5  32.25 20.5  30.25\n",
            " 23.92 21.17 31.42 47.25 32.08 30.58 54.83 32.67 30.17 41.75 25.83 29.92\n",
            " 51.42 62.75 71.58 24.42 44.33 25.92 17.58 31.67 57.58 59.67 65.17 30.08\n",
            " 48.58 48.17 60.58 26.67 57.83 55.92 51.33 39.83 29.67 17.5  47.67 57.42\n",
            " 13.75 29.17 21.42 45.83 27.33 42.08 28.5  45.33 33.   34.67 35.42 44.\n",
            " 37.75 49.17 59.5  25.5  49.58 33.92 69.17 43.25 56.58 44.17 17.83 25.42\n",
            " 56.   37.42 31.33 36.08 47.17 26.92 46.67 52.17 39.5  36.42 39.42 41.92\n",
            " 21.58 28.33 28.42 41.   18.67 30.33 19.75 26.   26.33 54.33 17.67 26.08\n",
            " 24.92 43.  ]\n",
            "-----\n",
            "A3\n",
            "[11.46   7.     1.75  11.5    8.17   0.585  6.5    4.46   1.     7.08\n",
            "  5.     1.25   2.71   6.04   4.5    9.     5.665  1.335  9.585  1.5\n",
            "  0.125  3.04  12.     2.5    0.75  10.5    1.375 19.    12.5   13.915\n",
            "  8.     3.     0.     1.125  0.54   0.415 10.25   0.04   2.    15.\n",
            "  3.5    4.125  3.25   4.915 12.25   0.71   0.5    9.79   0.165  2.835\n",
            "  1.585 26.335  5.04  21.5    4.25   0.335  1.46   3.75  10.    13.665\n",
            " 13.     5.25   1.29   4.085 14.5    1.665  9.5    0.835  4.     0.21\n",
            " 13.75   0.875 13.585 10.125  0.915  0.25   0.08  10.335 11.     8.5\n",
            " 19.5    0.79   0.375 13.5    4.415  3.54  20.    22.29   2.875  4.165\n",
            "  1.625  4.04   8.46   0.205 10.415  9.25  12.75   3.165  6.625 11.625\n",
            "  1.54   0.665  1.835 14.79  11.25   7.5    1.04   2.085  5.085  8.125\n",
            "  0.46   5.5    2.54   4.625  2.165  0.29   0.58   4.75   2.25   1.165\n",
            "  9.96   2.29  28.     6.     7.585 13.335  3.375  2.75  11.75   2.125\n",
            " 12.125  3.625  5.415 25.085  1.21   1.71   4.71   3.125  0.705  2.46\n",
            " 11.045  2.335  5.71   7.625  5.875 10.085  5.29  12.54   4.79   9.415\n",
            "  5.625  0.42   0.625 10.75   6.21   7.54   5.125  3.085 18.125  0.83\n",
            " 21.     3.29   3.335 17.75   8.585 12.625  1.085 10.915  2.415  9.625\n",
            " 16.    11.835  0.67  11.125 15.5    3.79  10.665  0.96  12.835 16.165\n",
            " 14.    16.5   12.33   9.75   7.04   2.04  22.     6.75  11.665  1.08\n",
            "  1.415 14.585  0.085  0.17  18.5    6.665  4.585  7.25   9.17  25.21\n",
            "  2.665  5.835  7.835  9.54  10.04   1.79   2.21  10.29  25.125  9.335\n",
            "  8.665 10.21  12.335  6.165 11.585]\n",
            "-----\n",
            "A4\n",
            "[2 1 3]\n",
            "-----\n",
            "A5\n",
            "[ 4  8  5  6  3 11  2 14  9 13  7  1 10 12]\n",
            "-----\n",
            "A6\n",
            "[4 3 8 1 5 9 2 7]\n",
            "-----\n",
            "A7\n",
            "[ 1.585  0.165  1.25   0.     1.96   1.5    0.125  3.04   3.     6.75\n",
            "  4.5    5.     1.375  7.5    2.415  0.04   0.75   2.585  0.585  0.21\n",
            "  0.79   5.5    2.04   2.     1.085  4.25   9.46   2.125 13.875  8.625\n",
            "  7.875  0.085  0.54   0.71   0.5    2.335  5.085  3.5    3.165  2.25\n",
            "  0.25   7.96   1.835  1.75  20.     1.     0.625  0.415  5.165  2.5\n",
            "  5.75   1.04   8.5    4.     0.335 12.5    0.29   6.5    1.46   2.375\n",
            "  0.835  3.25  17.5   12.75   6.29   3.085  0.375  2.46   3.75   7.\n",
            "  1.21   5.04   2.71   2.75   3.96   1.625  4.625 14.     2.29  10.\n",
            " 28.5   16.     7.585 18.     4.165  5.375  1.165  8.29   0.665  1.335\n",
            "  3.335  1.54  10.75   1.665 15.     7.415  0.96  13.5    4.75  14.415\n",
            "  1.71   0.455  8.     0.875 13.     1.29   5.335  8.665  6.     0.46\n",
            "  1.875  4.335  5.125 15.5    2.625 11.     4.58   3.125  4.29   5.25\n",
            "  2.085  2.165  6.04  11.5    1.415  7.375  2.54   9.     2.79   3.17\n",
            "  0.795  5.665]\n",
            "-----\n",
            "A8\n",
            "[0 1]\n",
            "-----\n",
            "A9\n",
            "[0 1]\n",
            "-----\n",
            "A10\n",
            "[ 0 11 14  2  6  3  4  7  1  8  5 12 16  9 10 15 67 17 19 40 13 20 23]\n",
            "-----\n",
            "A11\n",
            "[1 0]\n",
            "-----\n",
            "A12\n",
            "[2 1 3]\n",
            "-----\n",
            "A13\n",
            "[ 100  160  280    0   60   43  176  253  470  140  320  330   88  129\n",
            "  260  168   80  200  180  220  312  154  290  352   20   70  519  120\n",
            "  128   49  132  256  232  216  112  369  434   52  141  240 1160  380\n",
            "  583  144  454  340  550  184  108  150  480  487   45   75  420  181\n",
            "   76  130  350  396  375  600  500  520  460  300  195  164  368  400\n",
            "  680   62   92  212  171  720   50  360  202  210   96  560  231  110\n",
            "  228   29  431  225  370   40  252  395   22  840  136  292  399  416\n",
            "  980  156   73   30  356  309   17   99  443  272 2000  204  145  711\n",
            "  276  383  371  274  432  440  224  333  152  408   32  510  221  268\n",
            "   56  174  250  208   21  288  349  450  410  329  167  121  263   28\n",
            "  523  311  178  170   94  422  348  163  303   24  760  465  239  254\n",
            "   93  102  186  117  640  188  393  230  455  515  381  928   86  211\n",
            "  411  372  491]\n",
            "-----\n",
            "A14\n",
            "[  1213      1    159    101    561    538     51    858    211   1001\n",
            "   2691    592      5   3258   1005    351     71  18028     20   2185\n",
            "    151     33    285    113    352   1261   1705     68   5299      7\n",
            "     18   2201   2101      2     36    501    247   1443    301    825\n",
            "     69    147    714     34      8   1201   2080   7060    201     43\n",
            "    287    368      9    391     11   5861   7545    229   1584   2001\n",
            "   4072    810   1656   3066   3001    284   1603    141    961    568\n",
            "    770   4608   4160     99   3377    110  51101  11203     41      6\n",
            "     17    163   4209    751    376     10     28    196    259     54\n",
            "   1209  26727    127   1466  31286    185     19    109    315     61\n",
            "    688    365   5125   2385      4     16    322    457  13213   1271\n",
            "   5001    341    476    135    838     22   1188    155    174  50001\n",
            "    485    769    279   2198   2073     15      3     21    601     60\n",
            "    106    588    161    395    100    445    197    401   2301   4001\n",
            "   2280     42    828     23    118   3553     12   6701   2011   2955\n",
            "   1098   2284   1345    991   5553     14   1066    611    248   8001\n",
            "   5201  11178    328    114    679    205    801    893    131    691\n",
            "    541     56     13   2804   1301    552   4501    743    731   1401\n",
            "     29    791    583    348  10562    459   5778   1333   8852   1250\n",
            "     45     24   1431   1392 100001   2511    235  10001    919     88\n",
            "   2504   6591    180    723     59  15109    238  15001    252   3291\n",
            "    142   2029    222     91   5801    502   1951    640    397   4701\n",
            "   2207   1211    949   9801    246   1059    148     26   1237     39\n",
            "    226    169     81   1111   1063    317    123   2733   1350    121]\n",
            "-----\n",
            "A15\n",
            "[0 1]\n",
            "-----\n"
          ]
        }
      ],
      "source": [
        "for v in datos.columns: #datos.columns:\n",
        "    print(v)\n",
        "    print(datos[v].unique())\n",
        "    print(\"-----\")\n"
      ]
    },
    {
      "cell_type": "code",
      "execution_count": 10,
      "metadata": {
        "colab": {
          "base_uri": "https://localhost:8080/",
          "height": 364
        },
        "id": "fk3sA3lKOxNN",
        "outputId": "efcdad85-dfa4-4a23-d4f5-9b8b7f36a6a0"
      },
      "outputs": [
        {
          "output_type": "execute_result",
          "data": {
            "text/plain": [
              "               A1          A2          A3          A4          A5          A6  \\\n",
              "count  690.000000  690.000000  690.000000  690.000000  690.000000  690.000000   \n",
              "mean     0.678261   31.568203    4.758725    1.766667    7.372464    4.692754   \n",
              "std      0.467482   11.853273    4.978163    0.430063    3.683265    1.992316   \n",
              "min      0.000000   13.750000    0.000000    1.000000    1.000000    1.000000   \n",
              "25%      0.000000   22.670000    1.000000    2.000000    4.000000    4.000000   \n",
              "50%      1.000000   28.625000    2.750000    2.000000    8.000000    4.000000   \n",
              "75%      1.000000   37.707500    7.207500    2.000000   10.000000    5.000000   \n",
              "max      1.000000   80.250000   28.000000    3.000000   14.000000    9.000000   \n",
              "\n",
              "               A7          A8          A9        A10         A11         A12  \\\n",
              "count  690.000000  690.000000  690.000000  690.00000  690.000000  690.000000   \n",
              "mean     2.223406    0.523188    0.427536    2.40000    0.457971    1.928986   \n",
              "std      3.346513    0.499824    0.495080    4.86294    0.498592    0.298813   \n",
              "min      0.000000    0.000000    0.000000    0.00000    0.000000    1.000000   \n",
              "25%      0.165000    0.000000    0.000000    0.00000    0.000000    2.000000   \n",
              "50%      1.000000    1.000000    0.000000    0.00000    0.000000    2.000000   \n",
              "75%      2.625000    1.000000    1.000000    3.00000    1.000000    2.000000   \n",
              "max     28.500000    1.000000    1.000000   67.00000    1.000000    3.000000   \n",
              "\n",
              "               A13            A14         A15  \n",
              "count   690.000000     690.000000  690.000000  \n",
              "mean    184.014493    1018.385507    0.444928  \n",
              "std     172.159274    5210.102598    0.497318  \n",
              "min       0.000000       1.000000    0.000000  \n",
              "25%      80.000000       1.000000    0.000000  \n",
              "50%     160.000000       6.000000    0.000000  \n",
              "75%     272.000000     396.500000    1.000000  \n",
              "max    2000.000000  100001.000000    1.000000  "
            ],
            "text/html": [
              "\n",
              "  <div id=\"df-ce98032e-9339-471f-ac32-4c0cf7ac64dc\">\n",
              "    <div class=\"colab-df-container\">\n",
              "      <div>\n",
              "<style scoped>\n",
              "    .dataframe tbody tr th:only-of-type {\n",
              "        vertical-align: middle;\n",
              "    }\n",
              "\n",
              "    .dataframe tbody tr th {\n",
              "        vertical-align: top;\n",
              "    }\n",
              "\n",
              "    .dataframe thead th {\n",
              "        text-align: right;\n",
              "    }\n",
              "</style>\n",
              "<table border=\"1\" class=\"dataframe\">\n",
              "  <thead>\n",
              "    <tr style=\"text-align: right;\">\n",
              "      <th></th>\n",
              "      <th>A1</th>\n",
              "      <th>A2</th>\n",
              "      <th>A3</th>\n",
              "      <th>A4</th>\n",
              "      <th>A5</th>\n",
              "      <th>A6</th>\n",
              "      <th>A7</th>\n",
              "      <th>A8</th>\n",
              "      <th>A9</th>\n",
              "      <th>A10</th>\n",
              "      <th>A11</th>\n",
              "      <th>A12</th>\n",
              "      <th>A13</th>\n",
              "      <th>A14</th>\n",
              "      <th>A15</th>\n",
              "    </tr>\n",
              "  </thead>\n",
              "  <tbody>\n",
              "    <tr>\n",
              "      <th>count</th>\n",
              "      <td>690.000000</td>\n",
              "      <td>690.000000</td>\n",
              "      <td>690.000000</td>\n",
              "      <td>690.000000</td>\n",
              "      <td>690.000000</td>\n",
              "      <td>690.000000</td>\n",
              "      <td>690.000000</td>\n",
              "      <td>690.000000</td>\n",
              "      <td>690.000000</td>\n",
              "      <td>690.00000</td>\n",
              "      <td>690.000000</td>\n",
              "      <td>690.000000</td>\n",
              "      <td>690.000000</td>\n",
              "      <td>690.000000</td>\n",
              "      <td>690.000000</td>\n",
              "    </tr>\n",
              "    <tr>\n",
              "      <th>mean</th>\n",
              "      <td>0.678261</td>\n",
              "      <td>31.568203</td>\n",
              "      <td>4.758725</td>\n",
              "      <td>1.766667</td>\n",
              "      <td>7.372464</td>\n",
              "      <td>4.692754</td>\n",
              "      <td>2.223406</td>\n",
              "      <td>0.523188</td>\n",
              "      <td>0.427536</td>\n",
              "      <td>2.40000</td>\n",
              "      <td>0.457971</td>\n",
              "      <td>1.928986</td>\n",
              "      <td>184.014493</td>\n",
              "      <td>1018.385507</td>\n",
              "      <td>0.444928</td>\n",
              "    </tr>\n",
              "    <tr>\n",
              "      <th>std</th>\n",
              "      <td>0.467482</td>\n",
              "      <td>11.853273</td>\n",
              "      <td>4.978163</td>\n",
              "      <td>0.430063</td>\n",
              "      <td>3.683265</td>\n",
              "      <td>1.992316</td>\n",
              "      <td>3.346513</td>\n",
              "      <td>0.499824</td>\n",
              "      <td>0.495080</td>\n",
              "      <td>4.86294</td>\n",
              "      <td>0.498592</td>\n",
              "      <td>0.298813</td>\n",
              "      <td>172.159274</td>\n",
              "      <td>5210.102598</td>\n",
              "      <td>0.497318</td>\n",
              "    </tr>\n",
              "    <tr>\n",
              "      <th>min</th>\n",
              "      <td>0.000000</td>\n",
              "      <td>13.750000</td>\n",
              "      <td>0.000000</td>\n",
              "      <td>1.000000</td>\n",
              "      <td>1.000000</td>\n",
              "      <td>1.000000</td>\n",
              "      <td>0.000000</td>\n",
              "      <td>0.000000</td>\n",
              "      <td>0.000000</td>\n",
              "      <td>0.00000</td>\n",
              "      <td>0.000000</td>\n",
              "      <td>1.000000</td>\n",
              "      <td>0.000000</td>\n",
              "      <td>1.000000</td>\n",
              "      <td>0.000000</td>\n",
              "    </tr>\n",
              "    <tr>\n",
              "      <th>25%</th>\n",
              "      <td>0.000000</td>\n",
              "      <td>22.670000</td>\n",
              "      <td>1.000000</td>\n",
              "      <td>2.000000</td>\n",
              "      <td>4.000000</td>\n",
              "      <td>4.000000</td>\n",
              "      <td>0.165000</td>\n",
              "      <td>0.000000</td>\n",
              "      <td>0.000000</td>\n",
              "      <td>0.00000</td>\n",
              "      <td>0.000000</td>\n",
              "      <td>2.000000</td>\n",
              "      <td>80.000000</td>\n",
              "      <td>1.000000</td>\n",
              "      <td>0.000000</td>\n",
              "    </tr>\n",
              "    <tr>\n",
              "      <th>50%</th>\n",
              "      <td>1.000000</td>\n",
              "      <td>28.625000</td>\n",
              "      <td>2.750000</td>\n",
              "      <td>2.000000</td>\n",
              "      <td>8.000000</td>\n",
              "      <td>4.000000</td>\n",
              "      <td>1.000000</td>\n",
              "      <td>1.000000</td>\n",
              "      <td>0.000000</td>\n",
              "      <td>0.00000</td>\n",
              "      <td>0.000000</td>\n",
              "      <td>2.000000</td>\n",
              "      <td>160.000000</td>\n",
              "      <td>6.000000</td>\n",
              "      <td>0.000000</td>\n",
              "    </tr>\n",
              "    <tr>\n",
              "      <th>75%</th>\n",
              "      <td>1.000000</td>\n",
              "      <td>37.707500</td>\n",
              "      <td>7.207500</td>\n",
              "      <td>2.000000</td>\n",
              "      <td>10.000000</td>\n",
              "      <td>5.000000</td>\n",
              "      <td>2.625000</td>\n",
              "      <td>1.000000</td>\n",
              "      <td>1.000000</td>\n",
              "      <td>3.00000</td>\n",
              "      <td>1.000000</td>\n",
              "      <td>2.000000</td>\n",
              "      <td>272.000000</td>\n",
              "      <td>396.500000</td>\n",
              "      <td>1.000000</td>\n",
              "    </tr>\n",
              "    <tr>\n",
              "      <th>max</th>\n",
              "      <td>1.000000</td>\n",
              "      <td>80.250000</td>\n",
              "      <td>28.000000</td>\n",
              "      <td>3.000000</td>\n",
              "      <td>14.000000</td>\n",
              "      <td>9.000000</td>\n",
              "      <td>28.500000</td>\n",
              "      <td>1.000000</td>\n",
              "      <td>1.000000</td>\n",
              "      <td>67.00000</td>\n",
              "      <td>1.000000</td>\n",
              "      <td>3.000000</td>\n",
              "      <td>2000.000000</td>\n",
              "      <td>100001.000000</td>\n",
              "      <td>1.000000</td>\n",
              "    </tr>\n",
              "  </tbody>\n",
              "</table>\n",
              "</div>\n",
              "      <button class=\"colab-df-convert\" onclick=\"convertToInteractive('df-ce98032e-9339-471f-ac32-4c0cf7ac64dc')\"\n",
              "              title=\"Convert this dataframe to an interactive table.\"\n",
              "              style=\"display:none;\">\n",
              "        \n",
              "  <svg xmlns=\"http://www.w3.org/2000/svg\" height=\"24px\"viewBox=\"0 0 24 24\"\n",
              "       width=\"24px\">\n",
              "    <path d=\"M0 0h24v24H0V0z\" fill=\"none\"/>\n",
              "    <path d=\"M18.56 5.44l.94 2.06.94-2.06 2.06-.94-2.06-.94-.94-2.06-.94 2.06-2.06.94zm-11 1L8.5 8.5l.94-2.06 2.06-.94-2.06-.94L8.5 2.5l-.94 2.06-2.06.94zm10 10l.94 2.06.94-2.06 2.06-.94-2.06-.94-.94-2.06-.94 2.06-2.06.94z\"/><path d=\"M17.41 7.96l-1.37-1.37c-.4-.4-.92-.59-1.43-.59-.52 0-1.04.2-1.43.59L10.3 9.45l-7.72 7.72c-.78.78-.78 2.05 0 2.83L4 21.41c.39.39.9.59 1.41.59.51 0 1.02-.2 1.41-.59l7.78-7.78 2.81-2.81c.8-.78.8-2.07 0-2.86zM5.41 20L4 18.59l7.72-7.72 1.47 1.35L5.41 20z\"/>\n",
              "  </svg>\n",
              "      </button>\n",
              "      \n",
              "  <style>\n",
              "    .colab-df-container {\n",
              "      display:flex;\n",
              "      flex-wrap:wrap;\n",
              "      gap: 12px;\n",
              "    }\n",
              "\n",
              "    .colab-df-convert {\n",
              "      background-color: #E8F0FE;\n",
              "      border: none;\n",
              "      border-radius: 50%;\n",
              "      cursor: pointer;\n",
              "      display: none;\n",
              "      fill: #1967D2;\n",
              "      height: 32px;\n",
              "      padding: 0 0 0 0;\n",
              "      width: 32px;\n",
              "    }\n",
              "\n",
              "    .colab-df-convert:hover {\n",
              "      background-color: #E2EBFA;\n",
              "      box-shadow: 0px 1px 2px rgba(60, 64, 67, 0.3), 0px 1px 3px 1px rgba(60, 64, 67, 0.15);\n",
              "      fill: #174EA6;\n",
              "    }\n",
              "\n",
              "    [theme=dark] .colab-df-convert {\n",
              "      background-color: #3B4455;\n",
              "      fill: #D2E3FC;\n",
              "    }\n",
              "\n",
              "    [theme=dark] .colab-df-convert:hover {\n",
              "      background-color: #434B5C;\n",
              "      box-shadow: 0px 1px 3px 1px rgba(0, 0, 0, 0.15);\n",
              "      filter: drop-shadow(0px 1px 2px rgba(0, 0, 0, 0.3));\n",
              "      fill: #FFFFFF;\n",
              "    }\n",
              "  </style>\n",
              "\n",
              "      <script>\n",
              "        const buttonEl =\n",
              "          document.querySelector('#df-ce98032e-9339-471f-ac32-4c0cf7ac64dc button.colab-df-convert');\n",
              "        buttonEl.style.display =\n",
              "          google.colab.kernel.accessAllowed ? 'block' : 'none';\n",
              "\n",
              "        async function convertToInteractive(key) {\n",
              "          const element = document.querySelector('#df-ce98032e-9339-471f-ac32-4c0cf7ac64dc');\n",
              "          const dataTable =\n",
              "            await google.colab.kernel.invokeFunction('convertToInteractive',\n",
              "                                                     [key], {});\n",
              "          if (!dataTable) return;\n",
              "\n",
              "          const docLinkHtml = 'Like what you see? Visit the ' +\n",
              "            '<a target=\"_blank\" href=https://colab.research.google.com/notebooks/data_table.ipynb>data table notebook</a>'\n",
              "            + ' to learn more about interactive tables.';\n",
              "          element.innerHTML = '';\n",
              "          dataTable['output_type'] = 'display_data';\n",
              "          await google.colab.output.renderOutput(dataTable, element);\n",
              "          const docLink = document.createElement('div');\n",
              "          docLink.innerHTML = docLinkHtml;\n",
              "          element.appendChild(docLink);\n",
              "        }\n",
              "      </script>\n",
              "    </div>\n",
              "  </div>\n",
              "  "
            ]
          },
          "metadata": {},
          "execution_count": 10
        }
      ],
      "source": [
        "datos.describe()\n"
      ]
    },
    {
      "cell_type": "markdown",
      "metadata": {
        "id": "QlmEhXtHOxNN"
      },
      "source": [
        "- Analizamos las distribuciones de las variables"
      ]
    },
    {
      "cell_type": "code",
      "execution_count": 29,
      "metadata": {
        "id": "GOydw5OGC1MJ",
        "colab": {
          "base_uri": "https://localhost:8080/",
          "height": 738
        },
        "outputId": "b6099296-39fe-4a2d-8196-b036dc46ec48"
      },
      "outputs": [
        {
          "output_type": "display_data",
          "data": {
            "text/plain": [
              "<Figure size 1080x720 with 15 Axes>"
            ],
            "image/png": "[encoded data removed]"
          },
          "metadata": {}
        }
      ],
      "source": [
        "# Tamaño de la gráfica\n",
        "sns.set(rc={\"figure.figsize\": (15, 10)})\n",
        "fig, axes = plt.subplots(3, 5)\n",
        "\n",
        "# Espacio entre gráficas\n",
        "fig.tight_layout(h_pad=5.0)\n",
        "\n",
        "# Grafica los histogramas uno por uno\n",
        "for k in range(0, 15):\n",
        "    plt.subplot(3, 5, k + 1)\n",
        "    # Número de valores diferentes.\n",
        "    buckets = datos.iloc[:, k].nunique()\n",
        "    \n",
        "    if buckets > 10:\n",
        "        buckets = 15\n",
        "        \n",
        "    # Crea el histograma\n",
        "    datos.iloc[:, k].hist(bins=buckets)\n",
        "    # Nombra el eje X de acuerdo a la columna que está siendo visualizada\n",
        "    plt.xlabel(datos.columns[k])\n",
        "# Despliega la figura con las 10 gráficas\n",
        "plt.show()\n"
      ]
    },
    {
      "cell_type": "markdown",
      "metadata": {
        "id": "lfmnGIeSOxNO"
      },
      "source": [
        "- Probamos transformaciones a las variables numéricas"
      ]
    },
    {
      "cell_type": "code",
      "execution_count": 28,
      "metadata": {
        "colab": {
          "base_uri": "https://localhost:8080/",
          "height": 611
        },
        "id": "8sII24AnOxNO",
        "outputId": "69c8390f-8eac-40cb-f643-e708efe14f71"
      },
      "outputs": [
        {
          "output_type": "display_data",
          "data": {
            "text/plain": [
              "<Figure size 1080x720 with 24 Axes>"
            ],
            "image/png": "[encoded data removed]"
          },
          "metadata": {}
        }
      ],
      "source": [
        "# Mediante histogramas revisamos la distribución de frecuencias para encontrar \n",
        "# cual daría la mejor simetria pos-transformación de las variable numéricas\n",
        "\n",
        "sns.set(rc={\"figure.figsize\": (15, 10)})\n",
        "fig, axes = plt.subplots(4, 6)\n",
        "\n",
        "datos_num_transf = datos_cnt\n",
        "\n",
        "for k in range(0, 6):\n",
        "    # Datos originales ---------------------------------------------------------\n",
        "    plt.subplot(4, 6, k + 1)\n",
        "    Transf0 = (\n",
        "        datos[datos_num_transf[k]].values.reshape(-1, 1)\n",
        "    )  # Se asigna a Transf0 los valores de cada variable \"k\" sin transformar.\n",
        "    plt.hist(\n",
        "        Transf0, bins=20\n",
        "    )  # Se agrega el comando para obtener el histograma de Transf0 con 20 barras (bins).\n",
        "    plt.xlabel(datos_num_transf[k])\n",
        "    if k == 0:\n",
        "        plt.ylabel(\"Originales\")\n",
        "\n",
        "    # Datos transformados con raíz cuadrada ------------------------------------\n",
        "    plt.subplot(4, 6, k + 7)\n",
        "    Transf1 = np.sqrt(\n",
        "        Transf0\n",
        "    )  # Se debe aplica la raíz cuadrada a los valores de cada variable \"k\" sin transformar.\n",
        "    plt.hist(\n",
        "        Transf1, bins=20\n",
        "    )  # Se agrega el comando para obtener el histograma de Transf1 con 20 barras (bins).\n",
        "    plt.xlabel(datos_num_transf[k])\n",
        "    if k == 0:\n",
        "        plt.ylabel(\"Raíz Cuadrada\")\n",
        "\n",
        "    # Datos transformados con logaritmo natural --------------------------------\n",
        "    plt.subplot(4, 6, k + 13)\n",
        "    Transf2 = np.log1p(\n",
        "        Transf0\n",
        "    )  # Se aplica el logaritmo natural a los valores de cada variable \"k\" sin transformar.\n",
        "    plt.hist(\n",
        "        Transf2, bins=20\n",
        "    )  # Se agrega el comando para obtener el histograma de Transf2 con 20 barras (bins).\n",
        "    plt.xlabel(datos_num_transf[k])\n",
        "    if k == 0:\n",
        "        plt.ylabel(\"Logaritmo\")\n",
        "\n",
        "    # Datos transformados con Box-Cox ------------------------------------------\n",
        "    plt.subplot(4, 6, k + 19)\n",
        "    \n",
        "    Transf4 = power_transform(\n",
        "        (datos[datos_num_transf[k]].values.reshape(-1, 1)) + 1, method=\"box-cox\"\n",
        "    )  #  En esta línea se debe aplicar la transformación Box-Cox a los valores de cada variable \"k\" sin transformar.\n",
        "    plt.hist(\n",
        "        Transf4, bins=20\n",
        "    )  #  En este línea agrega el comando para obtener el histograma de Transf4 con 20 barras (bins).\n",
        "    plt.xlabel(datos_num_transf[k])\n",
        "    \n",
        "    if k == 0:\n",
        "        plt.ylabel(\"Box-Cox\")"
      ]
    },
    {
      "cell_type": "markdown",
      "metadata": {
        "id": "562Vv2QFOxNO"
      },
      "source": [
        "- Observamos un boxplot de las variables numéricas"
      ]
    },
    {
      "cell_type": "code",
      "source": [
        "sns.set(rc={\"figure.figsize\": (12, 18)})\n",
        "fig, axes = plt.subplots(4, 6)\n",
        "\n",
        "datos_copy = datos.copy()\n",
        "\n",
        "scaler1 = QuantileTransformer(output_distribution=\"normal\", n_quantiles=datos_copy.shape[0])\n",
        "scaler2 = MinMaxScaler()\n",
        "scaler3 = StandardScaler()\n",
        "\n",
        "for k in range(0, 6):\n",
        "    plt.subplot(4, 6, k + 1)\n",
        "    Transf1 = datos_copy[datos_num_transf[k]].values.reshape(-1, 1)\n",
        "    sns.boxplot(data=Transf1)\n",
        "    if k == 0:\n",
        "      plt.ylabel(\"Datos Originales\")  \n",
        "\n",
        "    plt.subplot(4, 6, k + 7)\n",
        "    Transf2 = scaler1.fit_transform(datos_copy[datos_num_transf[k]].values.reshape(-1, 1))\n",
        "    sns.boxplot(data=Transf2)\n",
        "    if k == 0:\n",
        "       plt.ylabel(scaler1.__class__.__name__)\n",
        "\n",
        "    plt.subplot(4, 6, k + 13)\n",
        "    Transf3 = scaler2.fit_transform(datos_copy[datos_num_transf[k]].values.reshape(-1, 1))\n",
        "    sns.boxplot(data=Transf3)\n",
        "    if k == 0:\n",
        "      plt.ylabel(scaler2.__class__.__name__)\n",
        "\n",
        "    plt.subplot(4, 6, k + 19)\n",
        "    Transf4 = scaler3.fit_transform(datos_copy[datos_num_transf[k]].values.reshape(-1, 1))\n",
        "    sns.boxplot(data=Transf4)\n",
        "    if k == 0:\n",
        "      plt.ylabel(scaler3.__class__.__name__)\n",
        "\n",
        "    plt.xlabel(datos_num_transf[k])\n",
        "# Despliega la figura con las 10 gráficas\n",
        "plt.show()"
      ],
      "metadata": {
        "colab": {
          "base_uri": "https://localhost:8080/",
          "height": 1000
        },
        "id": "12WX_W6oQhnd",
        "outputId": "32858a2e-850a-43ee-b5fa-67c0439e7e18"
      },
      "execution_count": 36,
      "outputs": [
        {
          "output_type": "display_data",
          "data": {
            "text/plain": [
              "<Figure size 864x1296 with 24 Axes>"
            ],
            "image/png": "[encoded data removed]"
          },
          "metadata": {}
        }
      ]
    },
    {
      "cell_type": "code",
      "execution_count": 19,
      "metadata": {
        "colab": {
          "base_uri": "https://localhost:8080/",
          "height": 611
        },
        "id": "_o4M8EJYOxNO",
        "outputId": "0fd8dfa5-d982-4e36-ac31-b1000ee136be"
      },
      "outputs": [
        {
          "output_type": "display_data",
          "data": {
            "text/plain": [
              "<Figure size 1440x720 with 6 Axes>"
            ],
            "image/png": "[encoded data removed]"
          },
          "metadata": {}
        }
      ],
      "source": [
        "datos_copy = datos.copy()\n",
        "\n",
        "scaler = QuantileTransformer(output_distribution=\"normal\", n_quantiles=datos_copy.shape[0])\n",
        "# scaler = MinMaxScaler()\n",
        "# scaler = StandardScaler()\n",
        "\n",
        "sns.set(rc={\"figure.figsize\": (20, 10)})\n",
        "fig, axes = plt.subplots(2, 3)\n",
        "\n",
        "for i, c in enumerate(datos_cnt):\n",
        "    plt.subplot(2, 3, i + 1)\n",
        "    datos_copy[c] = scaler.fit_transform(datos_copy[c].values.reshape(-1, 1))\n",
        "    sns.boxplot(data=datos_copy[c])\n",
        "    plt.xlabel(c)\n",
        "plt.show()"
      ]
    },
    {
      "cell_type": "markdown",
      "metadata": {
        "id": "7xtjfNacOxNO"
      },
      "source": [
        "- A partir de estas transformaciones decidimos utilizar la tranformación logarítmica en nuestro pipeline para las variables numéricas"
      ]
    },
    {
      "cell_type": "code",
      "execution_count": 38,
      "metadata": {
        "id": "h43m4D6NOxNO"
      },
      "outputs": [],
      "source": [
        "# En esta sección de código definimos las transformaciones\n",
        "# ========================================================\n",
        "# Transformaciones a factores categóricos\n",
        "\n",
        "cat_pipeline = Pipeline(\n",
        "    steps=[\n",
        "        (\"impModa\", SimpleImputer(strategy=\"most_frequent\")),\n",
        "        (\"OneHotE\", OneHotEncoder(handle_unknown=\"ignore\")),\n",
        "    ]\n",
        ")\n",
        "cat_pipeline_nombres = datos_cat\n",
        "\n",
        "# Transformaciones a factores numéricos de entrada:\n",
        "num_pipeline = Pipeline(\n",
        "    steps=[\n",
        "        (\"impMediana\", SimpleImputer(strategy=\"median\")),\n",
        "        # (\"log\", FunctionTransformer(np.log1p)),\n",
        "        (\"quantile\", QuantileTransformer(output_distribution=\"normal\")),\n",
        "        (\"escalaMinMax\", MinMaxScaler()),\n",
        "    ]\n",
        ")\n",
        "num_pipeline_nombres = datos_cnt\n",
        "\n",
        "# Conjuntamos las transformaciones que se aplicarán a los datos de entrada:\n",
        "columnasTransformer = ColumnTransformer(\n",
        "    transformers=[\n",
        "        (\"catpipe\", cat_pipeline, cat_pipeline_nombres),\n",
        "        (\"numpipe\", num_pipeline, num_pipeline_nombres),\n",
        "    ],\n",
        "    remainder=\"passthrough\",\n",
        ")\n",
        "\n"
      ]
    },
    {
      "cell_type": "markdown",
      "metadata": {
        "id": "NCunuooTC2W3"
      },
      "source": [
        "# **Ejercicio-3.**\n",
        "## *Utiliza la función Dummy para modelos de clasificación con la estrategia “stratified” con el conjunto que tienes de datos de entrenamiento y validación. Obtener los valores de partida (baseline) de las siguientes métricas: accuracy, f1-score, precision y recall. ¿Por qué consideras que es adecuado usar la estrategia “stratified” en este caso?*"
      ]
    },
    {
      "cell_type": "code",
      "execution_count": 39,
      "metadata": {
        "id": "Fhj24Xi-OxNP"
      },
      "outputs": [],
      "source": [
        "# Funciones para generar scores\n",
        "def accuracy(yreal, ypred):\n",
        "    cm = confusion_matrix(yreal, ypred)\n",
        "    \n",
        "    tot = cm.sum()\n",
        "\n",
        "    vp = cm[1, 1]\n",
        "    vn = cm[0, 0]\n",
        "\n",
        "    score = (vp + vn) / tot\n",
        "\n",
        "    return score\n",
        "\n",
        "\n",
        "def precision(yreal, ypred):\n",
        "    cm = confusion_matrix(yreal, ypred)\n",
        "\n",
        "    tot = cm.sum()\n",
        "\n",
        "    fp = cm[0, 1]\n",
        "    vp = cm[1, 1]\n",
        "\n",
        "    score = vp / (vp + fp)\n",
        "\n",
        "    return score\n",
        "\n",
        "\n",
        "def recall(yreal, ypred):\n",
        "    cm = confusion_matrix(yreal, ypred)\n",
        "\n",
        "    tot = cm.sum()\n",
        "\n",
        "    fn = cm[1, 0]\n",
        "    vp = cm[1, 1]\n",
        "\n",
        "    score = vp / (vp + fn)\n",
        "\n",
        "    return score\n",
        "\n",
        "\n",
        "def f1(yreal, ypred):\n",
        "    cm = confusion_matrix(yreal, ypred)\n",
        "\n",
        "    tot = cm.sum()\n",
        "\n",
        "    fp = cm[0, 1]\n",
        "    fn = cm[1, 0]\n",
        "    vp = cm[1, 1]\n",
        "\n",
        "    score = 2 * vp / (2 * vp + fp + fn)\n",
        "\n",
        "    return score\n",
        "\n",
        "\n",
        "def gmean(yreal, ypred):\n",
        "    cm = confusion_matrix(yreal, ypred)\n",
        "\n",
        "    tot = cm.sum()\n",
        "\n",
        "    vn = cm[0, 0]\n",
        "    fp = cm[0, 1]\n",
        "    fn = cm[1, 0]\n",
        "    vp = cm[1, 1]\n",
        "\n",
        "    recall = vp / (vp + fn)\n",
        "    specifity = vn / (vn + fp)\n",
        "\n",
        "    score = np.sqrt(recall * specifity)\n",
        "\n",
        "    return score"
      ]
    },
    {
      "cell_type": "code",
      "execution_count": 42,
      "metadata": {
        "id": "YXlcSWA-C4Dj",
        "colab": {
          "base_uri": "https://localhost:8080/"
        },
        "outputId": "f7c0fa9d-812a-44ae-af34-07ce755a13bb"
      },
      "outputs": [
        {
          "output_type": "stream",
          "name": "stdout",
          "text": [
            "===============================\n",
            "DUMMY Classifier:\n",
            "===============================\n",
            "ENTRENAMIENTO:\n",
            "Confusion matrix:\n",
            " [[244   0]\n",
            " [196   0]]\n",
            "Accuracy:  0.5545454545454546\n",
            "F1-score:  0.0\n",
            "Precision:  nan\n",
            "Recall:  0.0\n",
            "\n",
            "VALIDACION:\n",
            "Confusion matrix:\n",
            " [[81  0]\n",
            " [65  0]]\n",
            "Accuracy:  0.5547945205479452\n",
            "F1-score:  0.0\n",
            "Precision:  nan\n",
            "Recall:  0.0\n"
          ]
        },
        {
          "output_type": "stream",
          "name": "stderr",
          "text": [
            "/usr/local/lib/python3.7/dist-packages/ipykernel_launcher.py:23: RuntimeWarning: invalid value encountered in long_scalars\n",
            "/usr/local/lib/python3.7/dist-packages/ipykernel_launcher.py:23: RuntimeWarning: invalid value encountered in long_scalars\n"
          ]
        }
      ],
      "source": [
        "#### ¿Ocupamos las variables después de normalizarlas con el pipeline (column transformer)?\n",
        "\n",
        "X_val_dummy, X_train_dummy, Y_val_dummy, Y_train_dummy = train_test_split(X_train, Y_train, train_size=0.25, stratify=Y_train, random_state=0) # realizamos la partición.\n",
        "\n",
        "modeloDummy = DummyClassifier() # estrategia default es mean, siempre se predice la media de los datos de entrenamiento\n",
        "\n",
        "modeloDummy.fit(X_train_dummy, Y_train_dummy)       # entrenamos con los conjuntos de entrenamiento\n",
        "\n",
        "yhat_train_dummy = modeloDummy.predict(X_train_dummy)\n",
        "yhat_val_dummy = modeloDummy.predict(X_val_dummy)\n",
        "\n",
        "print('===============================\\nDUMMY Classifier:\\n===============================')\n",
        "print('ENTRENAMIENTO:')\n",
        "print(\"Confusion matrix:\\n\", confusion_matrix(Y_train_dummy, yhat_train_dummy))\n",
        "print('Accuracy: ', accuracy(Y_train_dummy, yhat_train_dummy))\n",
        "print('F1-score: ', f1(Y_train_dummy, yhat_train_dummy))\n",
        "print('Precision: ', precision(Y_train_dummy, yhat_train_dummy))\n",
        "print('Recall: ', recall(Y_train_dummy, yhat_train_dummy))\n",
        "\n",
        "print('\\nVALIDACION:')\n",
        "print(\"Confusion matrix:\\n\", confusion_matrix(Y_val_dummy, yhat_val_dummy))\n",
        "print('Accuracy: ', accuracy(Y_val_dummy, yhat_val_dummy))\n",
        "print('F1-score: ', f1(Y_val_dummy, yhat_val_dummy))\n",
        "print('Precision: ', precision(Y_val_dummy, yhat_val_dummy))\n",
        "print('Recall: ', recall(Y_val_dummy, yhat_val_dummy))"
      ]
    },
    {
      "cell_type": "markdown",
      "metadata": {
        "id": "chqk9jIDC5Pq"
      },
      "source": [
        "# **Ejercicio-4.**\n",
        "## *Usando el modelo de máquina de vector soporte (SVM) encuentra sus mejores hiperparámetros con una búsqueda de malla y validación cruzada, desplegando los errores indicados en el ejercicio anterior.* "
      ]
    },
    {
      "cell_type": "code",
      "execution_count": 46,
      "metadata": {
        "colab": {
          "base_uri": "https://localhost:8080/"
        },
        "id": "wtdwkmtVOxNP",
        "outputId": "ca20120c-bdcc-4fe1-bc10-92bf92c12c4e"
      },
      "outputs": [
        {
          "output_type": "stream",
          "name": "stderr",
          "text": [
            "/usr/local/lib/python3.7/dist-packages/sklearn/preprocessing/_data.py:2593: UserWarning: n_quantiles (1000) is greater than the total number of samples (586). n_quantiles is set to n_samples.\n",
            "  \"n_samples.\" % (self.n_quantiles, n_samples)\n"
          ]
        },
        {
          "output_type": "stream",
          "name": "stdout",
          "text": [
            "0.8653846153846154\n"
          ]
        }
      ],
      "source": [
        "modeloSVM = SVC(kernel='linear', C=10, gamma=35) # New model with dummy hiperparameters\n",
        "\n",
        "Xx = columnasTransformer.fit_transform(X_train) # Transform input data\n",
        "modeloSVM.fit(Xx, np.ravel(Y_train)) # Fit the model\n",
        "\n",
        "Xx_tst = columnasTransformer.transform(X_test) # Transform test data\n",
        "print(modeloSVM.score(Xx_tst, np.ravel(Y_test))) # Evauate with test data (accuracy metric by default)"
      ]
    },
    {
      "cell_type": "code",
      "execution_count": 48,
      "metadata": {
        "id": "RBVSFwK4C6g9",
        "colab": {
          "base_uri": "https://localhost:8080/",
          "height": 446
        },
        "outputId": "19be95c5-0f78-47b2-c8bd-aed8c8ea72cb"
      },
      "outputs": [
        {
          "output_type": "stream",
          "name": "stderr",
          "text": [
            "/usr/local/lib/python3.7/dist-packages/sklearn/preprocessing/_data.py:2593: UserWarning: n_quantiles (1000) is greater than the total number of samples (586). n_quantiles is set to n_samples.\n",
            "  \"n_samples.\" % (self.n_quantiles, n_samples)\n"
          ]
        },
        {
          "output_type": "error",
          "ename": "KeyboardInterrupt",
          "evalue": "ignored",
          "traceback": [
            "\u001b[0;31m---------------------------------------------------------------------------\u001b[0m",
            "\u001b[0;31mKeyboardInterrupt\u001b[0m                         Traceback (most recent call last)",
            "\u001b[0;32m<ipython-input-48-69df66114509>\u001b[0m in \u001b[0;36m<module>\u001b[0;34m\u001b[0m\n\u001b[1;32m     18\u001b[0m \u001b[0mXx\u001b[0m \u001b[0;34m=\u001b[0m \u001b[0mcolumnasTransformer\u001b[0m\u001b[0;34m.\u001b[0m\u001b[0mfit_transform\u001b[0m\u001b[0;34m(\u001b[0m\u001b[0mX_train\u001b[0m\u001b[0;34m)\u001b[0m\u001b[0;34m\u001b[0m\u001b[0;34m\u001b[0m\u001b[0m\n\u001b[1;32m     19\u001b[0m \u001b[0;34m\u001b[0m\u001b[0m\n\u001b[0;32m---> 20\u001b[0;31m \u001b[0mgrid\u001b[0m\u001b[0;34m.\u001b[0m\u001b[0mfit\u001b[0m\u001b[0;34m(\u001b[0m\u001b[0mXx\u001b[0m\u001b[0;34m,\u001b[0m \u001b[0mnp\u001b[0m\u001b[0;34m.\u001b[0m\u001b[0mravel\u001b[0m\u001b[0;34m(\u001b[0m\u001b[0mY_train\u001b[0m\u001b[0;34m)\u001b[0m\u001b[0;34m)\u001b[0m\u001b[0;34m\u001b[0m\u001b[0;34m\u001b[0m\u001b[0m\n\u001b[0m\u001b[1;32m     21\u001b[0m \u001b[0;34m\u001b[0m\u001b[0m\n\u001b[1;32m     22\u001b[0m \u001b[0mprint\u001b[0m\u001b[0;34m(\u001b[0m\u001b[0;34m'Mejor valor de score:'\u001b[0m\u001b[0;34m,\u001b[0m \u001b[0mgrid\u001b[0m\u001b[0;34m.\u001b[0m\u001b[0mbest_score_\u001b[0m\u001b[0;34m)\u001b[0m\u001b[0;34m\u001b[0m\u001b[0;34m\u001b[0m\u001b[0m\n",
            "\u001b[0;32m/usr/local/lib/python3.7/dist-packages/sklearn/model_selection/_search.py\u001b[0m in \u001b[0;36mfit\u001b[0;34m(self, X, y, groups, **fit_params)\u001b[0m\n\u001b[1;32m    889\u001b[0m                 \u001b[0;32mreturn\u001b[0m \u001b[0mresults\u001b[0m\u001b[0;34m\u001b[0m\u001b[0;34m\u001b[0m\u001b[0m\n\u001b[1;32m    890\u001b[0m \u001b[0;34m\u001b[0m\u001b[0m\n\u001b[0;32m--> 891\u001b[0;31m             \u001b[0mself\u001b[0m\u001b[0;34m.\u001b[0m\u001b[0m_run_search\u001b[0m\u001b[0;34m(\u001b[0m\u001b[0mevaluate_candidates\u001b[0m\u001b[0;34m)\u001b[0m\u001b[0;34m\u001b[0m\u001b[0;34m\u001b[0m\u001b[0m\n\u001b[0m\u001b[1;32m    892\u001b[0m \u001b[0;34m\u001b[0m\u001b[0m\n\u001b[1;32m    893\u001b[0m             \u001b[0;31m# multimetric is determined here because in the case of a callable\u001b[0m\u001b[0;34m\u001b[0m\u001b[0;34m\u001b[0m\u001b[0;34m\u001b[0m\u001b[0m\n",
            "\u001b[0;32m/usr/local/lib/python3.7/dist-packages/sklearn/model_selection/_search.py\u001b[0m in \u001b[0;36m_run_search\u001b[0;34m(self, evaluate_candidates)\u001b[0m\n\u001b[1;32m   1390\u001b[0m     \u001b[0;32mdef\u001b[0m \u001b[0m_run_search\u001b[0m\u001b[0;34m(\u001b[0m\u001b[0mself\u001b[0m\u001b[0;34m,\u001b[0m \u001b[0mevaluate_candidates\u001b[0m\u001b[0;34m)\u001b[0m\u001b[0;34m:\u001b[0m\u001b[0;34m\u001b[0m\u001b[0;34m\u001b[0m\u001b[0m\n\u001b[1;32m   1391\u001b[0m         \u001b[0;34m\"\"\"Search all candidates in param_grid\"\"\"\u001b[0m\u001b[0;34m\u001b[0m\u001b[0;34m\u001b[0m\u001b[0m\n\u001b[0;32m-> 1392\u001b[0;31m         \u001b[0mevaluate_candidates\u001b[0m\u001b[0;34m(\u001b[0m\u001b[0mParameterGrid\u001b[0m\u001b[0;34m(\u001b[0m\u001b[0mself\u001b[0m\u001b[0;34m.\u001b[0m\u001b[0mparam_grid\u001b[0m\u001b[0;34m)\u001b[0m\u001b[0;34m)\u001b[0m\u001b[0;34m\u001b[0m\u001b[0;34m\u001b[0m\u001b[0m\n\u001b[0m\u001b[1;32m   1393\u001b[0m \u001b[0;34m\u001b[0m\u001b[0m\n\u001b[1;32m   1394\u001b[0m \u001b[0;34m\u001b[0m\u001b[0m\n",
            "\u001b[0;32m/usr/local/lib/python3.7/dist-packages/sklearn/model_selection/_search.py\u001b[0m in \u001b[0;36mevaluate_candidates\u001b[0;34m(candidate_params, cv, more_results)\u001b[0m\n\u001b[1;32m    849\u001b[0m                     )\n\u001b[1;32m    850\u001b[0m                     for (cand_idx, parameters), (split_idx, (train, test)) in product(\n\u001b[0;32m--> 851\u001b[0;31m                         \u001b[0menumerate\u001b[0m\u001b[0;34m(\u001b[0m\u001b[0mcandidate_params\u001b[0m\u001b[0;34m)\u001b[0m\u001b[0;34m,\u001b[0m \u001b[0menumerate\u001b[0m\u001b[0;34m(\u001b[0m\u001b[0mcv\u001b[0m\u001b[0;34m.\u001b[0m\u001b[0msplit\u001b[0m\u001b[0;34m(\u001b[0m\u001b[0mX\u001b[0m\u001b[0;34m,\u001b[0m \u001b[0my\u001b[0m\u001b[0;34m,\u001b[0m \u001b[0mgroups\u001b[0m\u001b[0;34m)\u001b[0m\u001b[0;34m)\u001b[0m\u001b[0;34m\u001b[0m\u001b[0;34m\u001b[0m\u001b[0m\n\u001b[0m\u001b[1;32m    852\u001b[0m                     )\n\u001b[1;32m    853\u001b[0m                 )\n",
            "\u001b[0;32m/usr/local/lib/python3.7/dist-packages/joblib/parallel.py\u001b[0m in \u001b[0;36m__call__\u001b[0;34m(self, iterable)\u001b[0m\n\u001b[1;32m   1096\u001b[0m \u001b[0;34m\u001b[0m\u001b[0m\n\u001b[1;32m   1097\u001b[0m             \u001b[0;32mwith\u001b[0m \u001b[0mself\u001b[0m\u001b[0;34m.\u001b[0m\u001b[0m_backend\u001b[0m\u001b[0;34m.\u001b[0m\u001b[0mretrieval_context\u001b[0m\u001b[0;34m(\u001b[0m\u001b[0;34m)\u001b[0m\u001b[0;34m:\u001b[0m\u001b[0;34m\u001b[0m\u001b[0;34m\u001b[0m\u001b[0m\n\u001b[0;32m-> 1098\u001b[0;31m                 \u001b[0mself\u001b[0m\u001b[0;34m.\u001b[0m\u001b[0mretrieve\u001b[0m\u001b[0;34m(\u001b[0m\u001b[0;34m)\u001b[0m\u001b[0;34m\u001b[0m\u001b[0;34m\u001b[0m\u001b[0m\n\u001b[0m\u001b[1;32m   1099\u001b[0m             \u001b[0;31m# Make sure that we get a last message telling us we are done\u001b[0m\u001b[0;34m\u001b[0m\u001b[0;34m\u001b[0m\u001b[0;34m\u001b[0m\u001b[0m\n\u001b[1;32m   1100\u001b[0m             \u001b[0melapsed_time\u001b[0m \u001b[0;34m=\u001b[0m \u001b[0mtime\u001b[0m\u001b[0;34m.\u001b[0m\u001b[0mtime\u001b[0m\u001b[0;34m(\u001b[0m\u001b[0;34m)\u001b[0m \u001b[0;34m-\u001b[0m \u001b[0mself\u001b[0m\u001b[0;34m.\u001b[0m\u001b[0m_start_time\u001b[0m\u001b[0;34m\u001b[0m\u001b[0;34m\u001b[0m\u001b[0m\n",
            "\u001b[0;32m/usr/local/lib/python3.7/dist-packages/joblib/parallel.py\u001b[0m in \u001b[0;36mretrieve\u001b[0;34m(self)\u001b[0m\n\u001b[1;32m    973\u001b[0m             \u001b[0;32mtry\u001b[0m\u001b[0;34m:\u001b[0m\u001b[0;34m\u001b[0m\u001b[0;34m\u001b[0m\u001b[0m\n\u001b[1;32m    974\u001b[0m                 \u001b[0;32mif\u001b[0m \u001b[0mgetattr\u001b[0m\u001b[0;34m(\u001b[0m\u001b[0mself\u001b[0m\u001b[0;34m.\u001b[0m\u001b[0m_backend\u001b[0m\u001b[0;34m,\u001b[0m \u001b[0;34m'supports_timeout'\u001b[0m\u001b[0;34m,\u001b[0m \u001b[0;32mFalse\u001b[0m\u001b[0;34m)\u001b[0m\u001b[0;34m:\u001b[0m\u001b[0;34m\u001b[0m\u001b[0;34m\u001b[0m\u001b[0m\n\u001b[0;32m--> 975\u001b[0;31m                     \u001b[0mself\u001b[0m\u001b[0;34m.\u001b[0m\u001b[0m_output\u001b[0m\u001b[0;34m.\u001b[0m\u001b[0mextend\u001b[0m\u001b[0;34m(\u001b[0m\u001b[0mjob\u001b[0m\u001b[0;34m.\u001b[0m\u001b[0mget\u001b[0m\u001b[0;34m(\u001b[0m\u001b[0mtimeout\u001b[0m\u001b[0;34m=\u001b[0m\u001b[0mself\u001b[0m\u001b[0;34m.\u001b[0m\u001b[0mtimeout\u001b[0m\u001b[0;34m)\u001b[0m\u001b[0;34m)\u001b[0m\u001b[0;34m\u001b[0m\u001b[0;34m\u001b[0m\u001b[0m\n\u001b[0m\u001b[1;32m    976\u001b[0m                 \u001b[0;32melse\u001b[0m\u001b[0;34m:\u001b[0m\u001b[0;34m\u001b[0m\u001b[0;34m\u001b[0m\u001b[0m\n\u001b[1;32m    977\u001b[0m                     \u001b[0mself\u001b[0m\u001b[0;34m.\u001b[0m\u001b[0m_output\u001b[0m\u001b[0;34m.\u001b[0m\u001b[0mextend\u001b[0m\u001b[0;34m(\u001b[0m\u001b[0mjob\u001b[0m\u001b[0;34m.\u001b[0m\u001b[0mget\u001b[0m\u001b[0;34m(\u001b[0m\u001b[0;34m)\u001b[0m\u001b[0;34m)\u001b[0m\u001b[0;34m\u001b[0m\u001b[0;34m\u001b[0m\u001b[0m\n",
            "\u001b[0;32m/usr/local/lib/python3.7/dist-packages/joblib/_parallel_backends.py\u001b[0m in \u001b[0;36mwrap_future_result\u001b[0;34m(future, timeout)\u001b[0m\n\u001b[1;32m    565\u001b[0m         AsyncResults.get from multiprocessing.\"\"\"\n\u001b[1;32m    566\u001b[0m         \u001b[0;32mtry\u001b[0m\u001b[0;34m:\u001b[0m\u001b[0;34m\u001b[0m\u001b[0;34m\u001b[0m\u001b[0m\n\u001b[0;32m--> 567\u001b[0;31m             \u001b[0;32mreturn\u001b[0m \u001b[0mfuture\u001b[0m\u001b[0;34m.\u001b[0m\u001b[0mresult\u001b[0m\u001b[0;34m(\u001b[0m\u001b[0mtimeout\u001b[0m\u001b[0;34m=\u001b[0m\u001b[0mtimeout\u001b[0m\u001b[0;34m)\u001b[0m\u001b[0;34m\u001b[0m\u001b[0;34m\u001b[0m\u001b[0m\n\u001b[0m\u001b[1;32m    568\u001b[0m         \u001b[0;32mexcept\u001b[0m \u001b[0mCfTimeoutError\u001b[0m \u001b[0;32mas\u001b[0m \u001b[0me\u001b[0m\u001b[0;34m:\u001b[0m\u001b[0;34m\u001b[0m\u001b[0;34m\u001b[0m\u001b[0m\n\u001b[1;32m    569\u001b[0m             \u001b[0;32mraise\u001b[0m \u001b[0mTimeoutError\u001b[0m \u001b[0;32mfrom\u001b[0m \u001b[0me\u001b[0m\u001b[0;34m\u001b[0m\u001b[0;34m\u001b[0m\u001b[0m\n",
            "\u001b[0;32m/usr/lib/python3.7/concurrent/futures/_base.py\u001b[0m in \u001b[0;36mresult\u001b[0;34m(self, timeout)\u001b[0m\n\u001b[1;32m    428\u001b[0m                 \u001b[0;32mreturn\u001b[0m \u001b[0mself\u001b[0m\u001b[0;34m.\u001b[0m\u001b[0m__get_result\u001b[0m\u001b[0;34m(\u001b[0m\u001b[0;34m)\u001b[0m\u001b[0;34m\u001b[0m\u001b[0;34m\u001b[0m\u001b[0m\n\u001b[1;32m    429\u001b[0m \u001b[0;34m\u001b[0m\u001b[0m\n\u001b[0;32m--> 430\u001b[0;31m             \u001b[0mself\u001b[0m\u001b[0;34m.\u001b[0m\u001b[0m_condition\u001b[0m\u001b[0;34m.\u001b[0m\u001b[0mwait\u001b[0m\u001b[0;34m(\u001b[0m\u001b[0mtimeout\u001b[0m\u001b[0;34m)\u001b[0m\u001b[0;34m\u001b[0m\u001b[0;34m\u001b[0m\u001b[0m\n\u001b[0m\u001b[1;32m    431\u001b[0m \u001b[0;34m\u001b[0m\u001b[0m\n\u001b[1;32m    432\u001b[0m             \u001b[0;32mif\u001b[0m \u001b[0mself\u001b[0m\u001b[0;34m.\u001b[0m\u001b[0m_state\u001b[0m \u001b[0;32min\u001b[0m \u001b[0;34m[\u001b[0m\u001b[0mCANCELLED\u001b[0m\u001b[0;34m,\u001b[0m \u001b[0mCANCELLED_AND_NOTIFIED\u001b[0m\u001b[0;34m]\u001b[0m\u001b[0;34m:\u001b[0m\u001b[0;34m\u001b[0m\u001b[0;34m\u001b[0m\u001b[0m\n",
            "\u001b[0;32m/usr/lib/python3.7/threading.py\u001b[0m in \u001b[0;36mwait\u001b[0;34m(self, timeout)\u001b[0m\n\u001b[1;32m    294\u001b[0m         \u001b[0;32mtry\u001b[0m\u001b[0;34m:\u001b[0m    \u001b[0;31m# restore state no matter what (e.g., KeyboardInterrupt)\u001b[0m\u001b[0;34m\u001b[0m\u001b[0;34m\u001b[0m\u001b[0m\n\u001b[1;32m    295\u001b[0m             \u001b[0;32mif\u001b[0m \u001b[0mtimeout\u001b[0m \u001b[0;32mis\u001b[0m \u001b[0;32mNone\u001b[0m\u001b[0;34m:\u001b[0m\u001b[0;34m\u001b[0m\u001b[0;34m\u001b[0m\u001b[0m\n\u001b[0;32m--> 296\u001b[0;31m                 \u001b[0mwaiter\u001b[0m\u001b[0;34m.\u001b[0m\u001b[0macquire\u001b[0m\u001b[0;34m(\u001b[0m\u001b[0;34m)\u001b[0m\u001b[0;34m\u001b[0m\u001b[0;34m\u001b[0m\u001b[0m\n\u001b[0m\u001b[1;32m    297\u001b[0m                 \u001b[0mgotit\u001b[0m \u001b[0;34m=\u001b[0m \u001b[0;32mTrue\u001b[0m\u001b[0;34m\u001b[0m\u001b[0;34m\u001b[0m\u001b[0m\n\u001b[1;32m    298\u001b[0m             \u001b[0;32melse\u001b[0m\u001b[0;34m:\u001b[0m\u001b[0;34m\u001b[0m\u001b[0;34m\u001b[0m\u001b[0m\n",
            "\u001b[0;31mKeyboardInterrupt\u001b[0m: "
          ]
        }
      ],
      "source": [
        "\n",
        "mi_modelo_svm = SVC(random_state=45) # Creamos el modelo \n",
        "cv = RepeatedKFold(n_splits=5, n_repeats=3, random_state=45) # k-folds cross-validation\n",
        "\n",
        "#dicc_grid = {'hidden_layer_sizes': [(10, 10, 10), (50, 50, 50), (100, 100, 100), (100, 100, 100, 100), (100, 100, 100, 100, 100)],\n",
        "#             'alpha':[0.0001, 0.001, 0.01, 0.1, 1],\n",
        "#             'learning_rate_init': [0.0001, 0.001, 0.01, 0.1, 1]}\n",
        "\n",
        "dicc_grid = {'C': np.logspace(-5, 5, 11), # [10^-5, 10^-4, 10^-3, 10^-2, 0.1, 1, 10, 10^3, 10^4, 10^5]\n",
        "             'kernel': ['linear', 'poly', 'rbf', 'sigmoid'],\n",
        "             'gamma': np.logspace(-5, 5, 11)}\n",
        "\n",
        "\n",
        "#================================================\n",
        "\n",
        "grid = GridSearchCV(estimator=mi_modelo_svm, param_grid=dicc_grid, scoring=make_scorer(f1), cv=cv, n_jobs=-1)\n",
        "\n",
        "# Transformamos los datos de entrada:\n",
        "Xx = columnasTransformer.fit_transform(X_train)\n",
        "\n",
        "grid.fit(Xx, np.ravel(Y_train))\n",
        "\n",
        "print('Mejor valor de score:', grid.best_score_)\n",
        "print('Mejor combinación de valores encontrados de los hiperparámetros:', grid.best_params_)\n",
        "print('Métrica utilizada:', grid.scoring)\n",
        "\n",
        "#Modelo con los mejores hiperparámetros extraídos del del barrido con GridSearchCV\n",
        "mejor_modelo_svm = SVC(random_state=45,\n",
        "                            C=grid.best_params_.get('C'),\n",
        "                            kernel=grid.best_params_.get('kernel'),\n",
        "                            gamma=grid.best_params_.get('gamma'))\n",
        "\n",
        "#Guardamos los mejores hiperparámetros extraídos del barrido con GridSearchCV\n",
        "mejores_params_svm = grid.best_params_"
      ]
    },
    {
      "cell_type": "code",
      "execution_count": null,
      "metadata": {
        "id": "EsKJVWDLOxNQ"
      },
      "outputs": [],
      "source": [
        "#Modelo con los mejores hiperparámetros extraídos del del barrido con GridSearchCV\n",
        "#mejor_modelo_svm\n",
        "\n",
        "yhat_train = mejor_modelo_svm.predict(X_train)\n",
        "\n",
        "print('===============================\\nSVM Classifier:\\n===============================')\n",
        "print('ENTRENAMIENTO:')\n",
        "print(\"Confusion matrix:\\n\", confusion_matrix(Y_train, yhat_train))\n",
        "print('Accuracy: ', accuracy(Y_train, yhat_train))\n",
        "print('F1-score: ', f1(Y_train, yhat_train))\n",
        "print('Precision: ', precision(Y_train_dummy, yhat_train))\n",
        "print('Recall: ', recall(Y_train, yhat_train))"
      ]
    },
    {
      "cell_type": "code",
      "execution_count": null,
      "metadata": {
        "id": "7KXnlNzAC69Y"
      },
      "outputs": [],
      "source": []
    },
    {
      "cell_type": "markdown",
      "metadata": {
        "id": "Rv7KFq-mC7PS"
      },
      "source": [
        "# **Ejercicio-5.**\n",
        "## *Obtener además los diagramas de caja y bigote del mejor modelo con todas las métricas calculadas. Incluye tus conclusiones.*"
      ]
    },
    {
      "cell_type": "code",
      "execution_count": null,
      "metadata": {
        "id": "jaDj3kawC9B6"
      },
      "outputs": [],
      "source": [
        "None"
      ]
    },
    {
      "cell_type": "code",
      "execution_count": null,
      "metadata": {
        "id": "4tQxQROVC9Us"
      },
      "outputs": [],
      "source": []
    },
    {
      "cell_type": "markdown",
      "metadata": {
        "id": "W2S7LI0NC9wE"
      },
      "source": [
        "# **Ejercicio-6.**\n",
        "## *Verifica que el modelo no esté subentrenado o sobreentrenado mediante alguna de las gráficas de curvas de entrenamiento (aumentando la complejidad o aumentando el conjunto de entrenamiento, la que consideres más adecuada). De ser necesario, realiza los ajustes necesarios para evitar alguno de estos problemas.*"
      ]
    },
    {
      "cell_type": "markdown",
      "source": [
        "- Para este punto necesitamos primero definir la función para graficar la curva de aprendizaje. Esta la copiamos de la actividad pasada de árbol de decisión"
      ],
      "metadata": {
        "id": "uIqE_1VjuO-R"
      }
    },
    {
      "cell_type": "code",
      "source": [
        "def mi_LearningCurvePlot(train_sizes, train_scores, val_scores, eje_y):\n",
        "\n",
        "    # Argumentos de entrada de la función mi_LearningCurvePlot:\n",
        "    #      train_sizes : número de observaciones en el conjunto de entrenamiento.\n",
        "    #      train_scores : Exactitud de cada partición en el proceso de Validación-Cruzada (VC) en los datos de entrenamiento.\n",
        "    #                     La dimensión de este conjunto es (pxq) \n",
        "    #                                     donde p=\"número de particiones de manera incremental del conjunto de entrenamiento\".\n",
        "    #                                           q=\"número de particiones de VC\" * \"número de repeticiones de VC con RepitedStratifiedCV\"\n",
        "    #      val_scores : Exactitud de cada partición en el proceso de Validación-Cruzada en los datos de validación.\n",
        "    #                   Es de la misma dimensión que los train_scores. \n",
        "    # Output: la salida es el gráfico con las curvas de aprendizaje.\n",
        "\n",
        "    # Obtenemos los promedios y desviaciones estándar de cada renglón de los resultados de entrenamiento y validación\n",
        "    # La dimensión de cada uno es p=\"número de particiones de manera incremental del conjunto de entrenamiento\".\n",
        "    train_mean = np.mean(train_scores, axis=1)\n",
        "    train_std = np.std(train_scores, axis=1)\n",
        "    val_mean = np.mean(val_scores, axis=1)\n",
        "    val_std = np.std(val_scores, axis=1)\n",
        "\n",
        "    # Graficamos las curvas de aprendizaje incluyendo una región indicando la desviación estándar.\n",
        "    plt.figure(figsize=(7,6))\n",
        "    plt.plot(train_sizes, train_mean, color='blue', marker='o', markersize=5, label='Training')\n",
        "    plt.fill_between(train_sizes, train_mean + train_std, train_mean - train_std, alpha=0.1, color='blue')\n",
        "    \n",
        "    plt.plot(train_sizes, val_mean, color='red', marker='+', markersize=5, linestyle='--', label='Validation')\n",
        "    plt.fill_between(train_sizes, val_mean + val_std, val_mean - val_std, alpha=0.1, color='red')\n",
        "    \n",
        "    plt.title('Curvas de Aprendizaje')\n",
        "    plt.xlabel('Tamaño del conjunto de entrenamiento')\n",
        "    plt.ylabel(eje_y)\n",
        "    plt.grid()\n",
        "    plt.legend(loc='lower left')\n",
        "    plt.show()"
      ],
      "metadata": {
        "id": "Eucg4WtauM6i"
      },
      "execution_count": null,
      "outputs": []
    },
    {
      "cell_type": "code",
      "execution_count": null,
      "metadata": {
        "id": "x6uBleJUC_AU"
      },
      "outputs": [],
      "source": [
        "delta_train_sz = np.linspace(.05, 1, 20)\n",
        "\n",
        "    metricas = {\"f1\": make_scorer(f1)}\n",
        "\n",
        "    pipeline = Pipeline(steps=[(\"ct\", columnasTransformer), (\"m\", mejor_modelo_svm)])\n",
        "\n",
        "#    metricas = {\n",
        "#        \"accuracy\": make_scorer(accuracy),\n",
        "#        \"precision\": make_scorer(precision),\n",
        "#        \"recall\": make_scorer(recall),\n",
        "#        \"f1\": make_scorer(f1),\n",
        "#        \"gmean\": make_scorer(gmean),\n",
        "#    }\n",
        "\n",
        "    tr_sizes, tr_scores, val_scores = learning_curve(estimator = pipeline,    \n",
        "                                                        X = X_train,\n",
        "                                                        y = Y_train,\n",
        "                                                        scoring=make_scorer(f1),\n",
        "                                                        cv = cv,\n",
        "                                                        train_sizes = delta_train_sz,\n",
        "                                                        random_state=45, n_jobs=-1)\n",
        "      \n",
        "    # Obtenemos el gráfico con las curvas de aprendizaje:\n",
        "    print('---------------------------\\n','MODELO: Máquina de vector soporte (SVM) \\n---------------------------')\n",
        "    mi_LearningCurvePlot(tr_sizes, tr_scores, val_scores, 'f1-score')"
      ]
    },
    {
      "cell_type": "code",
      "execution_count": null,
      "metadata": {
        "id": "n0P_AcyjC_Dh"
      },
      "outputs": [],
      "source": []
    },
    {
      "cell_type": "markdown",
      "metadata": {
        "id": "iCNGx4TQ8CFI"
      },
      "source": [
        "# **Ejercicio-7.**\n",
        "## *Con los mejores hiperparámetros entontrados encontrar la gráfica de la curva ROC y su área bajo la curva.*"
      ]
    },
    {
      "cell_type": "code",
      "execution_count": null,
      "metadata": {
        "id": "ewvwUcJX78y1"
      },
      "outputs": [],
      "source": [
        "None"
      ]
    },
    {
      "cell_type": "code",
      "execution_count": null,
      "metadata": {
        "id": "F1aW0dQX8BLL"
      },
      "outputs": [],
      "source": []
    },
    {
      "cell_type": "markdown",
      "metadata": {
        "id": "tzQn5NR78GFg"
      },
      "source": [
        "# **Ejercicio-8.**\n",
        "## *Encontrar el valor del mejor umbral de predicción del modelo que maximice el valor de la métrica f1-score.*"
      ]
    },
    {
      "cell_type": "code",
      "execution_count": null,
      "metadata": {
        "id": "EBKcp0278IQV"
      },
      "outputs": [],
      "source": [
        "None"
      ]
    },
    {
      "cell_type": "code",
      "execution_count": null,
      "metadata": {
        "id": "vp8S0PFs8IMR"
      },
      "outputs": [],
      "source": []
    },
    {
      "cell_type": "markdown",
      "metadata": {
        "id": "mASNrZWs8JTh"
      },
      "source": [
        "# **Ejercicio-9.**\n",
        "## *Encontrar el valor del mejor umbral de predicción del modelo que maximice el valor de la métrica gmean.*"
      ]
    },
    {
      "cell_type": "code",
      "execution_count": null,
      "metadata": {
        "id": "X6HJP9hb8LCp"
      },
      "outputs": [],
      "source": [
        "None"
      ]
    },
    {
      "cell_type": "code",
      "execution_count": null,
      "metadata": {
        "id": "Xr6oe1VF8K_A"
      },
      "outputs": [],
      "source": []
    },
    {
      "cell_type": "markdown",
      "metadata": {
        "id": "VUIcDshs8MzG"
      },
      "source": [
        "# **Ejercicio-10.**\n",
        "## *Incluye tus conclusiones finales de la actividad.*"
      ]
    },
    {
      "cell_type": "markdown",
      "source": [],
      "metadata": {
        "id": "pxGPq4VcQLHo"
      }
    },
    {
      "cell_type": "markdown",
      "metadata": {
        "id": "7ql_r2G-DB_m"
      },
      "source": [
        "###**Fin de la Actividad de la semana 8.**"
      ]
    }
  ],
  "metadata": {
    "colab": {
      "collapsed_sections": [],
      "provenance": [],
      "include_colab_link": true
    },
    "kernelspec": {
      "display_name": "Python 3.9.6 64-bit",
      "language": "python",
      "name": "python3"
    },
    "language_info": {
      "codemirror_mode": {
        "name": "ipython",
        "version": 3
      },
      "file_extension": ".py",
      "mimetype": "text/x-python",
      "name": "python",
      "nbconvert_exporter": "python",
      "pygments_lexer": "ipython3",
      "version": "3.9.6"
    },
    "vscode": {
      "interpreter": {
        "hash": "11938c6bc6919ae2720b4d5011047913343b08a43b18698fd82dedb0d4417594"
      }
    }
  },
  "nbformat": 4,
  "nbformat_minor": 0
}