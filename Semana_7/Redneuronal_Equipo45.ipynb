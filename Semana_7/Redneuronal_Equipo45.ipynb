{
  "cells": [
    {
      "cell_type": "markdown",
      "metadata": {
        "id": "view-in-github",
        "colab_type": "text"
      },
      "source": [
        "<a href=\"https://colab.research.google.com/github/Edgar-IAH/IA-Grupo-45/blob/main/Semana_7/Redneuronal_Equipo45.ipynb\" target=\"_parent\"><img src=\"https://colab.research.google.com/assets/colab-badge.svg\" alt=\"Open In Colab\"/></a>"
      ]
    },
    {
      "cell_type": "markdown",
      "metadata": {
        "id": "VFj0sSM06dYa"
      },
      "source": [
        "# **Maestría en Inteligencia Artificial Aplicada**\n",
        "## **Curso: Inteligencia Artificial y Aprendizaje Automático**\n",
        "### Tecnológico de Monterrey\n",
        "### Prof Luis Eduardo Falcón Morales\n",
        "\n",
        "## **Actividad de la Semana 7**\n",
        "### **Red Neuronal Artificial - Perceptrón Multicapa : Multilayer Perceptrón (MLP)**\n"
      ]
    },
    {
      "cell_type": "markdown",
      "metadata": {
        "id": "Qgrvy0RGB9XI"
      },
      "source": [
        "**Nombres y matrículas de los integrantes del equipo:**\n",
        "\n",
        "* Eduardo Aldair Ahumada García Jurado - A01422929\n",
        "* Edgar Rodolfo Escobar Gomez - A01793900\n",
        "* Walter André Hauri Rosales - A01794237\n",
        "* Héctor Salvador Montañez Alvarez - A01332665\n",
        "* Jaime Andres Palacios Campaña - A01794023  \n",
        " \n"
      ]
    },
    {
      "cell_type": "markdown",
      "metadata": {
        "id": "7ZFHR0GWo7L0"
      },
      "source": [
        "### *Esta Tarea se deberá resolver en equipos, de acuerdo a como fueron integrados al inicio del curso.*\n",
        "### *El artículo del 2016 de Moro, Rita & Vala relacionado al presente problema lo encuentras aquí:*\n",
        "\n",
        "### https://www.semanticscholar.org/paper/predicting-social-media-performance-metrics-and-of-Moro-Rita/dec55692590820754b53c916e29bb2b42c0e5104*\n",
        "\n",
        "### *Y el conjunto de datos utilizado es el de la siguiente liga de la UCI: https://archive.ics.uci.edu/ml/datasets/Facebook+metrics*\n",
        "### *El archivo se llama dataset_Facebook.csv y contiene 500 registros y 19 columnas. El objetivo es determinar el impacto generado por un anuncio de una marca de cosméticos en Facebook, en el cual se intentaron varias variantes en la manera de mostrar el anuncio. Siguiendo el artículo, deberás considerar como predictores o variables de entrada aquellas que se indican en la Tabla 3. Por otro lado, en la Tabla 2, los autores consideran varios casos para la variable de salida, intentando determinar cuál puede ser el mejor caso para medir el éxito de la campaña. Para este ejercicio deberás considerar únicamente los siguientes tres casos como variable de salida: “Lifetime post consumers”, “Lifetime People who have liked a Page and engaged with a post” y “Likes”.*\n"
      ]
    },
    {
      "cell_type": "markdown",
      "metadata": {
        "id": "FrJ2ahMODVj1"
      },
      "source": [
        "### *En cada sección deberás incluir todas las líneas de código necesarias para responder a cada uno de los ejercicios.*"
      ]
    },
    {
      "cell_type": "code",
      "execution_count": 51,
      "metadata": {
        "id": "exXsscs-Dh-2"
      },
      "outputs": [],
      "source": [
        "# Incluye aquí todos módulos, librerías y paquetes que requieras.\n",
        "import pandas as pd\n",
        "import numpy as np\n",
        "import matplotlib.pyplot as plt\n",
        "import seaborn as sns\n",
        "from sklearn.model_selection import train_test_split, GridSearchCV\n",
        "from sklearn.pipeline import Pipeline\n",
        "from sklearn.compose import ColumnTransformer\n",
        "from sklearn.impute import SimpleImputer\n",
        "from sklearn.preprocessing import MinMaxScaler, OneHotEncoder, StandardScaler\n",
        "from sklearn.model_selection import cross_validate, learning_curve, validation_curve\n",
        "from sklearn.model_selection import RepeatedStratifiedKFold\n",
        "from sklearn.metrics import confusion_matrix, make_scorer\n",
        "from sklearn.dummy import DummyRegressor\n",
        "from sklearn.linear_model import LinearRegression\n",
        "from sklearn.ensemble import RandomForestRegressor\n",
        "from sklearn.neural_network import MLPRegressor\n",
        "from sklearn.model_selection import RepeatedKFold\n",
        "from sklearn import metrics\n",
        "from math import isnan\n",
        "from sklearn.preprocessing import FunctionTransformer, PowerTransformer\n",
        "from sklearn.preprocessing import power_transform\n"
      ]
    },
    {
      "cell_type": "markdown",
      "metadata": {
        "id": "X25brD-gQdZM"
      },
      "source": [
        "# **Ejercicio-1.**\n",
        "### *En esta tarea considera únicamente la siguiente variable de salida que se concluye que es una de las mejores en el artículo antes citado: ‘Lifetime People who have liked a Page and engaged with a post'. Renombra dicha variable como “LPE” . Como variables de entrada selecciona las 7 variables que indican los autores en la Tabla 3 del artículo citado.*"
      ]
    },
    {
      "cell_type": "code",
      "execution_count": 2,
      "metadata": {
        "colab": {
          "base_uri": "https://localhost:8080/",
          "height": 389
        },
        "id": "3nU2GuWYCy6C",
        "outputId": "fd575a21-1d76-4c59-b102-52f8646267bd"
      },
      "outputs": [
        {
          "output_type": "execute_result",
          "data": {
            "text/plain": [
              "   Page total likes    Type  Category  Post Month  Post Weekday  Post Hour  \\\n",
              "0            139441   Photo         2          12             4          3   \n",
              "1            139441  Status         2          12             3         10   \n",
              "2            139441   Photo         3          12             3          3   \n",
              "3            139441   Photo         2          12             2         10   \n",
              "4            139441   Photo         2          12             2          3   \n",
              "\n",
              "   Paid  Lifetime Post Total Reach  Lifetime Post Total Impressions  \\\n",
              "0   0.0                       2752                             5091   \n",
              "1   0.0                      10460                            19057   \n",
              "2   0.0                       2413                             4373   \n",
              "3   1.0                      50128                            87991   \n",
              "4   0.0                       7244                            13594   \n",
              "\n",
              "   Lifetime Engaged Users  Lifetime Post Consumers  \\\n",
              "0                     178                      109   \n",
              "1                    1457                     1361   \n",
              "2                     177                      113   \n",
              "3                    2211                      790   \n",
              "4                     671                      410   \n",
              "\n",
              "   Lifetime Post Consumptions  \\\n",
              "0                         159   \n",
              "1                        1674   \n",
              "2                         154   \n",
              "3                        1119   \n",
              "4                         580   \n",
              "\n",
              "   Lifetime Post Impressions by people who have liked your Page  \\\n",
              "0                                               3078              \n",
              "1                                              11710              \n",
              "2                                               2812              \n",
              "3                                              61027              \n",
              "4                                               6228              \n",
              "\n",
              "   Lifetime Post reach by people who like your Page  \\\n",
              "0                                              1640   \n",
              "1                                              6112   \n",
              "2                                              1503   \n",
              "3                                             32048   \n",
              "4                                              3200   \n",
              "\n",
              "   Lifetime People who have liked your Page and engaged with your post  \\\n",
              "0                                                119                     \n",
              "1                                               1108                     \n",
              "2                                                132                     \n",
              "3                                               1386                     \n",
              "4                                                396                     \n",
              "\n",
              "   comment    like  share  Total Interactions  \n",
              "0        4    79.0   17.0                 100  \n",
              "1        5   130.0   29.0                 164  \n",
              "2        0    66.0   14.0                  80  \n",
              "3       58  1572.0  147.0                1777  \n",
              "4       19   325.0   49.0                 393  "
            ],
            "text/html": [
              "\n",
              "  <div id=\"df-8c6de632-d32b-4c45-b3a9-a7aaaa38e63e\">\n",
              "    <div class=\"colab-df-container\">\n",
              "      <div>\n",
              "<style scoped>\n",
              "    .dataframe tbody tr th:only-of-type {\n",
              "        vertical-align: middle;\n",
              "    }\n",
              "\n",
              "    .dataframe tbody tr th {\n",
              "        vertical-align: top;\n",
              "    }\n",
              "\n",
              "    .dataframe thead th {\n",
              "        text-align: right;\n",
              "    }\n",
              "</style>\n",
              "<table border=\"1\" class=\"dataframe\">\n",
              "  <thead>\n",
              "    <tr style=\"text-align: right;\">\n",
              "      <th></th>\n",
              "      <th>Page total likes</th>\n",
              "      <th>Type</th>\n",
              "      <th>Category</th>\n",
              "      <th>Post Month</th>\n",
              "      <th>Post Weekday</th>\n",
              "      <th>Post Hour</th>\n",
              "      <th>Paid</th>\n",
              "      <th>Lifetime Post Total Reach</th>\n",
              "      <th>Lifetime Post Total Impressions</th>\n",
              "      <th>Lifetime Engaged Users</th>\n",
              "      <th>Lifetime Post Consumers</th>\n",
              "      <th>Lifetime Post Consumptions</th>\n",
              "      <th>Lifetime Post Impressions by people who have liked your Page</th>\n",
              "      <th>Lifetime Post reach by people who like your Page</th>\n",
              "      <th>Lifetime People who have liked your Page and engaged with your post</th>\n",
              "      <th>comment</th>\n",
              "      <th>like</th>\n",
              "      <th>share</th>\n",
              "      <th>Total Interactions</th>\n",
              "    </tr>\n",
              "  </thead>\n",
              "  <tbody>\n",
              "    <tr>\n",
              "      <th>0</th>\n",
              "      <td>139441</td>\n",
              "      <td>Photo</td>\n",
              "      <td>2</td>\n",
              "      <td>12</td>\n",
              "      <td>4</td>\n",
              "      <td>3</td>\n",
              "      <td>0.0</td>\n",
              "      <td>2752</td>\n",
              "      <td>5091</td>\n",
              "      <td>178</td>\n",
              "      <td>109</td>\n",
              "      <td>159</td>\n",
              "      <td>3078</td>\n",
              "      <td>1640</td>\n",
              "      <td>119</td>\n",
              "      <td>4</td>\n",
              "      <td>79.0</td>\n",
              "      <td>17.0</td>\n",
              "      <td>100</td>\n",
              "    </tr>\n",
              "    <tr>\n",
              "      <th>1</th>\n",
              "      <td>139441</td>\n",
              "      <td>Status</td>\n",
              "      <td>2</td>\n",
              "      <td>12</td>\n",
              "      <td>3</td>\n",
              "      <td>10</td>\n",
              "      <td>0.0</td>\n",
              "      <td>10460</td>\n",
              "      <td>19057</td>\n",
              "      <td>1457</td>\n",
              "      <td>1361</td>\n",
              "      <td>1674</td>\n",
              "      <td>11710</td>\n",
              "      <td>6112</td>\n",
              "      <td>1108</td>\n",
              "      <td>5</td>\n",
              "      <td>130.0</td>\n",
              "      <td>29.0</td>\n",
              "      <td>164</td>\n",
              "    </tr>\n",
              "    <tr>\n",
              "      <th>2</th>\n",
              "      <td>139441</td>\n",
              "      <td>Photo</td>\n",
              "      <td>3</td>\n",
              "      <td>12</td>\n",
              "      <td>3</td>\n",
              "      <td>3</td>\n",
              "      <td>0.0</td>\n",
              "      <td>2413</td>\n",
              "      <td>4373</td>\n",
              "      <td>177</td>\n",
              "      <td>113</td>\n",
              "      <td>154</td>\n",
              "      <td>2812</td>\n",
              "      <td>1503</td>\n",
              "      <td>132</td>\n",
              "      <td>0</td>\n",
              "      <td>66.0</td>\n",
              "      <td>14.0</td>\n",
              "      <td>80</td>\n",
              "    </tr>\n",
              "    <tr>\n",
              "      <th>3</th>\n",
              "      <td>139441</td>\n",
              "      <td>Photo</td>\n",
              "      <td>2</td>\n",
              "      <td>12</td>\n",
              "      <td>2</td>\n",
              "      <td>10</td>\n",
              "      <td>1.0</td>\n",
              "      <td>50128</td>\n",
              "      <td>87991</td>\n",
              "      <td>2211</td>\n",
              "      <td>790</td>\n",
              "      <td>1119</td>\n",
              "      <td>61027</td>\n",
              "      <td>32048</td>\n",
              "      <td>1386</td>\n",
              "      <td>58</td>\n",
              "      <td>1572.0</td>\n",
              "      <td>147.0</td>\n",
              "      <td>1777</td>\n",
              "    </tr>\n",
              "    <tr>\n",
              "      <th>4</th>\n",
              "      <td>139441</td>\n",
              "      <td>Photo</td>\n",
              "      <td>2</td>\n",
              "      <td>12</td>\n",
              "      <td>2</td>\n",
              "      <td>3</td>\n",
              "      <td>0.0</td>\n",
              "      <td>7244</td>\n",
              "      <td>13594</td>\n",
              "      <td>671</td>\n",
              "      <td>410</td>\n",
              "      <td>580</td>\n",
              "      <td>6228</td>\n",
              "      <td>3200</td>\n",
              "      <td>396</td>\n",
              "      <td>19</td>\n",
              "      <td>325.0</td>\n",
              "      <td>49.0</td>\n",
              "      <td>393</td>\n",
              "    </tr>\n",
              "  </tbody>\n",
              "</table>\n",
              "</div>\n",
              "      <button class=\"colab-df-convert\" onclick=\"convertToInteractive('df-8c6de632-d32b-4c45-b3a9-a7aaaa38e63e')\"\n",
              "              title=\"Convert this dataframe to an interactive table.\"\n",
              "              style=\"display:none;\">\n",
              "        \n",
              "  <svg xmlns=\"http://www.w3.org/2000/svg\" height=\"24px\"viewBox=\"0 0 24 24\"\n",
              "       width=\"24px\">\n",
              "    <path d=\"M0 0h24v24H0V0z\" fill=\"none\"/>\n",
              "    <path d=\"M18.56 5.44l.94 2.06.94-2.06 2.06-.94-2.06-.94-.94-2.06-.94 2.06-2.06.94zm-11 1L8.5 8.5l.94-2.06 2.06-.94-2.06-.94L8.5 2.5l-.94 2.06-2.06.94zm10 10l.94 2.06.94-2.06 2.06-.94-2.06-.94-.94-2.06-.94 2.06-2.06.94z\"/><path d=\"M17.41 7.96l-1.37-1.37c-.4-.4-.92-.59-1.43-.59-.52 0-1.04.2-1.43.59L10.3 9.45l-7.72 7.72c-.78.78-.78 2.05 0 2.83L4 21.41c.39.39.9.59 1.41.59.51 0 1.02-.2 1.41-.59l7.78-7.78 2.81-2.81c.8-.78.8-2.07 0-2.86zM5.41 20L4 18.59l7.72-7.72 1.47 1.35L5.41 20z\"/>\n",
              "  </svg>\n",
              "      </button>\n",
              "      \n",
              "  <style>\n",
              "    .colab-df-container {\n",
              "      display:flex;\n",
              "      flex-wrap:wrap;\n",
              "      gap: 12px;\n",
              "    }\n",
              "\n",
              "    .colab-df-convert {\n",
              "      background-color: #E8F0FE;\n",
              "      border: none;\n",
              "      border-radius: 50%;\n",
              "      cursor: pointer;\n",
              "      display: none;\n",
              "      fill: #1967D2;\n",
              "      height: 32px;\n",
              "      padding: 0 0 0 0;\n",
              "      width: 32px;\n",
              "    }\n",
              "\n",
              "    .colab-df-convert:hover {\n",
              "      background-color: #E2EBFA;\n",
              "      box-shadow: 0px 1px 2px rgba(60, 64, 67, 0.3), 0px 1px 3px 1px rgba(60, 64, 67, 0.15);\n",
              "      fill: #174EA6;\n",
              "    }\n",
              "\n",
              "    [theme=dark] .colab-df-convert {\n",
              "      background-color: #3B4455;\n",
              "      fill: #D2E3FC;\n",
              "    }\n",
              "\n",
              "    [theme=dark] .colab-df-convert:hover {\n",
              "      background-color: #434B5C;\n",
              "      box-shadow: 0px 1px 3px 1px rgba(0, 0, 0, 0.15);\n",
              "      filter: drop-shadow(0px 1px 2px rgba(0, 0, 0, 0.3));\n",
              "      fill: #FFFFFF;\n",
              "    }\n",
              "  </style>\n",
              "\n",
              "      <script>\n",
              "        const buttonEl =\n",
              "          document.querySelector('#df-8c6de632-d32b-4c45-b3a9-a7aaaa38e63e button.colab-df-convert');\n",
              "        buttonEl.style.display =\n",
              "          google.colab.kernel.accessAllowed ? 'block' : 'none';\n",
              "\n",
              "        async function convertToInteractive(key) {\n",
              "          const element = document.querySelector('#df-8c6de632-d32b-4c45-b3a9-a7aaaa38e63e');\n",
              "          const dataTable =\n",
              "            await google.colab.kernel.invokeFunction('convertToInteractive',\n",
              "                                                     [key], {});\n",
              "          if (!dataTable) return;\n",
              "\n",
              "          const docLinkHtml = 'Like what you see? Visit the ' +\n",
              "            '<a target=\"_blank\" href=https://colab.research.google.com/notebooks/data_table.ipynb>data table notebook</a>'\n",
              "            + ' to learn more about interactive tables.';\n",
              "          element.innerHTML = '';\n",
              "          dataTable['output_type'] = 'display_data';\n",
              "          await google.colab.output.renderOutput(dataTable, element);\n",
              "          const docLink = document.createElement('div');\n",
              "          docLink.innerHTML = docLinkHtml;\n",
              "          element.appendChild(docLink);\n",
              "        }\n",
              "      </script>\n",
              "    </div>\n",
              "  </div>\n",
              "  "
            ]
          },
          "metadata": {},
          "execution_count": 2
        }
      ],
      "source": [
        "# Cargamos la base de datos original\n",
        "# Este archivo se encuentra en nuestro repositorio github público:\n",
        "# https://raw.githubusercontent.com/Edgar-IAH/IA-Grupo-45/main/Semana_7/dataset_Facebook.csv\n",
        "\n",
        "\n",
        "datos_todos = pd.read_csv('https://raw.githubusercontent.com/Edgar-IAH/IA-Grupo-45/main/Semana_7/dataset_Facebook.csv', sep=';')\n",
        "### USAR LA SIGUIENTE LINEA UNICAMENTE CUANDO EL ARCHIVO DE DATOS SEA LOCAL\n",
        "#datos = pd.read_csv(\"dataset_Facebook.csv\")\n",
        "\n",
        "#Rápida observación a los datos\n",
        "datos_todos.head()\n"
      ]
    },
    {
      "cell_type": "markdown",
      "metadata": {
        "id": "VgESTg8Y8QHI"
      },
      "source": []
    },
    {
      "cell_type": "markdown",
      "metadata": {
        "id": "xZhr2hkECzVv"
      },
      "source": [
        "# **Ejercicio-2.**\n",
        "### *Realiza una partición de los datos con 100 datos de Prueba y el resto para entrenamiento y validación.*"
      ]
    },
    {
      "cell_type": "markdown",
      "metadata": {
        "id": "rkphwLbj8QHI"
      },
      "source": [
        "- Primero chequeamos si existen datos nulos. No esperamos ninguno ya que la base de datos que estamos usando ya ha sido limpiada anteriormente, sin embargo......"
      ]
    },
    {
      "cell_type": "code",
      "execution_count": 3,
      "metadata": {
        "colab": {
          "base_uri": "https://localhost:8080/"
        },
        "id": "rbilYoXKDwfn",
        "outputId": "0481b3e2-d39e-49db-ea1e-cd832c27c129"
      },
      "outputs": [
        {
          "output_type": "stream",
          "name": "stdout",
          "text": [
            "datos_todos.info():\n",
            "================\n",
            "<class 'pandas.core.frame.DataFrame'>\n",
            "RangeIndex: 500 entries, 0 to 499\n",
            "Data columns (total 19 columns):\n",
            " #   Column                                                               Non-Null Count  Dtype  \n",
            "---  ------                                                               --------------  -----  \n",
            " 0   Page total likes                                                     500 non-null    int64  \n",
            " 1   Type                                                                 500 non-null    object \n",
            " 2   Category                                                             500 non-null    int64  \n",
            " 3   Post Month                                                           500 non-null    int64  \n",
            " 4   Post Weekday                                                         500 non-null    int64  \n",
            " 5   Post Hour                                                            500 non-null    int64  \n",
            " 6   Paid                                                                 499 non-null    float64\n",
            " 7   Lifetime Post Total Reach                                            500 non-null    int64  \n",
            " 8   Lifetime Post Total Impressions                                      500 non-null    int64  \n",
            " 9   Lifetime Engaged Users                                               500 non-null    int64  \n",
            " 10  Lifetime Post Consumers                                              500 non-null    int64  \n",
            " 11  Lifetime Post Consumptions                                           500 non-null    int64  \n",
            " 12  Lifetime Post Impressions by people who have liked your Page         500 non-null    int64  \n",
            " 13  Lifetime Post reach by people who like your Page                     500 non-null    int64  \n",
            " 14  Lifetime People who have liked your Page and engaged with your post  500 non-null    int64  \n",
            " 15  comment                                                              500 non-null    int64  \n",
            " 16  like                                                                 499 non-null    float64\n",
            " 17  share                                                                496 non-null    float64\n",
            " 18  Total Interactions                                                   500 non-null    int64  \n",
            "dtypes: float64(3), int64(15), object(1)\n",
            "memory usage: 74.3+ KB\n"
          ]
        }
      ],
      "source": [
        "print('datos_todos.info():\\n================')\n",
        "datos_todos.info()\n"
      ]
    },
    {
      "cell_type": "markdown",
      "metadata": {
        "id": "hTtvqQ1G8QHJ"
      },
      "source": [
        "- ...observamos que las variables de entrada \"Paid\", \"share\" y \"like\" contienen un dato nulo cada una. Como las variables \"like\" y \"share\" no se utilizarán, la dejamos así. Procedemos a ajustar la variable \"Paid\""
      ]
    },
    {
      "cell_type": "code",
      "execution_count": 4,
      "metadata": {
        "colab": {
          "base_uri": "https://localhost:8080/"
        },
        "id": "cYPaNN2GEw2f",
        "outputId": "478e92e0-60b4-440e-c0c0-24d747b01c1a"
      },
      "outputs": [
        {
          "output_type": "stream",
          "name": "stdout",
          "text": [
            "<class 'pandas.core.frame.DataFrame'>\n",
            "RangeIndex: 500 entries, 0 to 499\n",
            "Data columns (total 19 columns):\n",
            " #   Column                                                               Non-Null Count  Dtype  \n",
            "---  ------                                                               --------------  -----  \n",
            " 0   Page total likes                                                     500 non-null    int64  \n",
            " 1   Type                                                                 500 non-null    object \n",
            " 2   Category                                                             500 non-null    int64  \n",
            " 3   Post Month                                                           500 non-null    int64  \n",
            " 4   Post Weekday                                                         500 non-null    int64  \n",
            " 5   Post Hour                                                            500 non-null    int64  \n",
            " 6   Paid                                                                 500 non-null    float64\n",
            " 7   Lifetime Post Total Reach                                            500 non-null    int64  \n",
            " 8   Lifetime Post Total Impressions                                      500 non-null    int64  \n",
            " 9   Lifetime Engaged Users                                               500 non-null    int64  \n",
            " 10  Lifetime Post Consumers                                              500 non-null    int64  \n",
            " 11  Lifetime Post Consumptions                                           500 non-null    int64  \n",
            " 12  Lifetime Post Impressions by people who have liked your Page         500 non-null    int64  \n",
            " 13  Lifetime Post reach by people who like your Page                     500 non-null    int64  \n",
            " 14  Lifetime People who have liked your Page and engaged with your post  500 non-null    int64  \n",
            " 15  comment                                                              500 non-null    int64  \n",
            " 16  like                                                                 499 non-null    float64\n",
            " 17  share                                                                496 non-null    float64\n",
            " 18  Total Interactions                                                   500 non-null    int64  \n",
            "dtypes: float64(3), int64(15), object(1)\n",
            "memory usage: 74.3+ KB\n"
          ]
        },
        {
          "output_type": "stream",
          "name": "stderr",
          "text": [
            "/usr/local/lib/python3.7/dist-packages/pandas/core/indexing.py:1732: SettingWithCopyWarning: \n",
            "A value is trying to be set on a copy of a slice from a DataFrame\n",
            "\n",
            "See the caveats in the documentation: https://pandas.pydata.org/pandas-docs/stable/user_guide/indexing.html#returning-a-view-versus-a-copy\n",
            "  self._setitem_single_block(indexer, value, name)\n"
          ]
        }
      ],
      "source": [
        "#Como primera medida le imputamos zero a los None o NaN:\n",
        "\n",
        "for c in range(len(datos_todos)):\n",
        "  if isnan(datos_todos.Paid[c]) or datos_todos.Paid[c] is None:\n",
        "    datos_todos.Paid.loc[c] = 0\n",
        "\n",
        "#Chequeamos que haya sido correctamente imputado\n",
        "datos_todos.info()\n",
        "\n",
        "#Se puede observar que el conteo es de 500 non-nullm lo cual era lo que se\n",
        "#buscaba\n"
      ]
    },
    {
      "cell_type": "markdown",
      "metadata": {
        "id": "faPxJJDjFEe8"
      },
      "source": [
        "Observamos que la variable Paid fué cargada por Pandas como un float64. Para aplicar la tranformación OneHot necesitamos representarla en binario o al menos como entero. Como existe un valor nulo, le imputamos cero a este valor.\n"
      ]
    },
    {
      "cell_type": "code",
      "execution_count": 5,
      "metadata": {
        "colab": {
          "base_uri": "https://localhost:8080/"
        },
        "id": "siUfkbWVG71U",
        "outputId": "d0fe7eaf-07b0-462a-b928-569603845a23"
      },
      "outputs": [
        {
          "output_type": "stream",
          "name": "stdout",
          "text": [
            "<class 'pandas.core.frame.DataFrame'>\n",
            "RangeIndex: 500 entries, 0 to 499\n",
            "Data columns (total 19 columns):\n",
            " #   Column                                                               Non-Null Count  Dtype  \n",
            "---  ------                                                               --------------  -----  \n",
            " 0   Page total likes                                                     500 non-null    int64  \n",
            " 1   Type                                                                 500 non-null    object \n",
            " 2   Category                                                             500 non-null    int64  \n",
            " 3   Post Month                                                           500 non-null    int64  \n",
            " 4   Post Weekday                                                         500 non-null    int64  \n",
            " 5   Post Hour                                                            500 non-null    int64  \n",
            " 6   Paid                                                                 500 non-null    int64  \n",
            " 7   Lifetime Post Total Reach                                            500 non-null    int64  \n",
            " 8   Lifetime Post Total Impressions                                      500 non-null    int64  \n",
            " 9   Lifetime Engaged Users                                               500 non-null    int64  \n",
            " 10  Lifetime Post Consumers                                              500 non-null    int64  \n",
            " 11  Lifetime Post Consumptions                                           500 non-null    int64  \n",
            " 12  Lifetime Post Impressions by people who have liked your Page         500 non-null    int64  \n",
            " 13  Lifetime Post reach by people who like your Page                     500 non-null    int64  \n",
            " 14  Lifetime People who have liked your Page and engaged with your post  500 non-null    int64  \n",
            " 15  comment                                                              500 non-null    int64  \n",
            " 16  like                                                                 499 non-null    float64\n",
            " 17  share                                                                496 non-null    float64\n",
            " 18  Total Interactions                                                   500 non-null    int64  \n",
            "dtypes: float64(2), int64(16), object(1)\n",
            "memory usage: 74.3+ KB\n"
          ]
        }
      ],
      "source": [
        "\n",
        "#Reclasificamos el tipo de la variable Paid a int para facilitar\n",
        "#la transformación OneHot\n",
        "datos_todos.Paid = datos_todos.Paid.astype(int)\n",
        "\n",
        "#.... y.....\n",
        "#Chequeamos de nuevo que nuestro set tenga los tipos requeridos:\n",
        "datos_todos.info()\n"
      ]
    },
    {
      "cell_type": "code",
      "execution_count": 6,
      "metadata": {
        "colab": {
          "base_uri": "https://localhost:8080/",
          "height": 206
        },
        "id": "0ulkqXVGCy97",
        "outputId": "a403d038-235b-4ba0-e25f-5c46e7f356e3"
      },
      "outputs": [
        {
          "output_type": "execute_result",
          "data": {
            "text/plain": [
              "   Page total likes    Type  Category  Post Month  Post Weekday  Post Hour  \\\n",
              "0            139441   Photo         2          12             4          3   \n",
              "1            139441  Status         2          12             3         10   \n",
              "2            139441   Photo         3          12             3          3   \n",
              "3            139441   Photo         2          12             2         10   \n",
              "4            139441   Photo         2          12             2          3   \n",
              "\n",
              "   Paid   LPC   LPE    like  \n",
              "0     0   109   119    79.0  \n",
              "1     0  1361  1108   130.0  \n",
              "2     0   113   132    66.0  \n",
              "3     1   790  1386  1572.0  \n",
              "4     0   410   396   325.0  "
            ],
            "text/html": [
              "\n",
              "  <div id=\"df-23c9eb6d-e004-4a76-90fc-9242f1cc5097\">\n",
              "    <div class=\"colab-df-container\">\n",
              "      <div>\n",
              "<style scoped>\n",
              "    .dataframe tbody tr th:only-of-type {\n",
              "        vertical-align: middle;\n",
              "    }\n",
              "\n",
              "    .dataframe tbody tr th {\n",
              "        vertical-align: top;\n",
              "    }\n",
              "\n",
              "    .dataframe thead th {\n",
              "        text-align: right;\n",
              "    }\n",
              "</style>\n",
              "<table border=\"1\" class=\"dataframe\">\n",
              "  <thead>\n",
              "    <tr style=\"text-align: right;\">\n",
              "      <th></th>\n",
              "      <th>Page total likes</th>\n",
              "      <th>Type</th>\n",
              "      <th>Category</th>\n",
              "      <th>Post Month</th>\n",
              "      <th>Post Weekday</th>\n",
              "      <th>Post Hour</th>\n",
              "      <th>Paid</th>\n",
              "      <th>LPC</th>\n",
              "      <th>LPE</th>\n",
              "      <th>like</th>\n",
              "    </tr>\n",
              "  </thead>\n",
              "  <tbody>\n",
              "    <tr>\n",
              "      <th>0</th>\n",
              "      <td>139441</td>\n",
              "      <td>Photo</td>\n",
              "      <td>2</td>\n",
              "      <td>12</td>\n",
              "      <td>4</td>\n",
              "      <td>3</td>\n",
              "      <td>0</td>\n",
              "      <td>109</td>\n",
              "      <td>119</td>\n",
              "      <td>79.0</td>\n",
              "    </tr>\n",
              "    <tr>\n",
              "      <th>1</th>\n",
              "      <td>139441</td>\n",
              "      <td>Status</td>\n",
              "      <td>2</td>\n",
              "      <td>12</td>\n",
              "      <td>3</td>\n",
              "      <td>10</td>\n",
              "      <td>0</td>\n",
              "      <td>1361</td>\n",
              "      <td>1108</td>\n",
              "      <td>130.0</td>\n",
              "    </tr>\n",
              "    <tr>\n",
              "      <th>2</th>\n",
              "      <td>139441</td>\n",
              "      <td>Photo</td>\n",
              "      <td>3</td>\n",
              "      <td>12</td>\n",
              "      <td>3</td>\n",
              "      <td>3</td>\n",
              "      <td>0</td>\n",
              "      <td>113</td>\n",
              "      <td>132</td>\n",
              "      <td>66.0</td>\n",
              "    </tr>\n",
              "    <tr>\n",
              "      <th>3</th>\n",
              "      <td>139441</td>\n",
              "      <td>Photo</td>\n",
              "      <td>2</td>\n",
              "      <td>12</td>\n",
              "      <td>2</td>\n",
              "      <td>10</td>\n",
              "      <td>1</td>\n",
              "      <td>790</td>\n",
              "      <td>1386</td>\n",
              "      <td>1572.0</td>\n",
              "    </tr>\n",
              "    <tr>\n",
              "      <th>4</th>\n",
              "      <td>139441</td>\n",
              "      <td>Photo</td>\n",
              "      <td>2</td>\n",
              "      <td>12</td>\n",
              "      <td>2</td>\n",
              "      <td>3</td>\n",
              "      <td>0</td>\n",
              "      <td>410</td>\n",
              "      <td>396</td>\n",
              "      <td>325.0</td>\n",
              "    </tr>\n",
              "  </tbody>\n",
              "</table>\n",
              "</div>\n",
              "      <button class=\"colab-df-convert\" onclick=\"convertToInteractive('df-23c9eb6d-e004-4a76-90fc-9242f1cc5097')\"\n",
              "              title=\"Convert this dataframe to an interactive table.\"\n",
              "              style=\"display:none;\">\n",
              "        \n",
              "  <svg xmlns=\"http://www.w3.org/2000/svg\" height=\"24px\"viewBox=\"0 0 24 24\"\n",
              "       width=\"24px\">\n",
              "    <path d=\"M0 0h24v24H0V0z\" fill=\"none\"/>\n",
              "    <path d=\"M18.56 5.44l.94 2.06.94-2.06 2.06-.94-2.06-.94-.94-2.06-.94 2.06-2.06.94zm-11 1L8.5 8.5l.94-2.06 2.06-.94-2.06-.94L8.5 2.5l-.94 2.06-2.06.94zm10 10l.94 2.06.94-2.06 2.06-.94-2.06-.94-.94-2.06-.94 2.06-2.06.94z\"/><path d=\"M17.41 7.96l-1.37-1.37c-.4-.4-.92-.59-1.43-.59-.52 0-1.04.2-1.43.59L10.3 9.45l-7.72 7.72c-.78.78-.78 2.05 0 2.83L4 21.41c.39.39.9.59 1.41.59.51 0 1.02-.2 1.41-.59l7.78-7.78 2.81-2.81c.8-.78.8-2.07 0-2.86zM5.41 20L4 18.59l7.72-7.72 1.47 1.35L5.41 20z\"/>\n",
              "  </svg>\n",
              "      </button>\n",
              "      \n",
              "  <style>\n",
              "    .colab-df-container {\n",
              "      display:flex;\n",
              "      flex-wrap:wrap;\n",
              "      gap: 12px;\n",
              "    }\n",
              "\n",
              "    .colab-df-convert {\n",
              "      background-color: #E8F0FE;\n",
              "      border: none;\n",
              "      border-radius: 50%;\n",
              "      cursor: pointer;\n",
              "      display: none;\n",
              "      fill: #1967D2;\n",
              "      height: 32px;\n",
              "      padding: 0 0 0 0;\n",
              "      width: 32px;\n",
              "    }\n",
              "\n",
              "    .colab-df-convert:hover {\n",
              "      background-color: #E2EBFA;\n",
              "      box-shadow: 0px 1px 2px rgba(60, 64, 67, 0.3), 0px 1px 3px 1px rgba(60, 64, 67, 0.15);\n",
              "      fill: #174EA6;\n",
              "    }\n",
              "\n",
              "    [theme=dark] .colab-df-convert {\n",
              "      background-color: #3B4455;\n",
              "      fill: #D2E3FC;\n",
              "    }\n",
              "\n",
              "    [theme=dark] .colab-df-convert:hover {\n",
              "      background-color: #434B5C;\n",
              "      box-shadow: 0px 1px 3px 1px rgba(0, 0, 0, 0.15);\n",
              "      filter: drop-shadow(0px 1px 2px rgba(0, 0, 0, 0.3));\n",
              "      fill: #FFFFFF;\n",
              "    }\n",
              "  </style>\n",
              "\n",
              "      <script>\n",
              "        const buttonEl =\n",
              "          document.querySelector('#df-23c9eb6d-e004-4a76-90fc-9242f1cc5097 button.colab-df-convert');\n",
              "        buttonEl.style.display =\n",
              "          google.colab.kernel.accessAllowed ? 'block' : 'none';\n",
              "\n",
              "        async function convertToInteractive(key) {\n",
              "          const element = document.querySelector('#df-23c9eb6d-e004-4a76-90fc-9242f1cc5097');\n",
              "          const dataTable =\n",
              "            await google.colab.kernel.invokeFunction('convertToInteractive',\n",
              "                                                     [key], {});\n",
              "          if (!dataTable) return;\n",
              "\n",
              "          const docLinkHtml = 'Like what you see? Visit the ' +\n",
              "            '<a target=\"_blank\" href=https://colab.research.google.com/notebooks/data_table.ipynb>data table notebook</a>'\n",
              "            + ' to learn more about interactive tables.';\n",
              "          element.innerHTML = '';\n",
              "          dataTable['output_type'] = 'display_data';\n",
              "          await google.colab.output.renderOutput(dataTable, element);\n",
              "          const docLink = document.createElement('div');\n",
              "          docLink.innerHTML = docLinkHtml;\n",
              "          element.appendChild(docLink);\n",
              "        }\n",
              "      </script>\n",
              "    </div>\n",
              "  </div>\n",
              "  "
            ]
          },
          "metadata": {},
          "execution_count": 6
        }
      ],
      "source": [
        "datos = datos_todos.iloc[:,[0,1,2,3,4,5,6,10,14,16]].rename(columns = {'Lifetime People who have liked your Page and engaged with your post':'LPE'})\n",
        "datos.rename(columns = {'Lifetime Post Consumers':'LPC'}, inplace = True)\n",
        "datos.head()"
      ]
    },
    {
      "cell_type": "markdown",
      "metadata": {
        "id": "LFC0krgH8QHK"
      },
      "source": [
        "- Volvemos a verificar nuestros conjuntos de datos y chequeamos de nuevo que nuestro set tenga los tipos requeridos:"
      ]
    },
    {
      "cell_type": "code",
      "execution_count": 7,
      "metadata": {
        "colab": {
          "base_uri": "https://localhost:8080/"
        },
        "id": "jlJkQOJMaP1u",
        "outputId": "631dac02-426e-4683-9c08-659ba302f1bf"
      },
      "outputs": [
        {
          "output_type": "stream",
          "name": "stdout",
          "text": [
            "datos:\n",
            "==========\n",
            "<class 'pandas.core.frame.DataFrame'>\n",
            "RangeIndex: 500 entries, 0 to 499\n",
            "Data columns (total 10 columns):\n",
            " #   Column            Non-Null Count  Dtype  \n",
            "---  ------            --------------  -----  \n",
            " 0   Page total likes  500 non-null    int64  \n",
            " 1   Type              500 non-null    object \n",
            " 2   Category          500 non-null    int64  \n",
            " 3   Post Month        500 non-null    int64  \n",
            " 4   Post Weekday      500 non-null    int64  \n",
            " 5   Post Hour         500 non-null    int64  \n",
            " 6   Paid              500 non-null    int64  \n",
            " 7   LPC               500 non-null    int64  \n",
            " 8   LPE               500 non-null    int64  \n",
            " 9   like              499 non-null    float64\n",
            "dtypes: float64(1), int64(8), object(1)\n",
            "memory usage: 39.2+ KB\n"
          ]
        }
      ],
      "source": [
        "print('datos:\\n==========')\n",
        "datos.info()"
      ]
    },
    {
      "cell_type": "markdown",
      "metadata": {
        "id": "F27PEgJD8QHK"
      },
      "source": [
        "- Re-verificamos que no haya datos nulos. like no se utilizará asi que no importa en este ejercicio"
      ]
    },
    {
      "cell_type": "code",
      "execution_count": 8,
      "metadata": {
        "colab": {
          "base_uri": "https://localhost:8080/"
        },
        "id": "8X6sXCQFrMUc",
        "outputId": "5c3e3ef7-2578-4c40-f10b-8e14e00af0c4"
      },
      "outputs": [
        {
          "output_type": "execute_result",
          "data": {
            "text/plain": [
              "Page total likes    0\n",
              "Type                0\n",
              "Category            0\n",
              "Post Month          0\n",
              "Post Weekday        0\n",
              "Post Hour           0\n",
              "Paid                0\n",
              "LPC                 0\n",
              "LPE                 0\n",
              "like                1\n",
              "dtype: int64"
            ]
          },
          "metadata": {},
          "execution_count": 8
        }
      ],
      "source": [
        "datos.isnull().sum()"
      ]
    },
    {
      "cell_type": "markdown",
      "metadata": {
        "id": "HIhT26gFlF7S"
      },
      "source": [
        "**Ahora si procedemos a hacer la partición:**"
      ]
    },
    {
      "cell_type": "code",
      "execution_count": 9,
      "metadata": {
        "colab": {
          "base_uri": "https://localhost:8080/"
        },
        "id": "kGfAoOPkC1PP",
        "outputId": "caa3c00c-0891-4a60-b038-a2680c862899"
      },
      "outputs": [
        {
          "output_type": "stream",
          "name": "stdout",
          "text": [
            "(400, 7) : dimensión de datos de entrada de entrenamiento y validación\n",
            "(100, 7) : dimensión de datos de entrada de prueba\n",
            "(400,) : dimensión de variable de salida para entrenamiento y validación\n",
            "(100,) : dimensión de variable de salida para prueba\n"
          ]
        }
      ],
      "source": [
        "# Los datos de entrada son todas las columnas excepto las tres últimas\n",
        "X = datos.iloc[:, :-3]\n",
        "\n",
        "# Las variable de salida se encuentra en las tres últimas columnas\n",
        "Y_like = datos.iloc[:, -1]\n",
        "Y_LPE = datos.iloc[:, -2]\n",
        "Y_LPC = datos.iloc[:, -3]\n",
        "\n",
        "# Asignamos la primera que vamos a trabajar, Y_LPE a Y\n",
        "Y = Y_LPE\n",
        "\n",
        "# Usamos la función train_test_split de la libreria sklearn\n",
        "# Fijamos el generador de números aleatorios con el fin de que los conjuntos\n",
        "# no cambien en cada corrida\n",
        "# 100 datos de prueba de los 500 corresponde a 100/500 = .2\n",
        "X_train, X_test, Y_train, Y_test = train_test_split(\n",
        "    X, Y, test_size=0.2, random_state=45\n",
        ")\n",
        "\n",
        "# Chequeamos el tamaño de los conjuntos obtenidos\n",
        "print(X_train.shape, \": dimensión de datos de entrada de entrenamiento y validación\")\n",
        "print(X_test.shape, \": dimensión de datos de entrada de prueba\")\n",
        "print(\n",
        "    Y_train.shape, \": dimensión de variable de salida para entrenamiento y validación\"\n",
        ")\n",
        "print(Y_test.shape, \": dimensión de variable de salida para prueba\")\n"
      ]
    },
    {
      "cell_type": "markdown",
      "metadata": {
        "id": "OWHBddXm8QHK"
      },
      "source": [
        "- Verificamos nuestros conjuntos de prueba y entrenamiento para confirmar que los cambios hechos a \"datos_todos\" se hayan tomado también en los subconjuntos:"
      ]
    },
    {
      "cell_type": "code",
      "execution_count": 10,
      "metadata": {
        "colab": {
          "base_uri": "https://localhost:8080/"
        },
        "id": "GOydw5OGC1MJ",
        "outputId": "41e5f96e-aa4e-41af-e7dd-b82942d78b52"
      },
      "outputs": [
        {
          "output_type": "stream",
          "name": "stdout",
          "text": [
            "\n",
            "X:\n",
            "==========\n",
            "<class 'pandas.core.frame.DataFrame'>\n",
            "RangeIndex: 500 entries, 0 to 499\n",
            "Data columns (total 7 columns):\n",
            " #   Column            Non-Null Count  Dtype \n",
            "---  ------            --------------  ----- \n",
            " 0   Page total likes  500 non-null    int64 \n",
            " 1   Type              500 non-null    object\n",
            " 2   Category          500 non-null    int64 \n",
            " 3   Post Month        500 non-null    int64 \n",
            " 4   Post Weekday      500 non-null    int64 \n",
            " 5   Post Hour         500 non-null    int64 \n",
            " 6   Paid              500 non-null    int64 \n",
            "dtypes: int64(6), object(1)\n",
            "memory usage: 27.5+ KB\n"
          ]
        }
      ],
      "source": [
        "# Chequeamos de nuevo que nuestro set tenga los tipos requeridos:\n",
        "print('\\nX:\\n==========')\n",
        "X.info()"
      ]
    },
    {
      "cell_type": "code",
      "execution_count": 11,
      "metadata": {
        "id": "Fy3sQb4s8QHL",
        "outputId": "89d3f9c6-87a8-4d73-a71d-785837589534",
        "colab": {
          "base_uri": "https://localhost:8080/"
        }
      },
      "outputs": [
        {
          "output_type": "stream",
          "name": "stdout",
          "text": [
            "\n",
            "X_train:\n",
            "==========\n",
            "<class 'pandas.core.frame.DataFrame'>\n",
            "Int64Index: 400 entries, 484 to 459\n",
            "Data columns (total 7 columns):\n",
            " #   Column            Non-Null Count  Dtype \n",
            "---  ------            --------------  ----- \n",
            " 0   Page total likes  400 non-null    int64 \n",
            " 1   Type              400 non-null    object\n",
            " 2   Category          400 non-null    int64 \n",
            " 3   Post Month        400 non-null    int64 \n",
            " 4   Post Weekday      400 non-null    int64 \n",
            " 5   Post Hour         400 non-null    int64 \n",
            " 6   Paid              400 non-null    int64 \n",
            "dtypes: int64(6), object(1)\n",
            "memory usage: 25.0+ KB\n"
          ]
        }
      ],
      "source": [
        "print('\\nX_train:\\n==========')\n",
        "X_train.info()"
      ]
    },
    {
      "cell_type": "code",
      "execution_count": 12,
      "metadata": {
        "id": "dF9fwp8K8QHL",
        "outputId": "0f1f9ad9-3007-4726-de84-61d714b834b0",
        "colab": {
          "base_uri": "https://localhost:8080/"
        }
      },
      "outputs": [
        {
          "output_type": "stream",
          "name": "stdout",
          "text": [
            "X_test:\n",
            "==========\n",
            "<class 'pandas.core.frame.DataFrame'>\n",
            "Int64Index: 100 entries, 204 to 138\n",
            "Data columns (total 7 columns):\n",
            " #   Column            Non-Null Count  Dtype \n",
            "---  ------            --------------  ----- \n",
            " 0   Page total likes  100 non-null    int64 \n",
            " 1   Type              100 non-null    object\n",
            " 2   Category          100 non-null    int64 \n",
            " 3   Post Month        100 non-null    int64 \n",
            " 4   Post Weekday      100 non-null    int64 \n",
            " 5   Post Hour         100 non-null    int64 \n",
            " 6   Paid              100 non-null    int64 \n",
            "dtypes: int64(6), object(1)\n",
            "memory usage: 6.2+ KB\n"
          ]
        }
      ],
      "source": [
        "print('X_test:\\n==========')\n",
        "X_test.info()"
      ]
    },
    {
      "cell_type": "markdown",
      "metadata": {
        "id": "NCunuooTC2W3"
      },
      "source": [
        "# **Ejercicio-3.**\n",
        "### *Definirás tus propias funciones de errores para este problema de regresión. Los errores que utilizarás son la raíz cuadrada del error cuadrático medio RMSE, el error absoluto medio MAE y el error porcentual absoluto medio MAPE.*"
      ]
    },
    {
      "cell_type": "code",
      "execution_count": 13,
      "metadata": {
        "id": "YXlcSWA-C4Dj"
      },
      "outputs": [],
      "source": [
        "def mi_RMSE(y, y_pred):\n",
        "  return np.sqrt(np.mean((y - y_pred)**2))\n",
        "\n",
        "def mi_MAE(y, y_pred):\n",
        "  return np.mean(np.abs(y - y_pred)) \n",
        "\n",
        "def mi_MAPE(y, y_pred):\n",
        "  return np.mean(np.abs((y - y_pred)/y)) * 100\n",
        "\n",
        "# Con funciones de Scikit-Learn\n",
        "\n",
        "# RMSE:\n",
        "# Raiz cuadrada del error cuadrático\n",
        "def RMSE(y, y_pred):\n",
        "  mse = metrics.mean_squared_error(y, y_pred)\n",
        "  return np.sqrt(mse)\n",
        "\n",
        "# MAE:\n",
        "# Error absoluto medio\n",
        "def MAE(y, y_pred):\n",
        "  return metrics.mean_absolute_error(y, y_pred) \n",
        "\n",
        "# MAPE:\n",
        "# Error porcentual absoluto\n",
        "def MAPE(y, y_pred):\n",
        "  return metrics.mean_absolute_percentage_error(y, y_pred)"
      ]
    },
    {
      "cell_type": "markdown",
      "metadata": {
        "id": "chqk9jIDC5Pq"
      },
      "source": [
        "# **Ejercicio-4.**\n",
        "### *En la página de la UCI, así como en el artículo de los autores previamente citado encuentras información en relación al significado de cada variable. Haz una análisis de tus datos y lleva a cabo las transformaciones que consideres adecuadas tanto en los datos de entrada, como en las de salida. Utiliza un Pipeline para evitar el filtrado de información.*"
      ]
    },
    {
      "cell_type": "code",
      "execution_count": 14,
      "metadata": {
        "colab": {
          "base_uri": "https://localhost:8080/",
          "height": 300
        },
        "id": "RBVSFwK4C6g9",
        "outputId": "dacbc6a1-91e3-47b8-c80c-f45b011a71c6"
      },
      "outputs": [
        {
          "output_type": "execute_result",
          "data": {
            "text/plain": [
              "       Page total likes    Category  Post Month  Post Weekday   Post Hour  \\\n",
              "count        500.000000  500.000000  500.000000    500.000000  500.000000   \n",
              "mean      123194.176000    1.880000    7.038000      4.150000    7.840000   \n",
              "std        16272.813214    0.852675    3.307936      2.030701    4.368589   \n",
              "min        81370.000000    1.000000    1.000000      1.000000    1.000000   \n",
              "25%       112676.000000    1.000000    4.000000      2.000000    3.000000   \n",
              "50%       129600.000000    2.000000    7.000000      4.000000    9.000000   \n",
              "75%       136393.000000    3.000000   10.000000      6.000000   11.000000   \n",
              "max       139441.000000    3.000000   12.000000      7.000000   23.000000   \n",
              "\n",
              "             Paid           LPC          LPE         like  \n",
              "count  500.000000    500.000000   500.000000   499.000000  \n",
              "mean     0.278000    798.772000   609.986000   177.945892  \n",
              "std      0.448462    882.505013   612.725618   323.398742  \n",
              "min      0.000000      9.000000     9.000000     0.000000  \n",
              "25%      0.000000    332.500000   291.000000    56.500000  \n",
              "50%      0.000000    551.500000   412.000000   101.000000  \n",
              "75%      1.000000    955.500000   656.250000   187.500000  \n",
              "max      1.000000  11328.000000  4376.000000  5172.000000  "
            ],
            "text/html": [
              "\n",
              "  <div id=\"df-abd4cbff-782c-4704-ab1c-41a5fa4a88a2\">\n",
              "    <div class=\"colab-df-container\">\n",
              "      <div>\n",
              "<style scoped>\n",
              "    .dataframe tbody tr th:only-of-type {\n",
              "        vertical-align: middle;\n",
              "    }\n",
              "\n",
              "    .dataframe tbody tr th {\n",
              "        vertical-align: top;\n",
              "    }\n",
              "\n",
              "    .dataframe thead th {\n",
              "        text-align: right;\n",
              "    }\n",
              "</style>\n",
              "<table border=\"1\" class=\"dataframe\">\n",
              "  <thead>\n",
              "    <tr style=\"text-align: right;\">\n",
              "      <th></th>\n",
              "      <th>Page total likes</th>\n",
              "      <th>Category</th>\n",
              "      <th>Post Month</th>\n",
              "      <th>Post Weekday</th>\n",
              "      <th>Post Hour</th>\n",
              "      <th>Paid</th>\n",
              "      <th>LPC</th>\n",
              "      <th>LPE</th>\n",
              "      <th>like</th>\n",
              "    </tr>\n",
              "  </thead>\n",
              "  <tbody>\n",
              "    <tr>\n",
              "      <th>count</th>\n",
              "      <td>500.000000</td>\n",
              "      <td>500.000000</td>\n",
              "      <td>500.000000</td>\n",
              "      <td>500.000000</td>\n",
              "      <td>500.000000</td>\n",
              "      <td>500.000000</td>\n",
              "      <td>500.000000</td>\n",
              "      <td>500.000000</td>\n",
              "      <td>499.000000</td>\n",
              "    </tr>\n",
              "    <tr>\n",
              "      <th>mean</th>\n",
              "      <td>123194.176000</td>\n",
              "      <td>1.880000</td>\n",
              "      <td>7.038000</td>\n",
              "      <td>4.150000</td>\n",
              "      <td>7.840000</td>\n",
              "      <td>0.278000</td>\n",
              "      <td>798.772000</td>\n",
              "      <td>609.986000</td>\n",
              "      <td>177.945892</td>\n",
              "    </tr>\n",
              "    <tr>\n",
              "      <th>std</th>\n",
              "      <td>16272.813214</td>\n",
              "      <td>0.852675</td>\n",
              "      <td>3.307936</td>\n",
              "      <td>2.030701</td>\n",
              "      <td>4.368589</td>\n",
              "      <td>0.448462</td>\n",
              "      <td>882.505013</td>\n",
              "      <td>612.725618</td>\n",
              "      <td>323.398742</td>\n",
              "    </tr>\n",
              "    <tr>\n",
              "      <th>min</th>\n",
              "      <td>81370.000000</td>\n",
              "      <td>1.000000</td>\n",
              "      <td>1.000000</td>\n",
              "      <td>1.000000</td>\n",
              "      <td>1.000000</td>\n",
              "      <td>0.000000</td>\n",
              "      <td>9.000000</td>\n",
              "      <td>9.000000</td>\n",
              "      <td>0.000000</td>\n",
              "    </tr>\n",
              "    <tr>\n",
              "      <th>25%</th>\n",
              "      <td>112676.000000</td>\n",
              "      <td>1.000000</td>\n",
              "      <td>4.000000</td>\n",
              "      <td>2.000000</td>\n",
              "      <td>3.000000</td>\n",
              "      <td>0.000000</td>\n",
              "      <td>332.500000</td>\n",
              "      <td>291.000000</td>\n",
              "      <td>56.500000</td>\n",
              "    </tr>\n",
              "    <tr>\n",
              "      <th>50%</th>\n",
              "      <td>129600.000000</td>\n",
              "      <td>2.000000</td>\n",
              "      <td>7.000000</td>\n",
              "      <td>4.000000</td>\n",
              "      <td>9.000000</td>\n",
              "      <td>0.000000</td>\n",
              "      <td>551.500000</td>\n",
              "      <td>412.000000</td>\n",
              "      <td>101.000000</td>\n",
              "    </tr>\n",
              "    <tr>\n",
              "      <th>75%</th>\n",
              "      <td>136393.000000</td>\n",
              "      <td>3.000000</td>\n",
              "      <td>10.000000</td>\n",
              "      <td>6.000000</td>\n",
              "      <td>11.000000</td>\n",
              "      <td>1.000000</td>\n",
              "      <td>955.500000</td>\n",
              "      <td>656.250000</td>\n",
              "      <td>187.500000</td>\n",
              "    </tr>\n",
              "    <tr>\n",
              "      <th>max</th>\n",
              "      <td>139441.000000</td>\n",
              "      <td>3.000000</td>\n",
              "      <td>12.000000</td>\n",
              "      <td>7.000000</td>\n",
              "      <td>23.000000</td>\n",
              "      <td>1.000000</td>\n",
              "      <td>11328.000000</td>\n",
              "      <td>4376.000000</td>\n",
              "      <td>5172.000000</td>\n",
              "    </tr>\n",
              "  </tbody>\n",
              "</table>\n",
              "</div>\n",
              "      <button class=\"colab-df-convert\" onclick=\"convertToInteractive('df-abd4cbff-782c-4704-ab1c-41a5fa4a88a2')\"\n",
              "              title=\"Convert this dataframe to an interactive table.\"\n",
              "              style=\"display:none;\">\n",
              "        \n",
              "  <svg xmlns=\"http://www.w3.org/2000/svg\" height=\"24px\"viewBox=\"0 0 24 24\"\n",
              "       width=\"24px\">\n",
              "    <path d=\"M0 0h24v24H0V0z\" fill=\"none\"/>\n",
              "    <path d=\"M18.56 5.44l.94 2.06.94-2.06 2.06-.94-2.06-.94-.94-2.06-.94 2.06-2.06.94zm-11 1L8.5 8.5l.94-2.06 2.06-.94-2.06-.94L8.5 2.5l-.94 2.06-2.06.94zm10 10l.94 2.06.94-2.06 2.06-.94-2.06-.94-.94-2.06-.94 2.06-2.06.94z\"/><path d=\"M17.41 7.96l-1.37-1.37c-.4-.4-.92-.59-1.43-.59-.52 0-1.04.2-1.43.59L10.3 9.45l-7.72 7.72c-.78.78-.78 2.05 0 2.83L4 21.41c.39.39.9.59 1.41.59.51 0 1.02-.2 1.41-.59l7.78-7.78 2.81-2.81c.8-.78.8-2.07 0-2.86zM5.41 20L4 18.59l7.72-7.72 1.47 1.35L5.41 20z\"/>\n",
              "  </svg>\n",
              "      </button>\n",
              "      \n",
              "  <style>\n",
              "    .colab-df-container {\n",
              "      display:flex;\n",
              "      flex-wrap:wrap;\n",
              "      gap: 12px;\n",
              "    }\n",
              "\n",
              "    .colab-df-convert {\n",
              "      background-color: #E8F0FE;\n",
              "      border: none;\n",
              "      border-radius: 50%;\n",
              "      cursor: pointer;\n",
              "      display: none;\n",
              "      fill: #1967D2;\n",
              "      height: 32px;\n",
              "      padding: 0 0 0 0;\n",
              "      width: 32px;\n",
              "    }\n",
              "\n",
              "    .colab-df-convert:hover {\n",
              "      background-color: #E2EBFA;\n",
              "      box-shadow: 0px 1px 2px rgba(60, 64, 67, 0.3), 0px 1px 3px 1px rgba(60, 64, 67, 0.15);\n",
              "      fill: #174EA6;\n",
              "    }\n",
              "\n",
              "    [theme=dark] .colab-df-convert {\n",
              "      background-color: #3B4455;\n",
              "      fill: #D2E3FC;\n",
              "    }\n",
              "\n",
              "    [theme=dark] .colab-df-convert:hover {\n",
              "      background-color: #434B5C;\n",
              "      box-shadow: 0px 1px 3px 1px rgba(0, 0, 0, 0.15);\n",
              "      filter: drop-shadow(0px 1px 2px rgba(0, 0, 0, 0.3));\n",
              "      fill: #FFFFFF;\n",
              "    }\n",
              "  </style>\n",
              "\n",
              "      <script>\n",
              "        const buttonEl =\n",
              "          document.querySelector('#df-abd4cbff-782c-4704-ab1c-41a5fa4a88a2 button.colab-df-convert');\n",
              "        buttonEl.style.display =\n",
              "          google.colab.kernel.accessAllowed ? 'block' : 'none';\n",
              "\n",
              "        async function convertToInteractive(key) {\n",
              "          const element = document.querySelector('#df-abd4cbff-782c-4704-ab1c-41a5fa4a88a2');\n",
              "          const dataTable =\n",
              "            await google.colab.kernel.invokeFunction('convertToInteractive',\n",
              "                                                     [key], {});\n",
              "          if (!dataTable) return;\n",
              "\n",
              "          const docLinkHtml = 'Like what you see? Visit the ' +\n",
              "            '<a target=\"_blank\" href=https://colab.research.google.com/notebooks/data_table.ipynb>data table notebook</a>'\n",
              "            + ' to learn more about interactive tables.';\n",
              "          element.innerHTML = '';\n",
              "          dataTable['output_type'] = 'display_data';\n",
              "          await google.colab.output.renderOutput(dataTable, element);\n",
              "          const docLink = document.createElement('div');\n",
              "          docLink.innerHTML = docLinkHtml;\n",
              "          element.appendChild(docLink);\n",
              "        }\n",
              "      </script>\n",
              "    </div>\n",
              "  </div>\n",
              "  "
            ]
          },
          "metadata": {},
          "execution_count": 14
        }
      ],
      "source": [
        "# Iniciamos el análisis con una simple descripción de nuestros datos\n",
        "datos.describe()"
      ]
    },
    {
      "cell_type": "markdown",
      "metadata": {
        "id": "5i4wNYsiAeZS"
      },
      "source": [
        "Histogramas de los datos sin ninguna transformación: \n",
        "\n",
        "En esta sección creamos los histogramas sin transformaciones para darnos una idea de las distribuciones\n"
      ]
    },
    {
      "cell_type": "code",
      "execution_count": 15,
      "metadata": {
        "colab": {
          "base_uri": "https://localhost:8080/",
          "height": 882
        },
        "id": "7KXnlNzAC69Y",
        "outputId": "7142c08d-fde2-4870-a0ee-23b876a5b1b7"
      },
      "outputs": [
        {
          "output_type": "display_data",
          "data": {
            "text/plain": [
              "<Figure size 1224x864 with 12 Axes>"
            ],
            "image/png": "[encoded data removed]"
          },
          "metadata": {}
        }
      ],
      "source": [
        "# En esta sección creamos los histogramas sin transformaciones\n",
        "# para darnos una idea de las distribuciones\n",
        "\n",
        "# Tamaño de la gráfica\n",
        "sns.set(rc={\"figure.figsize\": (17, 12)})\n",
        "# Crea el espacio de trabajo como una matriz de 3 x 4 para acomodar las 10 variables\n",
        "fig, axes = plt.subplots(3, 4)\n",
        "# Espacio entre gráficas\n",
        "fig.tight_layout(h_pad=5.0)\n",
        "\n",
        "# Grafica los histogramas uno por uno\n",
        "for k in range(0, 10):\n",
        "    # Posición sequencial. Van de 1 a 10 en este caso (no 0)\n",
        "    plt.subplot(3, 4, k + 1)\n",
        "    # Número de valores diferentes.\n",
        "    buckets = datos.iloc[:, k].nunique()\n",
        "    # Si el número de valores es mayor de 10, declara el número de buckets como 15\n",
        "    # si es <=10 usa ese número de buckets\n",
        "    if buckets > 10:\n",
        "        buckets = 15\n",
        "    # Crea el histograma\n",
        "    datos.iloc[:, k].hist(bins=buckets)\n",
        "    # Nombra el eje X de acuerdo a la columna que está siendo visualizada\n",
        "    plt.xlabel(datos.columns[k])\n",
        "# Despliega la figura con las 10 gráficas\n",
        "plt.show()\n"
      ]
    },
    {
      "cell_type": "code",
      "execution_count": 34,
      "metadata": {
        "id": "95d9DLLgJlvf"
      },
      "outputs": [],
      "source": [
        "# Ahora clasificamos las variables de una manera similar a como lo hicimos en la actividad\n",
        "# de la semana pasada y usamos la misma imputación:\n",
        "# imputacion por moda - Categóricos\n",
        "datos_cat = [\n",
        "    \"Type\",\n",
        "    \"Category\",\n",
        "    \"Post Month\",\n",
        "    \"Post Weekday\",\n",
        "    \"Post Hour\",\n",
        "]\n",
        "\n",
        "# imputacion por moda - Ordinales\n",
        "datos_ord = []\n",
        "\n",
        "# imputacion por media/mediana - Numéricos\n",
        "datos_num = [\"Page total likes\"]\n",
        "\n",
        "# imputacion por moda - Binarios\n",
        "datos_bin = [\"Paid\"]\n"
      ]
    },
    {
      "cell_type": "code",
      "source": [
        "# Mediante histogramas revisamos la distribución de frecuencias para encontrar \n",
        "# cual daría la mejor simetria pos-transformación de las variable numéricas\n",
        "\n",
        "sns.set(rc={\"figure.figsize\": (20, 10)})\n",
        "fig, axes = plt.subplots(4, 2)\n",
        "\n",
        "datos_num_transf = datos_num + [\"LPE\"]\n",
        "\n",
        "for k in range(0, 2):\n",
        "\n",
        "    # Datos originales ---------------------------------------------------------\n",
        "    plt.subplot(4, 2, k + 1)\n",
        "    Transf0 = (\n",
        "        datos[datos_num_transf[k]].values.reshape(-1, 1)\n",
        "    )  # Se asigna a Transf0 los valores de cada variable \"k\" sin transformar.\n",
        "    plt.hist(\n",
        "        Transf0, bins=20\n",
        "    )  # Se agrega el comando para obtener el histograma de Transf0 con 20 barras (bins).\n",
        "    plt.xlabel(datos_num_transf[k])\n",
        "    if k == 0:\n",
        "        plt.ylabel(\"Originales\")\n",
        "\n",
        "    # Datos transformados con raíz cuadrada ------------------------------------\n",
        "    plt.subplot(4, 2, k + 3)\n",
        "    Transf1 = np.sqrt(\n",
        "        Transf0\n",
        "    )  # Se debe aplica la raíz cuadrada a los valores de cada variable \"k\" sin transformar.\n",
        "    plt.hist(\n",
        "        Transf1, bins=20\n",
        "    )  # Se agrega el comando para obtener el histograma de Transf1 con 20 barras (bins).\n",
        "    plt.xlabel(datos_num_transf[k])\n",
        "    if k == 0:\n",
        "        plt.ylabel(\"Raíz Cuadrada\")\n",
        "\n",
        "    # Datos transformados con logaritmo natural --------------------------------\n",
        "    plt.subplot(4, 2, k + 5)\n",
        "    Transf2 = np.log(\n",
        "        Transf0\n",
        "    )  # Se aplica el logaritmo natural a los valores de cada variable \"k\" sin transformar.\n",
        "    plt.hist(\n",
        "        Transf2, bins=20\n",
        "    )  # Se agrega el comando para obtener el histograma de Transf2 con 20 barras (bins).\n",
        "    plt.xlabel(datos_num_transf[k])\n",
        "    if k == 0:\n",
        "        plt.ylabel(\"Logaritmo\")\n",
        "\n",
        "    # Datos transformados con Box-Cox ------------------------------------------\n",
        "    plt.subplot(4, 2, k + 7)\n",
        "    Transf4 = power_transform(\n",
        "        (datos[datos_num_transf[k]].values.reshape(-1, 1)), method=\"box-cox\"\n",
        "    )  #  En esta línea se debe aplicar la transformación Box-Cox a los valores de cada variable \"k\" sin transformar.\n",
        "    plt.hist(\n",
        "        Transf4, bins=20\n",
        "    )  #  En este línea agrega el comando para obtener el histograma de Transf4 con 20 barras (bins).\n",
        "    plt.xlabel(datos_num_transf[k])\n",
        "    if k == 0:\n",
        "        plt.ylabel(\"Box-Cox\")"
      ],
      "metadata": {
        "id": "lod3nJ7DUOBI",
        "outputId": "e4e882e5-0611-4d7d-c295-0216e2266992",
        "colab": {
          "base_uri": "https://localhost:8080/",
          "height": 611
        }
      },
      "execution_count": 48,
      "outputs": [
        {
          "output_type": "display_data",
          "data": {
            "text/plain": [
              "<Figure size 1440x720 with 8 Axes>"
            ],
            "image/png": "[encoded data removed]"
          },
          "metadata": {}
        }
      ]
    },
    {
      "cell_type": "code",
      "execution_count": 17,
      "metadata": {
        "colab": {
          "base_uri": "https://localhost:8080/"
        },
        "id": "4uSjUpwfJvq_",
        "outputId": "90253786-b727-45c0-aabd-46e75d33093b"
      },
      "outputs": [
        {
          "output_type": "stream",
          "name": "stdout",
          "text": [
            "Photo     426\n",
            "Status     45\n",
            "Link       22\n",
            "Video       7\n",
            "Name: Type, dtype: int64 \n",
            "\n",
            "1    215\n",
            "3    155\n",
            "2    130\n",
            "Name: Category, dtype: int64 \n",
            "\n",
            "10    60\n",
            "7     52\n",
            "12    50\n",
            "4     50\n",
            "6     49\n",
            "11    45\n",
            "5     37\n",
            "9     36\n",
            "3     36\n",
            "8     34\n",
            "2     26\n",
            "1     25\n",
            "Name: Post Month, dtype: int64 \n",
            "\n",
            "7    82\n",
            "6    81\n",
            "4    72\n",
            "1    68\n",
            "5    67\n",
            "2    66\n",
            "3    64\n",
            "Name: Post Weekday, dtype: int64 \n",
            "\n",
            "3     105\n",
            "10     78\n",
            "13     52\n",
            "11     44\n",
            "2      39\n",
            "4      35\n",
            "9      30\n",
            "12     29\n",
            "6      16\n",
            "7      13\n",
            "5      13\n",
            "14     13\n",
            "8      12\n",
            "15      6\n",
            "1       4\n",
            "18      3\n",
            "17      3\n",
            "23      1\n",
            "22      1\n",
            "20      1\n",
            "19      1\n",
            "16      1\n",
            "Name: Post Hour, dtype: int64 \n",
            "\n",
            "0    361\n",
            "1    139\n",
            "Name: Paid, dtype: int64 \n",
            "\n"
          ]
        }
      ],
      "source": [
        "#Observamos los conteos por cada clase para todas las variables\n",
        "for c in datos_cat+datos_bin:\n",
        "    print(datos[c].value_counts(),'\\n')"
      ]
    },
    {
      "cell_type": "code",
      "execution_count": 18,
      "metadata": {
        "colab": {
          "base_uri": "https://localhost:8080/"
        },
        "id": "Se2EfulrpVvF",
        "outputId": "11a64c2b-99c2-4ca9-cbce-c83da03a8227"
      },
      "outputs": [
        {
          "output_type": "stream",
          "name": "stdout",
          "text": [
            "136393    18\n",
            "124940    17\n",
            "129600    15\n",
            "139441    14\n",
            "138895    14\n",
            "          ..\n",
            "93470      1\n",
            "127082     1\n",
            "93684      1\n",
            "133451     1\n",
            "93577      1\n",
            "Name: Page total likes, Length: 90, dtype: int64\n"
          ]
        }
      ],
      "source": [
        "# Observamos las numéricas también\n",
        "for c in datos_num:\n",
        "    print(datos[c].value_counts())"
      ]
    },
    {
      "cell_type": "markdown",
      "metadata": {
        "id": "qACTibFH8QHM"
      },
      "source": [
        "- Observación de los valores únicos en todas las columnas. Comparamos con los valores registrados en el artículo de la referencia (Moro et all, 2016) con el fin de asegurarnos de que no haya valores en los datos que no estén documentados Resultado negativo, lo cual es bueno. Todos los valores usados en los datos están referenciados en artículo de la referencia (Moro et all, 2016)"
      ]
    },
    {
      "cell_type": "code",
      "execution_count": 19,
      "metadata": {
        "colab": {
          "base_uri": "https://localhost:8080/"
        },
        "id": "_qLPSTJppr8-",
        "outputId": "7f789986-a1c6-43da-af5a-1f59a16068ef"
      },
      "outputs": [
        {
          "output_type": "stream",
          "name": "stdout",
          "text": [
            "Type\n",
            "['Photo' 'Status' 'Link' 'Video']\n",
            "-----\n",
            "Category\n",
            "[2 3 1]\n",
            "-----\n",
            "Post Month\n",
            "[12 11 10  9  8  7  6  5  4  3  2  1]\n",
            "-----\n",
            "Post Weekday\n",
            "[4 3 2 1 7 6 5]\n",
            "-----\n",
            "Post Hour\n",
            "[ 3 10  9  5 12 11  2  4  8 13  7  6  1 14 23 22 15 20 19 18 17 16]\n",
            "-----\n",
            "Paid\n",
            "[0 1]\n",
            "-----\n"
          ]
        }
      ],
      "source": [
        "for v in datos_cat+datos_bin: #datos.columns:\n",
        "    print(v)\n",
        "    print(datos[v].unique())\n",
        "    print(\"-----\")"
      ]
    },
    {
      "cell_type": "code",
      "execution_count": 52,
      "metadata": {
        "id": "nGnpsdVGriey"
      },
      "outputs": [],
      "source": [
        "# En esta sección de código definimos las transformaciones\n",
        "# ========================================================\n",
        "# Transformaciones a factores categóricos y binarios de entrada:\n",
        "\n",
        "cat_pipeline = Pipeline(\n",
        "    steps=[\n",
        "        (\"impModa\", SimpleImputer(strategy=\"most_frequent\")),\n",
        "        (\"OneHotE\", OneHotEncoder(handle_unknown=\"ignore\")),\n",
        "    ]\n",
        ")\n",
        "cat_pipeline_nombres = datos_cat\n",
        "\n",
        "\n",
        "# Transformaciones a factores numéricos de entrada:\n",
        "num_pipeline = Pipeline(\n",
        "    steps=[\n",
        "        (\"impMediana\", SimpleImputer(strategy=\"median\")),\n",
        "        (\"Box-Cox\", PowerTransformer(method=\"box-cox\")),\n",
        "        #(\"log\", FunctionTransformer(np.log)),\n",
        "        (\"escalaNum\", MinMaxScaler()),\n",
        "    ]\n",
        ")\n",
        "num_pipeline_nombres = datos_num\n",
        "\n",
        "bin_pipeline_nombres = datos_bin\n",
        "\n",
        "# Conjuntamos las transformaciones que se aplicarán a los datos de entrada:\n",
        "columnasTransformer = ColumnTransformer(\n",
        "    transformers=[\n",
        "        (\"catpipe\", cat_pipeline, cat_pipeline_nombres + bin_pipeline_nombres),\n",
        "        (\"numpipe\", num_pipeline, num_pipeline_nombres),\n",
        "    ],\n",
        "    remainder=\"passthrough\",\n",
        ")\n",
        "\n"
      ]
    },
    {
      "cell_type": "markdown",
      "metadata": {
        "id": "Rv7KFq-mC7PS"
      },
      "source": [
        "# **Ejercicio-5.**\n",
        "### *Utiliza la función Dummy para modelos de regresión de scikit-learn con el conjunto que tienes de datos de entrenamiento y validación. Para ello particiónalos en 100 para validación y 300 para entrenamiento. Encuentra los errores RMSE, MAE y MAPE para los conjuntos de entrenamiento y validación. Estos serán tus errores máximos que deberás tomar como referencia en el resto de la actividad. Consulta su documentación correspondiente: https://scikit-learn.org/stable/modules/generated/sklearn.dummy.DummyRegressor.html*"
      ]
    },
    {
      "cell_type": "code",
      "execution_count": 53,
      "metadata": {
        "id": "W0Elmu4B8QHN",
        "outputId": "2011716b-ef35-439a-b4fb-f6650b4825ef",
        "colab": {
          "base_uri": "https://localhost:8080/"
        }
      },
      "outputs": [
        {
          "output_type": "stream",
          "name": "stdout",
          "text": [
            "300 100 300 100\n",
            "===============================\n",
            "DUMMY REGRESSOR:\n",
            "===============================\n",
            "ENTRENAMIENTO:\n",
            "mi_RMSE:  635.7190669802364\n",
            "mi_MAE:  413.9421111111111\n",
            "mi_MAPE:  147.02971794996438\n",
            "PRUEBA:\n",
            "mi_RMSE:  401.31498013129016\n",
            "mi_MAE:  311.9316666666666\n",
            "mi_MAPE:  160.83273003884744\n"
          ]
        }
      ],
      "source": [
        "X_val_dummy, X_train_dummy, Y_val_dummy, Y_train_dummy = train_test_split(X_train, Y_train, train_size=0.25, random_state=45)   # realizamos la partición.\n",
        "\n",
        "print(len(X_train_dummy), len(X_val_dummy), len(Y_train_dummy), len(Y_val_dummy))\n",
        "\n",
        "modeloDummy = DummyRegressor() # estrategia default es mean, siempre se predice la media de los datos de entrenamiento\n",
        "\n",
        "modeloDummy.fit(X_train_dummy, Y_train_dummy)       # entrenamos con los conjuntos de entrenamiento\n",
        "\n",
        "yhat_train_dummy = modeloDummy.predict(X_train_dummy)\n",
        "yhat_val_dummy = modeloDummy.predict(X_val_dummy)\n",
        "\n",
        "print('===============================\\nDUMMY REGRESSOR:\\n===============================')\n",
        "print('ENTRENAMIENTO:')\n",
        "print('mi_RMSE: ', mi_RMSE(Y_train_dummy, yhat_train_dummy))\n",
        "print('mi_MAE: ', mi_MAE(Y_train_dummy, yhat_train_dummy))\n",
        "print('mi_MAPE: ', mi_MAPE(Y_train_dummy, yhat_train_dummy))\n",
        "\n",
        "print('PRUEBA:')\n",
        "print('mi_RMSE: ', mi_RMSE(Y_val_dummy, yhat_val_dummy))\n",
        "print('mi_MAE: ', mi_MAE(Y_val_dummy, yhat_val_dummy))\n",
        "print('mi_MAPE: ', mi_MAPE(Y_val_dummy, yhat_val_dummy))\n"
      ]
    },
    {
      "cell_type": "markdown",
      "metadata": {
        "id": "W2S7LI0NC9wE"
      },
      "source": [
        "# **Ejercicio-6.**\n",
        "### *Usando los modelos de regresión lineal múltiple, el bosque aleatorio y el perceptrón multicapa con sus valores predeterminados, lleva a cabo su entrenamiento con repeticiones de validación cruzada (RepeatedKFold) y desplegando los errores RMSE, MAE y MAPE. Recuerda evitar el filtrado de información usando los datos que obtuviste en el ejercicio 2. Incluye las conclusiones sobre el mejor modelo encontrado en esta primera aproximación. En particular ¿hay alguno sobreentrenado o subentrenado? NOTA: Recuerda que puedes aumentar en dado caso el número máximo de iteraciones para que todos los modelos converjan.*\n"
      ]
    },
    {
      "cell_type": "code",
      "execution_count": 22,
      "metadata": {
        "id": "zCTWbvMk8QHN"
      },
      "outputs": [],
      "source": [
        "def createModels():\n",
        "    return {\n",
        "        \"LR\": LinearRegression(), # Multiple linear regression\n",
        "        \"RF\": RandomForestRegressor(), # Random forest regression\n",
        "        \"MLP\": MLPRegressor(max_iter=5000), # Multi-layer perceptron (must increase number of iterations)\n",
        "    }"
      ]
    },
    {
      "cell_type": "code",
      "execution_count": 57,
      "metadata": {
        "id": "P1KuYQSh8QHN",
        "outputId": "b94b7d33-fc0c-4bed-e94b-b95fe15eb377",
        "colab": {
          "base_uri": "https://localhost:8080/"
        }
      },
      "outputs": [
        {
          "output_type": "stream",
          "name": "stdout",
          "text": [
            "===============================\n",
            "LR:\n",
            "===============================\n",
            "ENTRENAMIENTO:\n",
            "mean RMSE: 442.248 (18.0821)\n",
            "mean MAE: 279.284 (12.3108)\n",
            "mean MAPE: 100.501 (5.9010)\n",
            "\n",
            "VALIDACION (interna al método de validación cruzada):\n",
            "mean RMSE: 500.387 (65.7568)\n",
            "mean MAE: 321.808 (32.9223)\n",
            "mean MAPE: 116.414 (41.4096)\n",
            "\n",
            "===============================\n",
            "RF:\n",
            "===============================\n",
            "ENTRENAMIENTO:\n",
            "mean RMSE: 199.941 (8.7109)\n",
            "mean MAE: 120.455 (5.5323)\n",
            "mean MAPE: 40.493 (3.3628)\n",
            "\n",
            "VALIDACION (interna al método de validación cruzada):\n",
            "mean RMSE: 525.388 (77.0192)\n",
            "mean MAE: 319.187 (38.7358)\n",
            "mean MAPE: 105.240 (39.8742)\n",
            "\n",
            "===============================\n",
            "MLP:\n",
            "===============================\n",
            "ENTRENAMIENTO:\n",
            "mean RMSE: 396.459 (25.3248)\n",
            "mean MAE: 248.203 (17.5121)\n",
            "mean MAPE: 88.344 (6.3747)\n",
            "\n",
            "VALIDACION (interna al método de validación cruzada):\n",
            "mean RMSE: 500.187 (69.7555)\n",
            "mean MAE: 318.904 (35.9008)\n",
            "mean MAPE: 112.946 (42.6044)\n",
            "\n"
          ]
        }
      ],
      "source": [
        "models = createModels() # Instantiate models\n",
        "cv = RepeatedKFold(n_splits=5, n_repeats=3, random_state=45) # k-folds cross-validation\n",
        "\n",
        "# Metrics to evaluate model\n",
        "metrics = {\n",
        "    \"RMSE\": make_scorer(mi_RMSE),\n",
        "    \"MAE\": make_scorer(mi_MAE),\n",
        "    \"MAPE\": make_scorer(mi_MAPE),\n",
        "}\n",
        "\n",
        "results = {}\n",
        "\n",
        "# Iterate over models\n",
        "for name, model in models.items():\n",
        "    pipeline = Pipeline(steps=[(\"ct\", columnasTransformer), (\"m\", model)]) # make pipeline with this model\n",
        "    print(f'===============================\\n{name}:\\n===============================')\n",
        "    scores = cross_validate(pipeline, X_train, Y_train, scoring=metrics, cv=cv, return_train_score=True, n_jobs=-1)\n",
        "    results[name] = scores # Add scores to results for this model\n",
        "\n",
        "    print('ENTRENAMIENTO:')\n",
        "    print('mean RMSE: %.3f (%.4f)\\nmean MAE: %.3f (%.4f)\\nmean MAPE: %.3f (%.4f)\\n' % (\n",
        "                                                                          np.mean(scores['train_RMSE']),\n",
        "                                                                          np.std(scores['train_RMSE']),\n",
        "                                                                          np.mean(scores['train_MAE']),\n",
        "                                                                          np.std(scores['train_MAE']), \n",
        "                                                                          np.mean(scores['train_MAPE']),\n",
        "                                                                          np.std(scores['train_MAPE']),\n",
        "                                                                          ))\n",
        "    \n",
        "    print('VALIDACION (interna al método de validación cruzada):')\n",
        "    print('mean RMSE: %.3f (%.4f)\\nmean MAE: %.3f (%.4f)\\nmean MAPE: %.3f (%.4f)\\n' % (\n",
        "                                                                          np.mean(scores['test_RMSE']),\n",
        "                                                                          np.std(scores['test_RMSE']),\n",
        "                                                                          np.mean(scores['test_MAE']),\n",
        "                                                                          np.std(scores['test_MAE']), \n",
        "                                                                          np.mean(scores['test_MAPE']),\n",
        "                                                                          np.std(scores['test_MAPE']),\n",
        "                                                                          ))\n",
        "    "
      ]
    },
    {
      "cell_type": "markdown",
      "metadata": {
        "id": "iCNGx4TQ8CFI"
      },
      "source": [
        "#**Ejercicio-7.**\n",
        "###*Obtener los diagramas de caja y bigote para los errores MAPE de los conjuntos de validación obtenidos. En particular compara estos primeros resultados de MAPE con el mejor resultado que encuentran los autores del artículo citado al inicio. Incluye tus conclusiones.*"
      ]
    },
    {
      "cell_type": "code",
      "execution_count": 26,
      "metadata": {
        "id": "ewvwUcJX78y1"
      },
      "outputs": [],
      "source": [
        "None"
      ]
    },
    {
      "cell_type": "code",
      "execution_count": 26,
      "metadata": {
        "id": "F1aW0dQX8BLL"
      },
      "outputs": [],
      "source": []
    },
    {
      "cell_type": "markdown",
      "metadata": {
        "id": "tzQn5NR78GFg"
      },
      "source": [
        "#**Ejercicio-8.**\n",
        "###*Usando una búsqueda de malla con validación cruzada (GridSearchCV), busca los mejores hiperparámetros para el modelo MLP. Al menos deberás realizar la búsqueda en los hiperparámetros “hidden_layer_sizes”, “alpha” y “learning_rate_init”. Además aplica la validación cruzada con repeticiones (RepeatedKFold). Muestra los mejores hiperparámetros encontrados.*"
      ]
    },
    {
      "cell_type": "code",
      "execution_count": 27,
      "metadata": {
        "id": "EBKcp0278IQV"
      },
      "outputs": [],
      "source": [
        "None"
      ]
    },
    {
      "cell_type": "code",
      "execution_count": 27,
      "metadata": {
        "id": "vp8S0PFs8IMR"
      },
      "outputs": [],
      "source": []
    },
    {
      "cell_type": "markdown",
      "metadata": {
        "id": "mASNrZWs8JTh"
      },
      "source": [
        "#**Ejercicio-9.**\n",
        "###*Con los mejores valores de los hiperparámetros encontrados realiza un análisis de la importancia de los factores. Muestra un diagrama de barras de los resultados e incluye tus conclusiones.*"
      ]
    },
    {
      "cell_type": "code",
      "execution_count": 28,
      "metadata": {
        "id": "X6HJP9hb8LCp"
      },
      "outputs": [],
      "source": [
        "None"
      ]
    },
    {
      "cell_type": "code",
      "execution_count": 28,
      "metadata": {
        "id": "Xr6oe1VF8K_A"
      },
      "outputs": [],
      "source": []
    },
    {
      "cell_type": "markdown",
      "metadata": {
        "id": "VUIcDshs8MzG"
      },
      "source": [
        "#**Ejercicio-10.**\n",
        "###*Repite el ejercicio 8 y 9 para el modelo de bosque aleatorio para buscar sus mejores hiperparámetros (realiza la búsqueda con aquellos hiperparámetros que consideres más adecuados) y usando el conjunto de Prueba. Y realiza igualmente el análisis de importancia de factores con este modelo con un diagrama de barras.*"
      ]
    },
    {
      "cell_type": "code",
      "execution_count": 29,
      "metadata": {
        "id": "-YiSnt9t8RfN",
        "outputId": "bb3bca95-d4a5-46c0-cfd8-e940b30b47ac",
        "colab": {
          "base_uri": "https://localhost:8080/"
        }
      },
      "outputs": [
        {
          "output_type": "stream",
          "name": "stdout",
          "text": [
            "Mejor valor de RMSE obtenido con la mejor combinación: 552.3196858934504\n",
            "Mejor combinación de valores encontrados de los hiperparámetros: {'ccp_alpha': 0.0, 'criterion': 'poisson', 'max_depth': 17, 'min_samples_split': 2}\n",
            "Métrica utilizada: make_scorer(mi_RMSE)\n"
          ]
        }
      ],
      "source": [
        "mi_modelo_RF = RandomForestRegressor()\n",
        "#ccp_alpha, criterion, max_depth, min_samples_split y class_weight\n",
        "\n",
        "dicc_grid = {'ccp_alpha':[0.0, 0.0001, 0.001, 0.01, 0.1],\n",
        "             'criterion':[\"squared_error\", \"absolute_error\", \"poisson\"],\n",
        "             'max_depth':range(1,21,2),\n",
        "             'min_samples_split':range(2, 12, 2),\n",
        "            }\n",
        "#================================================\n",
        "\n",
        "grid = GridSearchCV(estimator=mi_modelo_RF, param_grid=dicc_grid, cv=cv, scoring=make_scorer(mi_RMSE),n_jobs=-1)\n",
        "\n",
        "# Transformamos los datos de entrada:\n",
        "Xx = columnasTransformer.fit_transform(X_train)\n",
        "# Llevamos a cabo el proceso de entrenamiento con validación-cruzada y búsqueda de malla\n",
        "\n",
        "grid.fit(Xx, np.ravel(Y_train))\n",
        "print('Mejor valor de RMSE obtenido con la mejor combinación:', grid.best_score_)\n",
        "print('Mejor combinación de valores encontrados de los hiperparámetros:', grid.best_params_)\n",
        "print('Métrica utilizada:', grid.scoring)"
      ]
    },
    {
      "cell_type": "code",
      "execution_count": 30,
      "metadata": {
        "id": "kaQbk9h-8QHO",
        "outputId": "84d22b14-f54a-404a-89fa-c25f6c0f3793",
        "colab": {
          "base_uri": "https://localhost:8080/"
        }
      },
      "outputs": [
        {
          "output_type": "stream",
          "name": "stdout",
          "text": [
            "PRUEBA:\n",
            "RMSE: 660.722\n",
            "MAE: 388.427\n",
            "MAPE: 123.859\n",
            "\n"
          ]
        }
      ],
      "source": [
        "#Modelo con los mejores hiperparámetros extraídos del del barrido con GridSearchCV\n",
        "mejor_modelo_RF = RandomForestRegressor(ccp_alpha=grid.best_params_.get('ccp_alpha'),\n",
        "                                criterion=grid.best_params_.get('criterion'),\n",
        "                                max_depth=grid.best_params_.get('max_depth'),\n",
        "                                min_samples_split=grid.best_params_.get('min_samples_split'),\n",
        "                                )\n",
        "\n",
        "#Guardamos los mejores hiperparámetros extraídos del barrido con GridSearchCV\n",
        "mejores_params_RF = grid.best_params_\n",
        "\n",
        "\n",
        "# Results over test set\n",
        "print('PRUEBA:')\n",
        "\n",
        "# Fit best model and test it\n",
        "pipe = Pipeline(steps=[(\"ct\", columnasTransformer), (\"m\", mejor_modelo_RF)]) # make pipeline with this model\n",
        "pipe.fit(X_train, Y_train)\n",
        "\n",
        "predictions = pipe.predict(X_test) # Compute predictions over test set\n",
        "print('RMSE: %.3f\\nMAE: %.3f\\nMAPE: %.3f\\n' % (\n",
        "    mi_RMSE(Y_test, predictions),\n",
        "    mi_MAE(Y_test, predictions),\n",
        "    mi_MAPE(Y_test, predictions),\n",
        "))"
      ]
    },
    {
      "cell_type": "code",
      "execution_count": 30,
      "metadata": {
        "id": "Inkq5YQe8PED"
      },
      "outputs": [],
      "source": []
    },
    {
      "cell_type": "markdown",
      "metadata": {
        "id": "5LJl6oql8Pc8"
      },
      "source": [
        "#**Ejercicio-11.**\n",
        "###*Repite el ejercicio 8 y 9 para el modelo de regresión lineal múltiple para buscar sus mejores hiperparámetros (realiza la búsqueda con aquellos hiperparámetros que consideres más adecuados) y usando el conjunto de Prueba. Y realiza igualmente el análisis de importancia de factores con este modelo con un diagrama de barras.*\n"
      ]
    },
    {
      "cell_type": "code",
      "execution_count": 31,
      "metadata": {
        "id": "0lKNJNIt8N88",
        "outputId": "a8ecddf3-46ac-4d7d-8516-e81296c70b47",
        "colab": {
          "base_uri": "https://localhost:8080/"
        }
      },
      "outputs": [
        {
          "output_type": "stream",
          "name": "stdout",
          "text": [
            "Mejor valor de RMSE obtenido con la mejor combinación: 499.2855496249251\n",
            "Mejor combinación de valores encontrados de los hiperparámetros: {'fit_intercept': True}\n",
            "Métrica utilizada: make_scorer(mi_RMSE)\n"
          ]
        }
      ],
      "source": [
        "mi_modelo_LR = LinearRegression()\n",
        "# LinearRegression().get_params().keys() = copy_X, fit_intercept, n_jobs, normalize, positive\n",
        "\n",
        "dicc_grid = {'fit_intercept': [True, False], \n",
        "            #'normalize': [True, False], # Deprecated and replaced by StandarScaler\n",
        "            #'positive': [True, False], # Make values goes to inf\n",
        "            }\n",
        "#================================================\n",
        "\n",
        "grid = GridSearchCV(estimator=mi_modelo_LR, param_grid=dicc_grid, cv=cv, scoring=make_scorer(mi_RMSE),n_jobs=-1)\n",
        "\n",
        "# Transformamos los datos de entrada:\n",
        "Xx = columnasTransformer.fit_transform(X_train)\n",
        "# Llevamos a cabo el proceso de entrenamiento con validación-cruzada y búsqueda de malla\n",
        "\n",
        "grid.fit(Xx, np.ravel(Y_train))\n",
        "print('Mejor valor de RMSE obtenido con la mejor combinación:', grid.best_score_)\n",
        "print('Mejor combinación de valores encontrados de los hiperparámetros:', grid.best_params_)\n",
        "print('Métrica utilizada:', grid.scoring)"
      ]
    },
    {
      "cell_type": "code",
      "execution_count": 32,
      "metadata": {
        "id": "tV9z4t-h8QHP",
        "outputId": "7a3c711c-654e-4f73-b578-8ba0bff4f6b9",
        "colab": {
          "base_uri": "https://localhost:8080/"
        }
      },
      "outputs": [
        {
          "output_type": "stream",
          "name": "stdout",
          "text": [
            "PRUEBA:\n",
            "RMSE: 562.044\n",
            "MAE: 340.831\n",
            "MAPE: 105.604\n",
            "\n"
          ]
        }
      ],
      "source": [
        "#Modelo con los mejores hiperparámetros extraídos del del barrido con GridSearchCV\n",
        "mejor_modelo_LR = LinearRegression(fit_intercept=grid.best_params_.get('fit_intercept'))\n",
        "\n",
        "#Guardamos los mejores hiperparámetros extraídos del barrido con GridSearchCV\n",
        "mejores_params_LR = grid.best_params_\n",
        "\n",
        "# Results over test set\n",
        "print('PRUEBA:')\n",
        "\n",
        "# Fit best model and test it\n",
        "pipe = Pipeline(steps=[(\"ct\", columnasTransformer), (\"m\", mejor_modelo_LR)]) # make pipeline with this model\n",
        "pipe.fit(X_train, Y_train)\n",
        "\n",
        "predictions = pipe.predict(X_test) # Compute predictions over test set\n",
        "print('RMSE: %.3f\\nMAE: %.3f\\nMAPE: %.3f\\n' % (\n",
        "    mi_RMSE(Y_test, predictions),\n",
        "    mi_MAE(Y_test, predictions),\n",
        "    mi_MAPE(Y_test, predictions),\n",
        "))"
      ]
    },
    {
      "cell_type": "code",
      "execution_count": 32,
      "metadata": {
        "id": "2iRA78ZC8Rbm"
      },
      "outputs": [],
      "source": []
    },
    {
      "cell_type": "markdown",
      "metadata": {
        "id": "IKW72uyk8Sbc"
      },
      "source": [
        "#**Ejercicio-12.**\n",
        "###*Compara tus resultados con los obtenidos por los autores del artículo de Moro-Rita-Vala con respecto a MAPE. Incluye tus conclusiones finales de la actividad.*"
      ]
    },
    {
      "cell_type": "code",
      "execution_count": 33,
      "metadata": {
        "id": "gwpz77W38Uq0"
      },
      "outputs": [],
      "source": [
        "None"
      ]
    },
    {
      "cell_type": "code",
      "execution_count": 33,
      "metadata": {
        "id": "8v8HL02W8UmW"
      },
      "outputs": [],
      "source": []
    },
    {
      "cell_type": "markdown",
      "metadata": {
        "id": "Lef4KNQxqIAn"
      },
      "source": [
        "Sadangi, S., (21 de Julio de 2022). How to Deal With Files in Google Colab: Everything You Need to Know. Neptune Labs. https://neptune.ai/blog/google-colab-dealing-with-files\n",
        "\n",
        "Géron, A. (2022). Hands-On Machine Learning with Scikit-Learn, Keras, and TensorFlow. O’Reilly Media, Inc.\n",
        "\n",
        "Adicionar (Moro, 2016)\n",
        "\n",
        "scikit-learn.org. (s.f.). sklearn.model_selection.GridSearchCV scikit-learn.org. https://scikit-learn.org/stable/modules/generated/sklearn.model_selection.GridSearchCV.html\n",
        "\n",
        "scikit-learn.org. (s.f.). sklearn.dummy.DummyRegressor scikit-learn.org. https://scikit-learn.org/stable/modules/generated/sklearn.dummy.DummyRegressor.html\n",
        "\n",
        "\n",
        "\n"
      ]
    },
    {
      "cell_type": "markdown",
      "metadata": {
        "id": "7ql_r2G-DB_m"
      },
      "source": [
        "###**Fin de la Actividad de la semana 7.**"
      ]
    }
  ],
  "metadata": {
    "colab": {
      "collapsed_sections": [],
      "provenance": [],
      "include_colab_link": true
    },
    "kernelspec": {
      "display_name": "Python 3.10.6 64-bit",
      "language": "python",
      "name": "python3"
    },
    "language_info": {
      "codemirror_mode": {
        "name": "ipython",
        "version": 3
      },
      "file_extension": ".py",
      "mimetype": "text/x-python",
      "name": "python",
      "nbconvert_exporter": "python",
      "pygments_lexer": "ipython3",
      "version": "3.10.6"
    },
    "vscode": {
      "interpreter": {
        "hash": "916dbcbb3f70747c44a77c7bcd40155683ae19c65e1c03b4aa3499c5328201f1"
      }
    }
  },
  "nbformat": 4,
  "nbformat_minor": 0
}